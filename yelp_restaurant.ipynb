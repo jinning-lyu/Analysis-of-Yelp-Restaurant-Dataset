{
  "nbformat": 4,
  "nbformat_minor": 0,
  "metadata": {
    "colab": {
      "name": "yelp restaurant.ipynb",
      "provenance": [],
      "collapsed_sections": [
        "qxU-lMl5W7xJ",
        "-ZLAds0ipvMz",
        "pZaSSSS2VA_r",
        "RcQ63bOlGA8s"
      ]
    },
    "kernelspec": {
      "name": "python3",
      "display_name": "Python 3"
    }
  },
  "cells": [
    {
      "cell_type": "markdown",
      "metadata": {
        "id": "CltWddZ0Vmf2"
      },
      "source": [
        "\n",
        "\n",
        "# Installation"
      ]
    },
    {
      "cell_type": "code",
      "metadata": {
        "colab": {
          "base_uri": "https://localhost:8080/"
        },
        "id": "C1fJB3fSti2B",
        "outputId": "1d96801d-bddb-4110-9f08-9aaed6ea6518"
      },
      "source": [
        "!pip install pyspark"
      ],
      "execution_count": null,
      "outputs": [
        {
          "output_type": "stream",
          "text": [
            "Requirement already satisfied: pyspark in /usr/local/lib/python3.6/dist-packages (3.0.1)\n",
            "Requirement already satisfied: py4j==0.10.9 in /usr/local/lib/python3.6/dist-packages (from pyspark) (0.10.9)\n"
          ],
          "name": "stdout"
        }
      ]
    },
    {
      "cell_type": "code",
      "metadata": {
        "id": "rNCJEdh_uL2T"
      },
      "source": [
        "from pyspark import SparkContext, SparkConf"
      ],
      "execution_count": null,
      "outputs": []
    },
    {
      "cell_type": "code",
      "metadata": {
        "id": "H1r3gg_AunfS"
      },
      "source": [
        "from pyspark.sql import SparkSession\n",
        "spark = SparkSession.builder.appName('readJSON').getOrCreate()"
      ],
      "execution_count": null,
      "outputs": []
    },
    {
      "cell_type": "code",
      "metadata": {
        "id": "AkQO9pVjRSE7"
      },
      "source": [
        "from pyspark.sql.functions import *\n",
        "import pandas as pd"
      ],
      "execution_count": null,
      "outputs": []
    },
    {
      "cell_type": "code",
      "metadata": {
        "colab": {
          "base_uri": "https://localhost:8080/"
        },
        "id": "8-m7CUSHuvPw",
        "outputId": "43908898-14ed-4b75-ee46-46cb9863d436"
      },
      "source": [
        "from google.colab import drive\n",
        "drive.mount('/content/drive')\n",
        "%cd '/content/drive/Shared drives/CS 631 Project/'"
      ],
      "execution_count": null,
      "outputs": [
        {
          "output_type": "stream",
          "text": [
            "Drive already mounted at /content/drive; to attempt to forcibly remount, call drive.mount(\"/content/drive\", force_remount=True).\n",
            "/content/drive/Shared drives/CS 631 Project\n"
          ],
          "name": "stdout"
        }
      ]
    },
    {
      "cell_type": "markdown",
      "metadata": {
        "id": "qxU-lMl5W7xJ"
      },
      "source": [
        "\n",
        "\n",
        "# Preliminary Data Analysis"
      ]
    },
    {
      "cell_type": "code",
      "metadata": {
        "colab": {
          "base_uri": "https://localhost:8080/"
        },
        "id": "iaDzCAQaXZC1",
        "outputId": "d39fd306-ef1a-4f4a-a2bc-c01a5180b0ca"
      },
      "source": [
        "business = spark.read.json(\"/content/drive/Shared drives/CS 631 Project/yelp_academic_dataset_business.json\")\n",
        "business.cache()\n",
        "review = spark.read.json(\"/content/drive/Shared drives/CS 631 Project/yelp_academic_dataset_review.json\")\n",
        "review.cache()"
      ],
      "execution_count": null,
      "outputs": [
        {
          "output_type": "execute_result",
          "data": {
            "text/plain": [
              "DataFrame[business_id: string, cool: bigint, date: string, funny: bigint, review_id: string, stars: double, text: string, useful: bigint, user_id: string]"
            ]
          },
          "metadata": {
            "tags": []
          },
          "execution_count": 6
        }
      ]
    },
    {
      "cell_type": "code",
      "metadata": {
        "id": "g3gipRZYantW"
      },
      "source": [
        "split_col = split(business['categories'], ', ')\n",
        "new_business = business.withColumn('category1', split_col.getItem(0)).withColumn('category2', split_col.getItem(1)).withColumn('category3', split_col.getItem(2)).drop(\"categories\")\n",
        "restaurant = new_business.filter(new_business.category1 == \"Restaurants\")\n",
        "restaurant.cache()\n",
        "restaurant.createOrReplaceTempView(\"restaurant\")"
      ],
      "execution_count": null,
      "outputs": []
    },
    {
      "cell_type": "code",
      "metadata": {
        "colab": {
          "base_uri": "https://localhost:8080/"
        },
        "id": "qmuZnKQbcYDG",
        "outputId": "9dad6d0c-4690-48e3-d26a-c1f2be41d4ca"
      },
      "source": [
        "restaurant.printSchema()"
      ],
      "execution_count": null,
      "outputs": [
        {
          "output_type": "stream",
          "text": [
            "root\n",
            " |-- address: string (nullable = true)\n",
            " |-- attributes: struct (nullable = true)\n",
            " |    |-- AcceptsInsurance: string (nullable = true)\n",
            " |    |-- AgesAllowed: string (nullable = true)\n",
            " |    |-- Alcohol: string (nullable = true)\n",
            " |    |-- Ambience: string (nullable = true)\n",
            " |    |-- BYOB: string (nullable = true)\n",
            " |    |-- BYOBCorkage: string (nullable = true)\n",
            " |    |-- BestNights: string (nullable = true)\n",
            " |    |-- BikeParking: string (nullable = true)\n",
            " |    |-- BusinessAcceptsBitcoin: string (nullable = true)\n",
            " |    |-- BusinessAcceptsCreditCards: string (nullable = true)\n",
            " |    |-- BusinessParking: string (nullable = true)\n",
            " |    |-- ByAppointmentOnly: string (nullable = true)\n",
            " |    |-- Caters: string (nullable = true)\n",
            " |    |-- CoatCheck: string (nullable = true)\n",
            " |    |-- Corkage: string (nullable = true)\n",
            " |    |-- DietaryRestrictions: string (nullable = true)\n",
            " |    |-- DogsAllowed: string (nullable = true)\n",
            " |    |-- DriveThru: string (nullable = true)\n",
            " |    |-- GoodForDancing: string (nullable = true)\n",
            " |    |-- GoodForKids: string (nullable = true)\n",
            " |    |-- GoodForMeal: string (nullable = true)\n",
            " |    |-- HairSpecializesIn: string (nullable = true)\n",
            " |    |-- HappyHour: string (nullable = true)\n",
            " |    |-- HasTV: string (nullable = true)\n",
            " |    |-- Music: string (nullable = true)\n",
            " |    |-- NoiseLevel: string (nullable = true)\n",
            " |    |-- Open24Hours: string (nullable = true)\n",
            " |    |-- OutdoorSeating: string (nullable = true)\n",
            " |    |-- RestaurantsAttire: string (nullable = true)\n",
            " |    |-- RestaurantsCounterService: string (nullable = true)\n",
            " |    |-- RestaurantsDelivery: string (nullable = true)\n",
            " |    |-- RestaurantsGoodForGroups: string (nullable = true)\n",
            " |    |-- RestaurantsPriceRange2: string (nullable = true)\n",
            " |    |-- RestaurantsReservations: string (nullable = true)\n",
            " |    |-- RestaurantsTableService: string (nullable = true)\n",
            " |    |-- RestaurantsTakeOut: string (nullable = true)\n",
            " |    |-- Smoking: string (nullable = true)\n",
            " |    |-- WheelchairAccessible: string (nullable = true)\n",
            " |    |-- WiFi: string (nullable = true)\n",
            " |-- business_id: string (nullable = true)\n",
            " |-- city: string (nullable = true)\n",
            " |-- hours: struct (nullable = true)\n",
            " |    |-- Friday: string (nullable = true)\n",
            " |    |-- Monday: string (nullable = true)\n",
            " |    |-- Saturday: string (nullable = true)\n",
            " |    |-- Sunday: string (nullable = true)\n",
            " |    |-- Thursday: string (nullable = true)\n",
            " |    |-- Tuesday: string (nullable = true)\n",
            " |    |-- Wednesday: string (nullable = true)\n",
            " |-- is_open: long (nullable = true)\n",
            " |-- latitude: double (nullable = true)\n",
            " |-- longitude: double (nullable = true)\n",
            " |-- name: string (nullable = true)\n",
            " |-- postal_code: string (nullable = true)\n",
            " |-- review_count: long (nullable = true)\n",
            " |-- stars: double (nullable = true)\n",
            " |-- state: string (nullable = true)\n",
            " |-- category1: string (nullable = true)\n",
            " |-- category2: string (nullable = true)\n",
            " |-- category3: string (nullable = true)\n",
            "\n"
          ],
          "name": "stdout"
        }
      ]
    },
    {
      "cell_type": "markdown",
      "metadata": {
        "id": "-ZLAds0ipvMz"
      },
      "source": [
        "# Simple Recommender"
      ]
    },
    {
      "cell_type": "code",
      "metadata": {
        "id": "gQyTR6sMj5zG"
      },
      "source": [
        "#take Q = 40\n",
        "#score=p+5(1-exp(−q/Q)) where p is stars and q is review count\n",
        "top_100 = spark.sql(\"\"\"select name, stars, review_count, float(stars)+5*(1-exp(-int(review_count)/40)) as score, address, city, state, business_id from restaurant order by score DESC\"\"\")"
      ],
      "execution_count": null,
      "outputs": []
    },
    {
      "cell_type": "code",
      "metadata": {
        "colab": {
          "base_uri": "https://localhost:8080/"
        },
        "id": "oaMGdS3IrPwd",
        "outputId": "8f28fadb-fd67-4962-b6fb-d9e3ee15c4eb"
      },
      "source": [
        "top_100.show(100)"
      ],
      "execution_count": null,
      "outputs": [
        {
          "output_type": "stream",
          "text": [
            "+--------------------+-----+------------+-----------------+--------------------+--------------+-----+--------------------+\n",
            "|                name|stars|review_count|            score|             address|          city|state|         business_id|\n",
            "+--------------------+-----+------------+-----------------+--------------------+--------------+-----+--------------------+\n",
            "|        Brew Tea Bar|  5.0|        1827|             10.0|7380 S Rainbow Bl...|     Las Vegas|   NV|IhNASEZ3XnBHmuuVn...|\n",
            "|     Cocina Madrigal|  5.0|        1107|9.999999999995214|      4044 S 16th St|       Phoenix|   AZ|9MVKjEMN5T59uzG1x...|\n",
            "|Green Corner Rest...|  5.0|         858|9.999999997582574|1038 W Southern A...|          Mesa|   AZ|16d3BlncEyCTzb0Gx...|\n",
            "|              Karved|  5.0|         651|9.999999572607091|3957 S Maryland Pkwy|     Las Vegas|   NV|cePE3rCuUOVSCCAHS...|\n",
            "|Not Your Typical ...|  5.0|         645|9.999999503440284|1166 South Gilber...|       Gilbert|   AZ|52yWGkwnrQXIjvuMj...|\n",
            "|       Baretto Caffe|  5.0|         317|9.998192050750848| 1262 Don Mills Road|       Toronto|   ON|g6AFW-zY0wDvBl9U8...|\n",
            "|Water Grill - Las...|  5.0|         294|9.996787038198221|3500 Las Vegas Bl...|     Las Vegas|   NV|sVjL9DQ8hYW_pS-jp...|\n",
            "|Lip Smacking Food...|  5.0|         286|9.996075679593446|3635 Las Vegas Bl...|     Las Vegas|   NV|iBPyahdJRP5y0t25f...|\n",
            "|Kiss Pollos Estil...|  5.0|         234|9.985600504209557|    306 W Yavapai St|       Phoenix|   AZ|mss-LiOfL1vtoNo3W...|\n",
            "|Los Olivos Ristor...|  5.0|         222| 9.98056271378262|3759 E Desert Inn Rd|     Las Vegas|   NV|AN0bWhisCf6LN9eHZ...|\n",
            "|Frank's New York ...|  5.0|         214|9.976259245002943|    2301 W Orange Dr|       Phoenix|   AZ|y5bQlEMCMnYba9I5X...|\n",
            "|      Pollos LaChuya|  5.0|         193|9.959867230648024|2706 E University Dr|          Mesa|   AZ|02hhtAO83rZBU1hfl...|\n",
            "|Soup & Sausage Bi...|  5.0|         172|9.932157204938996|      13240 N 7th St|       Phoenix|   AZ|U5Ow3ffmrG4MmTZLK...|\n",
            "|               Munch|  5.0|         160| 9.90842180555633|      28500 Miles Rd|         Solon|   OH|3z70db5MNhCBPpIaR...|\n",
            "|UK Pho Vietnamese...|  5.0|         154|9.893601317808114|     6228 N 43rd Ave|      Glendale|   AZ|uVbmY-muD5oi6Pzu-...|\n",
            "|City Square Deli ...|  5.0|         150|9.882411270719954|22601 N 19th Ave,...|       Phoenix|   AZ|_MI20v3QRDrCVXgpz...|\n",
            "|  Koi Poke - Arcadia|  5.0|         144|9.863381387763537|4280 E Indian Sch...|       Phoenix|   AZ|O4kYogia0fbF85pCX...|\n",
            "|Abugida Ethiopian...|  5.0|         141|9.852740963154464|    3007 Central Ave|     Charlotte|   NC|sHIG0hjQHoxal9a1z...|\n",
            "|         Phat Snackz|  5.0|         135|9.828909408441671|5081 N Rainbow, S...|     Las Vegas|   NV|KT0oPlAkcMdBcEUl_...|\n",
            "|   Shawarma Brothers|  5.0|         134|9.824578229495774|    1808 Portage Trl|Cuyahoga Falls|   OH|QqVfWRqOO_exljN8I...|\n",
            "|            Tastybox|  5.0|         127|  9.7910294795754|        621 N 7th St|       Phoenix|   AZ|KDh82ODr4adz9ck6l...|\n",
            "|El Charro Hipster...|  5.0|         122|9.763205378044296|1325 Grand Ave, S...|       Phoenix|   AZ|5pEQwYimyfp5wpeud...|\n",
            "|         Garlic Yuzu|  5.0|         117| 9.73167654043635|7250 S Durango Dr...|     Las Vegas|   NV|7nxsac89cWovMTcj5...|\n",
            "|        Zeal Burgers|  5.0|         103| 9.61923088600695|    1926 Weston Road|       Toronto|   ON|JB8-8TtNYX-vLqN7c...|\n",
            "|     King's  Sausage|  5.0|         102|9.609591669994234|                    |    Las  Vegas|   NV|7RR1rbyEKKo2G-RAC...|\n",
            "|        Pick N' Roll|  5.0|         101|9.599708436066397|9120 Talking Stic...|    Scottsdale|   AZ|l7Bab_ySoDlB-dxo6...|\n",
            "| Khao Thai and Sushi|  5.0|          95|9.534927553946684|10855 N Frank Llo...|    Scottsdale|   AZ|7GQXb0LAqXz0JGUg0...|\n",
            "|    Pizza By Biaggio|  5.0|          93| 9.51108277974325|    1690 W Sunset Rd|     Henderson|   NV|OL5PM89gezlpjTJda...|\n",
            "|Yardbird Southern...|  4.5|        4828|              9.5|3355 Las Vegas Bl...|     Las Vegas|   NV|faPVqws-x-5k2CQKD...|\n",
            "|       Cornish Pasty|  4.5|        1688|              9.5|960 W University ...|         Tempe|   AZ|wl0QZqAzr1DelslQ0...|\n",
            "|Gordon Ramsay Hel...|  4.5|        4672|              9.5|3570 S Las Vegas ...|     Las Vegas|   NV|vHz2RLtfUMVRPFmd7...|\n",
            "|                Cibo|  4.5|        2164|              9.5|       603 N 5th Ave|       Phoenix|   AZ|9a3DrZvpYxVs3k_qw...|\n",
            "|    Earl of Sandwich|  4.5|        5232|              9.5|3667 Las Vegas Bl...|     Las Vegas|   NV|DkYS3arLOhA8si5uU...|\n",
            "|The Cowfish Sushi...|  4.5|        1791|              9.5|4310 Sharon Rd, S...|     Charlotte|   NC|RAh9WCQAuocM7hYM5...|\n",
            "|  Midwood Smokehouse|  4.5|        1764|              9.5|    1401 Central Ave|     Charlotte|   NC|RVQE2Z2uky4c0-njF...|\n",
            "|Juan's Flaming Fa...|  4.5|        2101|              9.5|9640 W Tropicana,...|     Las Vegas|   NV|SVGApDPNdpFlEjwRQ...|\n",
            "|Butters Pancakes ...|  4.5|        1705|              9.5|8300 N Hayden Rd,...|    Scottsdale|   AZ|Iq7NqQD-sESu3vr9i...|\n",
            "|           Egg Works|  4.5|        2301|              9.5|    2490 E Sunset Rd|     Las Vegas|   NV|PXShA3JZMXr2mEH3o...|\n",
            "|Original Breakfas...|  4.5|        1729|              9.5|     13623 N 32nd St|       Phoenix|   AZ|E4JyAzB5_2quptwte...|\n",
            "|Pai Northern Thai...|  4.5|        2758|              9.5|    18 Duncan Street|       Toronto|   ON|r_BrIgzYcwo1NAuG9...|\n",
            "|              Sakana|  4.5|        2529|              9.5|3949 S Maryland Pkwy|     Las Vegas|   NV|7sb2FYLS2sejZKxRY...|\n",
            "|  Crêpe Expectations|  4.5|        1339|9.499999999999986|9500 S Eastern Av...|     Las Vegas|   NV|HgdFqAvK31fB9sgBd...|\n",
            "|     Postino Arcadia|  4.5|        1307|9.499999999999968| 3939 E Campbell Ave|       Phoenix|   AZ|u-SJ5QUwrNquL9VnX...|\n",
            "|Seven Lives Tacos...|  4.5|        1285|9.499999999999943|69 Kensington Avenue|       Toronto|   ON|iGEvDk6hsizigmXhD...|\n",
            "|          SkinnyFATS|  4.5|        1237|9.499999999999815|8680 W Warm Sprin...|     Las Vegas|   NV|zRqi6L1u-YmmVAHje...|\n",
            "|           Sushi Way|  4.5|        1217|9.499999999999694|3900 Paradise Rd,...|     Las Vegas|   NV|JJAwT9R6Fp2yyWHtW...|\n",
            "|       Cornish Pasty|  4.5|        1213|9.499999999999662|1941 W Guadalupe ...|          Mesa|   AZ|ohEnmKpF7i2_ujme1...|\n",
            "|           Egg Works|  4.5|        1200|9.499999999999531| 6960 S Rainbow Blvd|     Las Vegas|   NV|a0v7Si0DK4cIko7AQ...|\n",
            "|        Veggie House|  4.5|        1142|9.499999999998005|5115 Spring Mount...|     Las Vegas|   NV|AtD6B83S4Mbmq0t7i...|\n",
            "|     Postino Central|  4.5|        1137| 9.49999999999774|  5144 N Central Ave|       Phoenix|   AZ|FogTa-wmjhVnJCoTi...|\n",
            "|        Postino East|  4.5|        1125|9.499999999996948|    302 N Gilbert Rd|       Gilbert|   AZ|wZukjLaf1V2dLRQap...|\n",
            "|            PublicUs|  4.5|        1121|9.499999999996628|     1126 Fremont St|     Las Vegas|   NV|0EgYXYjt2XJL4hlsK...|\n",
            "|           Mr. Mamas|  4.5|        1117|9.499999999996273|5580 S Decatur Bl...|     Las Vegas|   NV|jWv5GUtEp30OD5L5C...|\n",
            "|          Sushi Neko|  4.5|        1089|9.499999999992497|5115 W Spring Mou...|     Las Vegas|   NV|ghVhlFpNhfBwWDFGS...|\n",
            "|           Mama Bird|  4.5|        1077|9.499999999989871|10550 Southern Hi...|     Las Vegas|   NV|gkxcnkbrQfEWqyiOa...|\n",
            "|           Vovomeena|  4.5|        1074|9.499999999989083|1515 N 7th Ave, S...|       Phoenix|   AZ|5eK_pgro9_LxPYDoR...|\n",
            "|         Cafe Sanuki|  4.5|         999|9.499999999928804|4821 Spring Mount...|     Las Vegas|   NV|e3PBfbtXUjMziX6XG...|\n",
            "|       Federal Pizza|  4.5|         989|9.499999999908582|  5210 N Central Ave|       Phoenix|   AZ|Tw3miGKZHtmxmaQZI...|\n",
            "|           Haberdish|  4.5|         984|9.499999999896408|  3106 N Davidson St|     Charlotte|   NC|QvxBnMcBPP1z_NAIY...|\n",
            "|Arawan Thai Bistr...|  4.5|         973|9.499999999863618|953 E Sahara Ave,...|     Las Vegas|   NV|cyzOijFJ82cae6qH6...|\n",
            "|Green New America...|  4.5|         970|9.499999999852996|       2022 N 7th St|       Phoenix|   AZ|S6TMBqrsi4PLRFoQF...|\n",
            "|Yonaka Modern Jap...|  4.5|         937|9.499999999664555|4983 W Flamingo R...|     Las Vegas|   NV|364hhL5st0LV16UcB...|\n",
            "|Violette's Vegan ...|  4.5|         934| 9.49999999963843|8560 W Desert Inn...|     Las Vegas|   NV|NQXuoB9JTPUItHvou...|\n",
            "|Island Style Rest...|  4.5|         899|9.499999999132635|3909 W Sahara Ave...|     Las Vegas|   NV|Os1n1_idfw9vv9kwU...|\n",
            "|           Crêpe Bar|  4.5|         889|9.499999998886281|7520 S Rural Rd, ...|         Tempe|   AZ|uKKNw68mZZaa1jcys...|\n",
            "|   Bottiglia Enoteca|  4.5|         878|9.499999998533756|2300 Paseo Verde ...|     Las Vegas|   NV|YILyHegzhy1vlc_LN...|\n",
            "|Juan's Flaming Fa...|  4.5|         861|9.499999997757248|       16 S Water St|     Henderson|   NV|c06xDgPtZDKsI-w0Z...|\n",
            "|           Egg Works|  4.5|         855|9.499999997394294|  9355 W Flamingo Rd|     Las Vegas|   NV|4qG3Gh8QyugC1XvoT...|\n",
            "|La Grande Orange ...|  4.5|         850|9.499999997047347|      4410 N 40th St|       Phoenix|   AZ|7cK9uEV09iPmsTqOq...|\n",
            "|           Le Cirque|  4.5|         848|9.499999996895962|3600 S Las Vegas ...|     Las Vegas|   NV|rtlsfmdufArhk-47s...|\n",
            "|  Soho Sushi Burrito|  4.5|         832| 9.49999999536932|2600 W Sahara Ave...|     Las Vegas|   NV|B_WggEKFq-ZFNui8C...|\n",
            "|              Served|  4.5|         827|9.499999994752752|1770 W Horizon Ri...|     Henderson|   NV|jScBTQtdAt-8Rshai...|\n",
            "|Grassroots Kitche...|  4.5|         820|9.499999993749235|8120 N Hayden Rd,...|    Scottsdale|   AZ|4dCOilGYflzGzizOP...|\n",
            "|      Slater's 50/50|  4.5|         819|9.499999993590997|467 E Silverado R...|     Las Vegas|   NV|2_qLxCT0jHM8Xqk6P...|\n",
            "|            Is Sweet|  4.5|         807|9.499999991348751|5288 Spring Mount...|     Las Vegas|   NV|9PIC380tmNYpIC3z5...|\n",
            "|Cugino's Italian ...|  4.5|         784|  9.4999999846256|4550 S Maryland Pkwy|     Las Vegas|   NV|Mh84_j7YmRrAcm0DW...|\n",
            "|Chanpen Thai Cuisine|  4.5|         764|9.499999974651901|  2727 E Broadway Rd|       Phoenix|   AZ|NASjUYKkz6l7hQLxM...|\n",
            "|           Egg Works|  4.5|         758|9.499999970549709|2025 Village Cent...|     Las Vegas|   NV|PtwW1Hwme8Y0wy54z...|\n",
            "|    Richmond Station|  4.5|         751|9.499999964917453| 1 Richmond Street W|       Toronto|   ON|mZRKH9ngRY92bI_ir...|\n",
            "|     Le Robin Square|  4.5|         748|9.499999962185079|300 Rue Notre-Dame E|      Montréal|   QC|uP3H5bcsiTXM0k0xQ...|\n",
            "|     Spinato's Pizza|  4.5|         744| 9.49999995820805|96 S Rockford Dr,...|         Tempe|   AZ|366FaRQ1MWEHBhaEK...|\n",
            "|       Gorilla Sushi|  4.5|         743| 9.49999995715008|1801 E Tropicana ...|     Las Vegas|   NV|Fv4EXwV30rwGD2NzN...|\n",
            "|            Q Bistro|  4.5|         735| 9.49999994766299|3400 S Jones Blvd...|     Las Vegas|   NV|XsSgv3vBOyOBXn3Co...|\n",
            "|Goong Korean BBQ ...|  4.5|         734|9.499999946338074|7729 S Rainbow Bl...|     Las Vegas|   NV|SEMvJDVnDB4NoPW6t...|\n",
            "|          Hiro Sushi|  4.5|         729| 9.49999993919307|      9393 N 90th St|    Scottsdale|   AZ|Ly2ShApiomYZwKehw...|\n",
            "|Presidio Cocina M...|  4.5|         692|9.499999846652935|     519 W Thomas Rd|       Phoenix|   AZ|DaVTuhzi6EgWStb2e...|\n",
            "|Pancho's Vegan Tacos|  4.5|         687|9.499999826235012|1775 E Tropicana ...|     Las Vegas|   NV|nM9NwHXy3EadihjJT...|\n",
            "|         Nabe Hotpot|  4.5|         685| 9.49999981732589|4545 Spring Mount...|     Las Vegas|   NV|_Ad2ZKhUl-krJFpaZ...|\n",
            "| Sal's Gilbert Pizza|  4.5|         682|9.499999803098472|   1150 S Gilbert Rd|       Gilbert|   AZ|dxvsOCvRPnHB6P3IN...|\n",
            "|          Other Mama|  4.5|         680|9.499999793003115|3655 S Durango, U...|     Las Vegas|   NV|7wHLFohwCw8l6WS-f...|\n",
            "|          Coffee Pub|  4.5|         673|9.499999753415743|2800 W Sahara Ave...|     Las Vegas|   NV|0XEqyl_lVaJNHRKxN...|\n",
            "|         Greek Wraps|  4.5|         668| 9.49999972058343|      7369 W Bell Rd|        Peoria|   AZ|FYa3GUro-ezTM9zvK...|\n",
            "|         Ramen Tatsu|  4.5|         643|9.499999477981124|3400 S Jones Blvd...|     Las Vegas|   NV|IVnGPHdTyu_GbLo9m...|\n",
            "|    DiAnoia's Eatery|  4.5|         626|9.499999201524927|       2549 Penn Ave|    Pittsburgh|   PA|BcLFIr4wtd3GQ3fnz...|\n",
            "|Pita Kitchen - Av...|  4.5|         614| 9.49999892217139|9915 W McDowell R...|      Avondale|   AZ|KOEBBp2PhiV_4PkW9...|\n",
            "|P&G's Pamela's Diner|  4.5|         610|9.499998808815167|          60 21st St|    Pittsburgh|   PA|sc__kdcFV4IcNTfBx...|\n",
            "|Thailicious Authe...|  4.5|         604| 9.49999861604067|19 S Stephanie St...|     Henderson|   NV|ZjKpGYdQCQPxzkYWA...|\n",
            "|Twisted Grove Par...|  4.5|         603|9.499998581005574|    8220 N Hayden Rd|    Scottsdale|   AZ|Xfc-B8XUPkvvYoy5e...|\n",
            "|      New India Gate|  4.5|         595|9.499998266836293|4939 W Ray Rd, Ste 1|      Chandler|   AZ|S4qUsi44l5D9BbUCk...|\n",
            "|              Altius|  4.5|         590|9.499998036068227|  1230 Grandview Ave|    Pittsburgh|   PA|S8urdN6ACnRQUm-7o...|\n",
            "+--------------------+-----+------------+-----------------+--------------------+--------------+-----+--------------------+\n",
            "only showing top 100 rows\n",
            "\n"
          ],
          "name": "stdout"
        }
      ]
    },
    {
      "cell_type": "code",
      "metadata": {
        "colab": {
          "base_uri": "https://localhost:8080/"
        },
        "id": "m0gGJP4Ctue9",
        "outputId": "534ea910-0c2d-430b-c44f-c4f96d343180"
      },
      "source": [
        "c1 = spark.sql(\"\"\"select category2 as category, count(distinct(business_id)) as number1 from restaurant group by category order by number1 DESC\"\"\")\n",
        "c1.show()"
      ],
      "execution_count": null,
      "outputs": [
        {
          "output_type": "stream",
          "text": [
            "+--------------------+-------+\n",
            "|            category|number1|\n",
            "+--------------------+-------+\n",
            "|               Pizza|   1658|\n",
            "|             Mexican|   1209|\n",
            "|             Chinese|   1149|\n",
            "|           Fast Food|    995|\n",
            "|          Sandwiches|    985|\n",
            "|             Italian|    771|\n",
            "|                Food|    745|\n",
            "|American (Traditi...|    678|\n",
            "|             Burgers|    649|\n",
            "|  Breakfast & Brunch|    537|\n",
            "|      American (New)|    522|\n",
            "|            Japanese|    521|\n",
            "|          Sushi Bars|    377|\n",
            "|                Thai|    372|\n",
            "|               Cafes|    371|\n",
            "|              Indian|    355|\n",
            "|          Vietnamese|    348|\n",
            "|           Nightlife|    299|\n",
            "|            Barbeque|    281|\n",
            "|                Bars|    279|\n",
            "+--------------------+-------+\n",
            "only showing top 20 rows\n",
            "\n"
          ],
          "name": "stdout"
        }
      ]
    },
    {
      "cell_type": "code",
      "metadata": {
        "colab": {
          "base_uri": "https://localhost:8080/"
        },
        "id": "y3PmUROEvlgA",
        "outputId": "346763f6-f8a2-4ad5-945e-ee22949a9234"
      },
      "source": [
        "c2 = spark.sql(\"\"\"select category3 as category , count(distinct(business_id)) as number2 from restaurant group by category order by number2 DESC\"\"\")\n",
        "c2.show()"
      ],
      "execution_count": null,
      "outputs": [
        {
          "output_type": "stream",
          "text": [
            "+--------------------+-------+\n",
            "|            category|number2|\n",
            "+--------------------+-------+\n",
            "|                null|   7926|\n",
            "|           Fast Food|    978|\n",
            "|                Food|    865|\n",
            "|             Burgers|    508|\n",
            "|          Sandwiches|    460|\n",
            "|American (Traditi...|    414|\n",
            "|           Nightlife|    359|\n",
            "|               Pizza|    358|\n",
            "|  Breakfast & Brunch|    354|\n",
            "|             Italian|    323|\n",
            "|                Bars|    317|\n",
            "|             Chinese|    300|\n",
            "|             Mexican|    293|\n",
            "|      American (New)|    261|\n",
            "|            Japanese|    223|\n",
            "|          Sushi Bars|    221|\n",
            "|        Coffee & Tea|    213|\n",
            "|       Chicken Wings|    205|\n",
            "|               Salad|    177|\n",
            "|             Seafood|    176|\n",
            "+--------------------+-------+\n",
            "only showing top 20 rows\n",
            "\n"
          ],
          "name": "stdout"
        }
      ]
    },
    {
      "cell_type": "code",
      "metadata": {
        "id": "npT2jr-wIiWZ"
      },
      "source": [
        ""
      ],
      "execution_count": null,
      "outputs": []
    },
    {
      "cell_type": "code",
      "metadata": {
        "colab": {
          "base_uri": "https://localhost:8080/"
        },
        "id": "uYp_D09wwLVf",
        "outputId": "7ac1fbdb-6ed4-407c-8bad-689faf6a8350"
      },
      "source": [
        "restaurant_category=c1.join(c2,\"category\",\"outer\")\n",
        "restaurant_category.createOrReplaceTempView(\"restaurant_category\")\n",
        "restaurant_category = spark.sql(\"\"\"select category, number1+number2 as number from restaurant_category order by number DESC\"\"\")\n",
        "restaurant_category.show(20)"
      ],
      "execution_count": null,
      "outputs": [
        {
          "output_type": "stream",
          "text": [
            "+--------------------+------+\n",
            "|            category|number|\n",
            "+--------------------+------+\n",
            "|               Pizza|  2016|\n",
            "|           Fast Food|  1973|\n",
            "|                Food|  1610|\n",
            "|             Mexican|  1502|\n",
            "|             Chinese|  1449|\n",
            "|          Sandwiches|  1445|\n",
            "|             Burgers|  1157|\n",
            "|             Italian|  1094|\n",
            "|American (Traditi...|  1092|\n",
            "|  Breakfast & Brunch|   891|\n",
            "|      American (New)|   783|\n",
            "|            Japanese|   744|\n",
            "|           Nightlife|   658|\n",
            "|          Sushi Bars|   598|\n",
            "|                Bars|   596|\n",
            "|               Cafes|   541|\n",
            "|              Indian|   457|\n",
            "|                Thai|   451|\n",
            "|       Chicken Wings|   434|\n",
            "|             Seafood|   425|\n",
            "+--------------------+------+\n",
            "only showing top 20 rows\n",
            "\n"
          ],
          "name": "stdout"
        }
      ]
    },
    {
      "cell_type": "code",
      "metadata": {
        "colab": {
          "base_uri": "https://localhost:8080/"
        },
        "id": "calC5EXXA7PJ",
        "outputId": "fa8d661b-63e0-49c5-b431-59607eb596d9"
      },
      "source": [
        "category_ls = restaurant_category.select(\"category\").toPandas()[\"category\"].tolist()\n",
        "print(category_ls)"
      ],
      "execution_count": null,
      "outputs": [
        {
          "output_type": "stream",
          "text": [
            "['Pizza', 'Fast Food', 'Food', 'Mexican', 'Chinese', 'Sandwiches', 'Burgers', 'Italian', 'American (Traditional)', 'Breakfast & Brunch', 'American (New)', 'Japanese', 'Nightlife', 'Sushi Bars', 'Bars', 'Cafes', 'Indian', 'Thai', 'Chicken Wings', 'Seafood', 'Vietnamese', 'Barbeque', 'Coffee & Tea', 'Asian Fusion', 'Mediterranean', 'Salad', 'Delis', 'Steakhouses', 'Diners', 'Greek', 'French', 'Korean', 'Canadian (New)', 'Middle Eastern', 'Caribbean', 'Event Planning & Services', 'Buffets', 'Bakeries', 'Tex-Mex', 'Vegetarian', 'Caterers', 'Tacos', 'Hot Dogs', 'Desserts', 'Latin American', 'Noodles', 'Soup', 'Vegan', 'Ice Cream & Frozen Yogurt', 'Halal', 'Gluten-Free', 'Comfort Food', 'Specialty Food', 'Pakistani', 'Chicken Shop', 'Sports Bars', 'Fish & Chips', 'Pubs', 'Juice Bars & Smoothies', 'Gastropubs', 'Soul Food', 'Food Trucks', 'Dim Sum', 'Portuguese', 'Beer', 'Southern', 'Filipino', 'Hawaiian', 'Cajun/Creole', 'Cocktail Bars', 'Tapas Bars', 'Lounges', 'Ethnic Food', 'Arts & Entertainment', 'Persian/Iranian', 'Wine Bars', 'Ramen', 'Food Delivery Services', 'Tapas/Small Plates', 'Food Stands', 'Lebanese', 'Creperies', 'Spanish', 'Donuts', 'Afghan', 'Food Court', 'Turkish', 'Grocery', 'Bagels', 'Peruvian', 'Cheesesteaks', 'Poutineries', 'Bistros', 'Shopping', 'Modern European', 'Taiwanese', 'Hot Pot', 'Venues & Event Spaces', 'Salvadoran', 'Ethiopian', 'Local Flavor', 'African', 'Polish', 'Imported Food', 'Pan Asian', 'Cantonese', 'Szechuan', 'Hotels & Travel', 'Irish', 'Active Life', 'Brazilian', 'Bubble Tea', 'Dive Bars', 'Himalayan/Nepalese', 'Hotels', 'German', 'Kosher', 'British', 'Cuban', 'Tea Rooms', 'Malaysian', 'Falafel', 'Breweries', 'New Mexican Cuisine', 'Wraps', 'Moroccan', 'Poke', 'Waffles', 'Music Venues', 'Russian', 'Kebab', 'Beer Bar', 'Convenience Stores', 'Hakka', 'Cafeteria', 'Dumplings', 'Butcher', 'Brasseries', 'Beauty & Spas', 'Dance Clubs', 'Street Vendors', 'Argentine', 'Arcades', 'Mongolian', 'Coffee Roasteries', 'Arabian', 'Cambodian', 'Health Markets', 'Venezuelan', 'Karaoke', 'Hungarian', 'Shopping Centers', 'Belgian', 'Golf', 'Internet Cafes', 'Indonesian', 'Sri Lankan', 'Meat Shops', 'Automotive', 'Hong Kong Style Cafe', 'Adult Entertainment', 'Party & Event Planning', 'Delicatessen', 'International', 'Themed Cafes', 'Colombian', 'Pasta Shops', 'Donairs', 'Home & Garden', 'Do-It-Yourself Food', 'Organic Stores', 'Acai Bowls', 'Casinos', 'Gelato', 'Fondue', 'Seafood Markets', 'International Grocery', 'Fashion', 'Cupcakes', 'Pretzels', 'Farmers Market', 'Nail Salons', 'Burmese', 'Smokehouse', 'Brewpubs', 'Cinema', 'Basque', 'Egyptian', 'Local Services', 'Pop-Up Restaurants', 'South African', 'Contractors', 'Health & Medical', 'Patisserie/Cake Shop', 'Gas Stations', 'Home Services', 'Hookah Bars', 'Live/Raw Food', 'Shaved Ice', 'Performing Arts', 'Beer Gardens', 'Ethical Grocery', 'Czech', 'Bed & Breakfast', 'Fruits & Veggies', 'Sicilian', 'Irish Pub', 'Teppanyaki', 'Professional Services', 'Austrian', 'Singaporean', 'Kitchen & Bath', 'Amusement Parks', 'Puerto Rican', 'Ethnic Grocery', 'Flea Markets', 'Candy Stores', 'Wholesale Stores', 'Day Spas', 'Hobby Shops', 'Olive Oil', 'Education', 'Summer Camps', 'Walking Tours', 'Appliances & Repair', 'Churches', 'Scandinavian', 'Armenian', 'Food Tours', 'Swiss Food', 'Acupuncture', 'Beverage Store', 'Cosmetics & Beauty Supply', 'Financial Services', 'Sugar Shacks', 'Pool Halls', 'Building Supplies', 'Resorts', 'Public Services & Government', 'Eyelash Service', None, None, 'Flowers & Gifts', 'Wineries', 'Tiki Bars', 'Ukrainian', 'Real Estate', 'Hospitals', 'Police Departments', 'Dinner Theater', 'Synagogues', 'Social Clubs', 'Team Building Activities', \"Women's Clothing\", 'Party Equipment Rentals', 'Gift Shops', 'Piano Bars', 'Cheese Shops', 'Airport Lounges', 'Australian', 'Barbers', 'Guest Houses', 'Laboratory Testing', 'Tabletop Games', 'Escape Games', 'Couriers & Delivery Services', 'Herbs & Spices', 'Haitian', 'Shanghainese', 'Horse Racing', 'Pets', 'Religious Organizations', 'Marinas', 'Banks & Credit Unions', 'Custom Cakes', 'Izakaya', 'Mattresses', 'Shaved Snow', 'Dominican', 'Fitness & Instruction', 'Weight Loss Centers', 'Books', 'Wine Tours', 'Arts & Crafts', 'Bangladeshi', 'Comedy Clubs', 'Drugstores', 'Electricians', 'Catalan', 'Body Shops', 'Cards & Stationery', 'Jazz & Blues', 'Studio Taping', 'Physical Therapy', 'Laotian', 'Bowling', 'Public Transportation', 'Whiskey Bars', 'Furniture Stores', 'Hair Loss Centers', 'Senegalese', 'Soba', 'Swimming Pools', 'Japanese Curry', 'Thrift Stores', 'Gay Bars', 'Dry Cleaning & Laundry', 'Shared Office Spaces', 'Tours', 'Eritrean', 'Country Clubs', 'Pub Food', 'Conveyor Belt Sushi', 'Race Tracks', 'Airports', 'Chocolatiers & Shops', 'Car Wash', 'Estate Liquidation', 'Wine & Spirits', 'Trinidadian', 'Wedding Planning', 'Art Galleries', 'Coffee & Tea Supplies', 'Syrian', 'Kids Activities', 'Community Service/Non-Profit', 'Massage', 'Car Dealers', 'Florists', 'Medical Spas', 'Comic Books', 'Personal Chefs', 'Musicians', 'Videos & Video Game Rental', 'Hair Salons', 'Hair Stylists', 'Stadiums & Arenas']\n"
          ],
          "name": "stdout"
        }
      ]
    },
    {
      "cell_type": "code",
      "metadata": {
        "id": "4XCI3mUUJCCm"
      },
      "source": [
        "def top_select(category,n):\n",
        "    df = spark.sql(\"select name, stars, review_count, float(stars)+5*(1-exp(-int(review_count)/40)) as score, category2, category3, address, city, state from restaurant order by score DESC\").toPandas()\n",
        "    top_n = df.loc[(df['category2'] == category) | (df['category3'] == category)].head(n)\n",
        "    return top_n"
      ],
      "execution_count": null,
      "outputs": []
    },
    {
      "cell_type": "code",
      "metadata": {
        "colab": {
          "base_uri": "https://localhost:8080/",
          "height": 49
        },
        "id": "1VeuY_PlK21J",
        "outputId": "3bf6cc04-c0d7-4f1f-e382-25f7cf1b4722"
      },
      "source": [
        "top_select(\"abcd\",5)"
      ],
      "execution_count": null,
      "outputs": [
        {
          "output_type": "execute_result",
          "data": {
            "text/html": [
              "<div>\n",
              "<style scoped>\n",
              "    .dataframe tbody tr th:only-of-type {\n",
              "        vertical-align: middle;\n",
              "    }\n",
              "\n",
              "    .dataframe tbody tr th {\n",
              "        vertical-align: top;\n",
              "    }\n",
              "\n",
              "    .dataframe thead th {\n",
              "        text-align: right;\n",
              "    }\n",
              "</style>\n",
              "<table border=\"1\" class=\"dataframe\">\n",
              "  <thead>\n",
              "    <tr style=\"text-align: right;\">\n",
              "      <th></th>\n",
              "      <th>name</th>\n",
              "      <th>stars</th>\n",
              "      <th>review_count</th>\n",
              "      <th>score</th>\n",
              "      <th>category2</th>\n",
              "      <th>category3</th>\n",
              "      <th>address</th>\n",
              "      <th>city</th>\n",
              "      <th>state</th>\n",
              "    </tr>\n",
              "  </thead>\n",
              "  <tbody>\n",
              "  </tbody>\n",
              "</table>\n",
              "</div>"
            ],
            "text/plain": [
              "Empty DataFrame\n",
              "Columns: [name, stars, review_count, score, category2, category3, address, city, state]\n",
              "Index: []"
            ]
          },
          "metadata": {
            "tags": []
          },
          "execution_count": 16
        }
      ]
    },
    {
      "cell_type": "code",
      "metadata": {
        "colab": {
          "base_uri": "https://localhost:8080/"
        },
        "id": "D64M-FFzSDIO",
        "outputId": "38ce6d69-6127-45d6-e30c-db658f5a80d3"
      },
      "source": [
        "restaurant.show(20)"
      ],
      "execution_count": null,
      "outputs": [
        {
          "output_type": "stream",
          "text": [
            "+--------------------+--------------------+--------------------+----------+--------------------+-------+-------------+--------------+--------------------+-----------+------------+-----+-----+-----------+------------------+--------------+\n",
            "|             address|          attributes|         business_id|      city|               hours|is_open|     latitude|     longitude|                name|postal_code|review_count|stars|state|  category1|         category2|     category3|\n",
            "+--------------------+--------------------+--------------------+----------+--------------------+-------+-------------+--------------+--------------------+-----------+------------+-----+-----+-----------+------------------+--------------+\n",
            "|15480 Bayview Ave...|[,, u'none',,,,, ...|eBEfgOPG7pvFhb2wc...|    Aurora|[11:0-22:0, 11:0-...|      1|   44.0109618|    -79.448677|     Philthy Phillys|    L4G 7J1|           4|  4.5|   ON|Restaurants|      Cheesesteaks|   Poutineries|\n",
            "|  843 Kipling Avenue|[,, u'none', {'ro...|rVBPQdeayMYht4Uv_...|   Toronto|                null|      0|   43.6332914|   -79.5317683|Gourmet Burger Co...|    M8Z 5G9|          13|  3.0|   ON|Restaurants|           Burgers|          Food|\n",
            "|1541 E 38th St, S...|[,, u'none', {'to...|98hyK2QEUeI8v2y0A...| Cleveland|[11:0-20:0, 11:0-...|      1|   41.5121553|    -81.663332|Pho Lee's Vietnam...|      44114|          23|  4.5|   OH|Restaurants|        Vietnamese|          Soup|\n",
            "|5252 Rue Jean Tal...|[,,, {'romantic':...|LoRef3ChgZKbxUio-...|  Montréal|                null|      1|45.4948701572|-73.6519035927|                Amir|    H4P 2A7|          18|  3.0|   QC|Restaurants|          Lebanese|Middle Eastern|\n",
            "|4602 Northfield Road|[,, u'none', {'ro...|tLpkSwdtqqoXwU0JA...| Cleveland|[10:0-3:0, 10:0-3...|      1|    41.434614|   -81.5270257|             Wendy's|      44128|           7|  3.5|   OH|Restaurants|         Fast Food|       Burgers|\n",
            "|    7510 S Priest Dr|[,,,,,,,,, True,,...|LAoSegVNU4wx4GTA8...|     Tempe|                null|      1|   33.3501044|  -111.9636604|   Tzikii Food Truck|      85283|           4|  3.0|   AZ|Restaurants|          Egyptian|   Food Trucks|\n",
            "| 311 Unity Center Rd|[,, 'none', {'rom...|ZkzutF0P_u0C0yTul...|      Plum|[11:0-22:0, 0:0-0...|      1|   40.4899958|   -79.7792879|    Lelulos Pizzeria|      15239|          31|  4.0|   PA|Restaurants|             Pizza|          null|\n",
            "|   515 4th Avenue SW|[,,,,,,,,,,,,,,, ...|RrapAhd8ZxCj-iue7...|   Calgary|[17:0-22:0, 17:0-...|      1|   51.0494068|   -114.072656|    Ganga Restaurant|    T2P 0J8|           3|  1.5|   AB|Restaurants|           Buffets|        Indian|\n",
            "|804www.caballerol...|[,, u'full_bar', ...|0Y5Kzo8PWHTjk0tlf...|  Montréal|[10:0-23:0,, 10:0...|      1|45.5206987494|-73.5726423331|           Caballero|    H2L 1E3|           3|  3.5|   QC|Restaurants|Tapas/Small Plates|          null|\n",
            "|3300 N Central Av...|[,, u'none', {'ro...|JcsZvx-4yovFgCXOf...|   Phoenix|                null|      0|    33.648302|   -112.119379|     Sam's Deli Mart|      85012|           4|  3.0|   AZ|Restaurants|        Sandwiches|          null|\n",
            "|1030 Kennedy Circ...|                null|-C0AlwLuXpcP609ma...|    Milton|[11:0-2:0, 11:0-0...|      1|   43.5089619|   -79.8379902|          Pizzaville|    L9T 0J9|           7|  3.5|   ON|Restaurants|             Pizza|          null|\n",
            "|  1017 E Apache Blvd|[,, u'none', {'to...|W7hCuNdn2gzehta6e...|     Tempe|[10:30-22:0, 10:3...|      1|   33.4145065|  -111.9237207| Pete's Fish & Chips|      85281|         117|  2.0|   AZ|Restaurants|      Fish & Chips|       Seafood|\n",
            "|  24335 Chagrin Blvd|[,,, {'touristy':...|39lLJK_rrYY2NYomS...| Beachwood|                null|      1|   41.4657893|   -81.5063487|       Marco's Pizza|      44122|          11|  2.5|   OH|Restaurants|             Pizza|          null|\n",
            "|705 S Sharon Amit...|[,, u'full_bar',,...|kQknjbOvtPmS3NVm-...| Charlotte|                null|      0|    35.171415|    -80.806797|Hotel Charlotte R...|      28211|           8|  4.0|   NC|Restaurants|      Cajun/Creole|          null|\n",
            "|9120 E Talking St...|[,, u'none', {'ro...|5X7TQsA3iDbBc8yy2...|Scottsdale|[10:0-16:0, 0:0-0...|      1|   33.5404512|  -111.8852293|             Blimpie|      85250|          35|  4.5|   AZ|Restaurants|        Sandwiches|     Fast Food|\n",
            "|   1619 46 Street NW|                null|w6_VH0-1P_gpftNQc...|   Calgary|                null|      0|   51.0715185|  -114.1635349|Saigon West Noodl...|    T3B 1A8|           3|  4.5|   AB|Restaurants|        Vietnamese|          null|\n",
            "|Aeroport Trudeau ...|[,, u'full_bar', ...|2aWV8Rx4TwtB0x2pf...|    Dorval|                null|      1|45.4560993506|-73.7531246953|Restaurant Housto...|           |         106|  2.0|   QC|Restaurants|       Steakhouses|          null|\n",
            "|1046 Regent Pkwy,...|[,, u'beer_and_wi...|PlP0c_u3g-3LiWHpb...| Fort Mill|[17:0-21:30, 17:0...|      1|35.0754755316|-80.9339044464|            Lee Cafe|      29715|         267|  4.0|   SC|Restaurants|        Sushi Bars|       Chinese|\n",
            "|         202 3rd Ave|[,, u'none', {'ro...|GvCblda5MdYBqNFBU...|  Carnegie|[7:0-14:0, 7:0-14...|      1|    40.404608|   -80.0899394|Barb's Country Ju...|      15106|          11|  3.5|   PA|Restaurants|             Cafes|          null|\n",
            "|   44 Wellesworth Dr|[,,, {'touristy':...|VCkKTkLWh9dY5vSdN...| Etobicoke|[8:0-20:0,, 8:0-1...|      1|   43.6667742|   -79.5786614|Mrakovic Meat & Deli|    M9C 4R1|          22|  4.5|   ON|Restaurants|   Modern European|          Food|\n",
            "+--------------------+--------------------+--------------------+----------+--------------------+-------+-------------+--------------+--------------------+-----------+------------+-----+-----+-----------+------------------+--------------+\n",
            "only showing top 20 rows\n",
            "\n"
          ],
          "name": "stdout"
        }
      ]
    },
    {
      "cell_type": "markdown",
      "metadata": {
        "id": "pZaSSSS2VA_r"
      },
      "source": [
        "\n",
        "\n",
        "\n",
        "# Sentiment Analysis"
      ]
    },
    {
      "cell_type": "code",
      "metadata": {
        "id": "wyDOq4QLx5v7"
      },
      "source": [
        "from wordcloud import WordCloud, STOPWORDS, ImageColorGenerator\n",
        "import matplotlib.pyplot as plt\n",
        "from pyspark.sql.types import IntegerType\n",
        "import seaborn as sns\n",
        "import plotly.offline as py\n",
        "import plotly.graph_objs as go\n",
        "import plotly.tools as tls\n",
        "import plotly.express as px\n",
        "import re\n",
        "import nltk \n",
        "nltk.download('stopwords')\n",
        "from nltk.corpus import stopwords\n",
        "from sklearn.feature_extraction.text import TfidfVectorizer\n",
        "from sklearn.model_selection import train_test_split\n",
        "from sklearn.metrics import classification_report, confusion_matrix, accuracy_score"
      ],
      "execution_count": null,
      "outputs": []
    },
    {
      "cell_type": "code",
      "metadata": {
        "id": "_H3J9lAEimBs"
      },
      "source": [
        "top = spark.sql(\"select Name, COUNT(DISTINCT business_id) as {0} from restaurant group by Name order by Number_of_Restaurants DESC\".format('Number_of_Restaurants'))"
      ],
      "execution_count": null,
      "outputs": []
    },
    {
      "cell_type": "code",
      "metadata": {
        "colab": {
          "base_uri": "https://localhost:8080/"
        },
        "id": "3YZP38xBjfJf",
        "outputId": "3f00c5cd-e86a-469b-d117-8efd76d1acad"
      },
      "source": [
        "top.show(10)"
      ],
      "execution_count": null,
      "outputs": [
        {
          "output_type": "stream",
          "text": [
            "+--------------------+---------------------+\n",
            "|                Name|Number_of_Restaurants|\n",
            "+--------------------+---------------------+\n",
            "|  Subway Restaurants|                  290|\n",
            "|          McDonald's|                  261|\n",
            "|           Taco Bell|                  146|\n",
            "|             Wendy's|                  119|\n",
            "|         Burger King|                  113|\n",
            "|           Pizza Hut|                  102|\n",
            "|              Subway|                  100|\n",
            "|     Jack in the Box|                   94|\n",
            "|Chipotle Mexican ...|                   77|\n",
            "|      Domino's Pizza|                   73|\n",
            "+--------------------+---------------------+\n",
            "only showing top 10 rows\n",
            "\n"
          ],
          "name": "stdout"
        }
      ]
    },
    {
      "cell_type": "code",
      "metadata": {
        "colab": {
          "base_uri": "https://localhost:8080/"
        },
        "id": "v6iazOKY92tF",
        "outputId": "9fb10bc8-b21a-4af8-8a09-541122640667"
      },
      "source": [
        "review = review.withColumnRenamed(\"stars\",\"review_stars\")\n",
        "review.printSchema()"
      ],
      "execution_count": null,
      "outputs": [
        {
          "output_type": "stream",
          "text": [
            "root\n",
            " |-- business_id: string (nullable = true)\n",
            " |-- cool: long (nullable = true)\n",
            " |-- date: string (nullable = true)\n",
            " |-- funny: long (nullable = true)\n",
            " |-- review_id: string (nullable = true)\n",
            " |-- review_stars: double (nullable = true)\n",
            " |-- text: string (nullable = true)\n",
            " |-- useful: long (nullable = true)\n",
            " |-- user_id: string (nullable = true)\n",
            "\n"
          ],
          "name": "stdout"
        }
      ]
    },
    {
      "cell_type": "code",
      "metadata": {
        "id": "mJr-68Nz_jJx"
      },
      "source": [
        "combined = review.join(broadcast(new_business), 'business_id', 'right')\n",
        "combined.createOrReplaceTempView(\"combined\")"
      ],
      "execution_count": null,
      "outputs": []
    },
    {
      "cell_type": "code",
      "metadata": {
        "id": "zPCb57o7DIx2"
      },
      "source": [
        "subway = spark.sql(\"\"\"select * from combined where name = 'Subway Restaurants' or name = 'Subway' \"\"\")\n",
        "subway.cache()\n",
        "subway.createOrReplaceTempView(\"subway\")"
      ],
      "execution_count": null,
      "outputs": []
    },
    {
      "cell_type": "code",
      "metadata": {
        "colab": {
          "base_uri": "https://localhost:8080/"
        },
        "id": "jip96_c9_t66",
        "outputId": "581569c2-8d59-48e8-f7a2-119a1028baee"
      },
      "source": [
        "subway.show(10)"
      ],
      "execution_count": null,
      "outputs": [
        {
          "output_type": "stream",
          "text": [
            "+--------------------+----+-------------------+-----+--------------------+------------+--------------------+------+--------------------+--------------------+--------------------+--------+--------------------+-------+------------+---------------+------------------+-----------+------------+-----+-----+----------+-----------+-----------+\n",
            "|         business_id|cool|               date|funny|           review_id|review_stars|                text|useful|             user_id|             address|          attributes|    city|               hours|is_open|    latitude|      longitude|              name|postal_code|review_count|stars|state| category1|  category2|  category3|\n",
            "+--------------------+----+-------------------+-----+--------------------+------------+--------------------+------+--------------------+--------------------+--------------------+--------+--------------------+-------+------------+---------------+------------------+-----------+------------+-----+-----+----------+-----------+-----------+\n",
            "|VdlbAvRYAqb8B4SIe...|   0|2017-10-06 18:33:27|    0|mfJ8OEHuykA8Cn967...|         1.0|as others have sa...|     0|OffykIUbtvHrnfhW4...|    26079 Detroit Rd|[,,, {'romantic':...|Westlake|[7:0-22:0, 7:0-22...|      1|  41.4687234|    -81.9088141|Subway Restaurants|      44145|           7|  1.0|   OH|Sandwiches|Restaurants|  Fast Food|\n",
            "|VdlbAvRYAqb8B4SIe...|   0|2015-02-05 19:45:09|    0|XavJ4MN5Inv-Wc3_I...|         1.0|I love subway, bu...|     0|NG-xXkAadmlBC271A...|    26079 Detroit Rd|[,,, {'romantic':...|Westlake|[7:0-22:0, 7:0-22...|      1|  41.4687234|    -81.9088141|Subway Restaurants|      44145|           7|  1.0|   OH|Sandwiches|Restaurants|  Fast Food|\n",
            "|VdlbAvRYAqb8B4SIe...|   0|2014-12-26 17:50:11|    0|03nuqh1v01mQ7PMtg...|         1.0|It's like most Su...|     4|-QQcJmoYQH_ScD6vu...|    26079 Detroit Rd|[,,, {'romantic':...|Westlake|[7:0-22:0, 7:0-22...|      1|  41.4687234|    -81.9088141|Subway Restaurants|      44145|           7|  1.0|   OH|Sandwiches|Restaurants|  Fast Food|\n",
            "|VdlbAvRYAqb8B4SIe...|   0|2015-12-17 04:32:27|    0|btoIj1poRPXnaLDCY...|         1.0|We had to rush to...|     2|w4_eumxVkS0pmGBPa...|    26079 Detroit Rd|[,,, {'romantic':...|Westlake|[7:0-22:0, 7:0-22...|      1|  41.4687234|    -81.9088141|Subway Restaurants|      44145|           7|  1.0|   OH|Sandwiches|Restaurants|  Fast Food|\n",
            "|VdlbAvRYAqb8B4SIe...|   0|2014-05-25 16:19:11|    1|7nKHmyODx4EeYqlpc...|         1.0|Stay away. They o...|     2|iM_mE1oYx6RzbAhSk...|    26079 Detroit Rd|[,,, {'romantic':...|Westlake|[7:0-22:0, 7:0-22...|      1|  41.4687234|    -81.9088141|Subway Restaurants|      44145|           7|  1.0|   OH|Sandwiches|Restaurants|  Fast Food|\n",
            "|VdlbAvRYAqb8B4SIe...|   0|2015-10-07 14:37:54|    0|WnEhsxHEPmOcJd_I1...|         1.0|I don't like this...|     0|m6Bd8d_nw0oyMHUKC...|    26079 Detroit Rd|[,,, {'romantic':...|Westlake|[7:0-22:0, 7:0-22...|      1|  41.4687234|    -81.9088141|Subway Restaurants|      44145|           7|  1.0|   OH|Sandwiches|Restaurants|  Fast Food|\n",
            "|VdlbAvRYAqb8B4SIe...|   0|2015-04-28 00:04:21|    0|sC2t5SeEyZGGzOUT1...|         2.0|After a long day ...|     3|TUoKNc-HrJK09K6gI...|    26079 Detroit Rd|[,,, {'romantic':...|Westlake|[7:0-22:0, 7:0-22...|      1|  41.4687234|    -81.9088141|Subway Restaurants|      44145|           7|  1.0|   OH|Sandwiches|Restaurants|  Fast Food|\n",
            "|m3ENrv6bKW8h44bMy...|   0|2018-04-04 23:43:22|    0|CwspQjpqR1LE2hg9n...|         2.0|As I walk into th...|     0|-qAWKH1rRaMuPEogI...|2330 W Happy Vall...|[,, u'none', {'ro...| Phoenix|[8:0-21:0, 8:0-21...|      1|33.714039862|-112.1095704809|Subway Restaurants|      85085|          21|  3.5|   AZ|      Food| Sandwiches|Restaurants|\n",
            "|m3ENrv6bKW8h44bMy...|   1|2011-05-30 17:27:03|    0|qFCvk7U7bkdsyiQGO...|         3.0|Nasty vinegar... ...|     0|wHAxtj5Gbk9xywIJR...|2330 W Happy Vall...|[,, u'none', {'ro...| Phoenix|[8:0-21:0, 8:0-21...|      1|33.714039862|-112.1095704809|Subway Restaurants|      85085|          21|  3.5|   AZ|      Food| Sandwiches|Restaurants|\n",
            "|m3ENrv6bKW8h44bMy...|   0|2017-06-11 02:04:14|    0|wFwHG4V2dU1PAZ5E4...|         5.0|WOW! That's the o...|     0|pDkx1Z5lSTgFPpWEh...|2330 W Happy Vall...|[,, u'none', {'ro...| Phoenix|[8:0-21:0, 8:0-21...|      1|33.714039862|-112.1095704809|Subway Restaurants|      85085|          21|  3.5|   AZ|      Food| Sandwiches|Restaurants|\n",
            "+--------------------+----+-------------------+-----+--------------------+------------+--------------------+------+--------------------+--------------------+--------------------+--------+--------------------+-------+------------+---------------+------------------+-----------+------------+-----+-----+----------+-----------+-----------+\n",
            "only showing top 10 rows\n",
            "\n"
          ],
          "name": "stdout"
        }
      ]
    },
    {
      "cell_type": "code",
      "metadata": {
        "colab": {
          "base_uri": "https://localhost:8080/",
          "height": 198
        },
        "id": "P0bkVPTvqZtd",
        "outputId": "e0b73521-0b65-40b3-bc63-8235278e60bc"
      },
      "source": [
        "\n",
        "\n",
        "text = \" \".join(subway.select(\"text\").toPandas()[\"text\"].tolist())\n",
        "# Create and generate a word cloud image:\n",
        "stopwords = set(STOPWORDS)\n",
        "stopwords.update([\"one\", \"subway\", \"said\", \"even\", \"lot\",\"asked\",\"really\",\"got\",\"know\",\"make\",\"ordered\",\"want\"])\n",
        "# Create and generate a word cloud image:\n",
        "wordcloud = WordCloud(stopwords=stopwords,max_font_size=50, max_words=100, background_color=\"white\").generate(text)\n",
        "# Display the generated image:\n",
        "plt.imshow(wordcloud, interpolation='bilinear')\n",
        "plt.axis(\"off\")\n",
        "plt.show()"
      ],
      "execution_count": null,
      "outputs": [
        {
          "output_type": "display_data",
          "data": {
            "image/png": "[encoded data removed]",
            "text/plain": [
              "<Figure size 432x288 with 1 Axes>"
            ]
          },
          "metadata": {
            "tags": [],
            "needs_background": "light"
          }
        }
      ]
    },
    {
      "cell_type": "code",
      "metadata": {
        "id": "Mp5ENASTKIWw"
      },
      "source": [
        "\n",
        "def classify(rating):\n",
        "    if rating <=2:\n",
        "        return -1\n",
        "    if rating >= 4:\n",
        "        return 1\n",
        "    return 0\n",
        "\n",
        "func_udf = udf(classify, IntegerType())\n",
        "subway = subway.withColumn('sentiment',func_udf(subway['review_stars']))"
      ],
      "execution_count": null,
      "outputs": []
    },
    {
      "cell_type": "code",
      "metadata": {
        "id": "J074M6JTUtAF"
      },
      "source": [
        "subway_sentiment = subway.select(\"review_stars\",\"sentiment\",\"text\").toPandas()\n"
      ],
      "execution_count": null,
      "outputs": []
    },
    {
      "cell_type": "code",
      "metadata": {
        "colab": {
          "base_uri": "https://localhost:8080/",
          "height": 542
        },
        "id": "mmoyqNatE_jS",
        "outputId": "2bd56f88-23c6-481c-87c0-87443a7b1bba"
      },
      "source": [
        "\n",
        "color = sns.color_palette()\n",
        "fig = px.histogram(subway_sentiment, x=\"review_stars\")\n",
        "fig.update_traces(marker_color=\"turquoise\",marker_line_color='rgb(8,48,107)',\n",
        "                  marker_line_width=1.5)\n",
        "fig.update_layout(title_text='Review Score')\n",
        "fig.show()"
      ],
      "execution_count": null,
      "outputs": [
        {
          "output_type": "display_data",
          "data": {
            "text/html": [
              "<html>\n",
              "<head><meta charset=\"utf-8\" /></head>\n",
              "<body>\n",
              "    <div>\n",
              "            <script src=\"https://cdnjs.cloudflare.com/ajax/libs/mathjax/2.7.5/MathJax.js?config=TeX-AMS-MML_SVG\"></script><script type=\"text/javascript\">if (window.MathJax) {MathJax.Hub.Config({SVG: {font: \"STIX-Web\"}});}</script>\n",
              "                <script type=\"text/javascript\">window.PlotlyConfig = {MathJaxConfig: 'local'};</script>\n",
              "        <script src=\"https://cdn.plot.ly/plotly-latest.min.js\"></script>    \n",
              "            <div id=\"c45b3dfc-f9f3-415f-af3d-3d9e763752f8\" class=\"plotly-graph-div\" style=\"height:525px; width:100%;\"></div>\n",
              "            <script type=\"text/javascript\">\n",
              "                \n",
              "                    window.PLOTLYENV=window.PLOTLYENV || {};\n",
              "                    \n",
              "                if (document.getElementById(\"c45b3dfc-f9f3-415f-af3d-3d9e763752f8\")) {\n",
              "                    Plotly.newPlot(\n",
              "                        'c45b3dfc-f9f3-415f-af3d-3d9e763752f8',\n",
              "                        [{\"alignmentgroup\": \"True\", \"bingroup\": \"x\", \"hoverlabel\": {\"namelength\": 0}, \"hovertemplate\": \"review_stars=%{x}<br>count=%{y}\", \"legendgroup\": \"\", \"marker\": {\"color\": \"turquoise\", \"line\": {\"color\": \"rgb(8,48,107)\", \"width\": 1.5}}, \"name\": \"\", \"offsetgroup\": \"\", \"orientation\": \"v\", \"showlegend\": false, \"type\": \"histogram\", \"x\": [1.0, 1.0, 1.0, 1.0, 1.0, 1.0, 2.0, 2.0, 3.0, 5.0, 3.0, 5.0, 2.0, 1.0, 5.0, 1.0, 5.0, 5.0, 4.0, 4.0, 3.0, 5.0, 3.0, 3.0, 4.0, 4.0, 5.0, 1.0, 1.0, 2.0, 3.0, 2.0, 1.0, 5.0, 1.0, 5.0, 1.0, 5.0, 4.0, 1.0, 2.0, 2.0, 3.0, 4.0, 1.0, 1.0, 5.0, 3.0, 1.0, 1.0, 5.0, 1.0, 5.0, 1.0, 1.0, 1.0, 1.0, 1.0, 1.0, 1.0, 1.0, 1.0, 2.0, 1.0, 1.0, 1.0, 4.0, 4.0, 5.0, 1.0, 1.0, 1.0, 4.0, 5.0, 1.0, 1.0, 5.0, 4.0, 1.0, 1.0, 1.0, 1.0, 1.0, 1.0, 5.0, 1.0, 2.0, 1.0, 4.0, 1.0, 1.0, 2.0, 4.0, 5.0, 3.0, 4.0, 2.0, 1.0, 1.0, 2.0, 1.0, 3.0, 3.0, 5.0, 4.0, 1.0, 4.0, 2.0, 1.0, 3.0, 2.0, 5.0, 2.0, 1.0, 1.0, 5.0, 1.0, 2.0, 5.0, 3.0, 3.0, 4.0, 5.0, 1.0, 2.0, 2.0, 1.0, 1.0, 1.0, 2.0, 3.0, 4.0, 1.0, 5.0, 5.0, 2.0, 1.0, 2.0, 4.0, 3.0, 3.0, 5.0, 2.0, 2.0, 5.0, 1.0, 5.0, 5.0, 4.0, 5.0, 4.0, 5.0, 4.0, 1.0, 5.0, 3.0, 2.0, 3.0, 2.0, 5.0, 4.0, 1.0, 3.0, 2.0, 1.0, 4.0, 5.0, 5.0, 4.0, 5.0, 5.0, 1.0, 1.0, 5.0, 1.0, 5.0, 3.0, 5.0, 5.0, 3.0, 1.0, 1.0, 1.0, 4.0, 4.0, 5.0, 1.0, 3.0, 4.0, 3.0, 3.0, 4.0, 2.0, 1.0, 1.0, 3.0, 1.0, 1.0, 5.0, 2.0, 1.0, 1.0, 1.0, 5.0, 5.0, 5.0, 1.0, 1.0, 2.0, 5.0, 4.0, 1.0, 1.0, 5.0, 3.0, 1.0, 2.0, 1.0, 3.0, 4.0, 1.0, 2.0, 1.0, 2.0, 2.0, 3.0, 1.0, 1.0, 1.0, 1.0, 2.0, 5.0, 2.0, 2.0, 2.0, 4.0, 1.0, 4.0, 4.0, 1.0, 2.0, 4.0, 1.0, 2.0, 5.0, 5.0, 1.0, 4.0, 1.0, 5.0, 5.0, 1.0, 4.0, 3.0, 4.0, 1.0, 3.0, 3.0, 1.0, 1.0, 1.0, 1.0, 2.0, 1.0, 1.0, 1.0, 5.0, 5.0, 3.0, 5.0, 3.0, 2.0, 5.0, 5.0, 5.0, 1.0, 2.0, 2.0, 1.0, 2.0, 1.0, 2.0, 1.0, 2.0, 3.0, 2.0, 2.0, 1.0, 1.0, 2.0, 2.0, 2.0, 1.0, 5.0, 1.0, 1.0, 3.0, 1.0, 5.0, 5.0, 5.0, 3.0, 1.0, 1.0, 3.0, 1.0, 4.0, 2.0, 4.0, 5.0, 4.0, 1.0, 5.0, 1.0, 1.0, 1.0, 1.0, 2.0, 1.0, 2.0, 3.0, 1.0, 1.0, 1.0, 1.0, 4.0, 2.0, 3.0, 1.0, 1.0, 2.0, 3.0, 1.0, 1.0, 1.0, 1.0, 5.0, 4.0, 5.0, 1.0, 2.0, 1.0, 2.0, 1.0, 1.0, 1.0, 1.0, 4.0, 5.0, 1.0, 4.0, 2.0, 3.0, 3.0, 1.0, 5.0, 1.0, 5.0, 5.0, 2.0, 5.0, 4.0, 4.0, 5.0, 1.0, 3.0, 4.0, 5.0, 2.0, 1.0, 1.0, 1.0, 5.0, 3.0, 1.0, 1.0, 1.0, 1.0, 5.0, 5.0, 1.0, 3.0, 4.0, 1.0, 2.0, 1.0, 5.0, 1.0, 3.0, 3.0, 2.0, 5.0, 1.0, 3.0, 1.0, 4.0, 4.0, 1.0, 5.0, 2.0, 1.0, 1.0, 4.0, 1.0, 3.0, 5.0, 3.0, 2.0, 1.0, 3.0, 2.0, 1.0, 1.0, 4.0, 1.0, 5.0, 1.0, 2.0, 1.0, 2.0, 1.0, 1.0, 5.0, 1.0, 3.0, 1.0, 1.0, 3.0, 1.0, 1.0, 5.0, 4.0, 1.0, 4.0, 1.0, 2.0, 1.0, 1.0, 1.0, 1.0, 1.0, 1.0, 5.0, 2.0, 5.0, 1.0, 1.0, 1.0, 4.0, 3.0, 4.0, 5.0, 3.0, 4.0, 3.0, 1.0, 3.0, 5.0, 5.0, 1.0, 5.0, 2.0, 1.0, 4.0, 4.0, 4.0, 5.0, 5.0, 3.0, 1.0, 5.0, 5.0, 1.0, 3.0, 1.0, 1.0, 4.0, 3.0, 3.0, 3.0, 3.0, 4.0, 1.0, 4.0, 5.0, 4.0, 3.0, 5.0, 5.0, 4.0, 3.0, 1.0, 5.0, 5.0, 3.0, 1.0, 1.0, 5.0, 2.0, 5.0, 4.0, 5.0, 3.0, 4.0, 5.0, 1.0, 5.0, 2.0, 2.0, 1.0, 3.0, 2.0, 1.0, 4.0, 5.0, 4.0, 1.0, 5.0, 4.0, 1.0, 5.0, 5.0, 2.0, 3.0, 5.0, 2.0, 3.0, 5.0, 1.0, 4.0, 3.0, 5.0, 2.0, 3.0, 5.0, 5.0, 1.0, 5.0, 3.0, 4.0, 1.0, 3.0, 5.0, 1.0, 4.0, 3.0, 1.0, 2.0, 1.0, 3.0, 2.0, 1.0, 5.0, 4.0, 5.0, 4.0, 1.0, 1.0, 1.0, 1.0, 2.0, 1.0, 1.0, 1.0, 5.0, 5.0, 2.0, 1.0, 5.0, 4.0, 2.0, 4.0, 1.0, 1.0, 4.0, 1.0, 1.0, 1.0, 5.0, 4.0, 1.0, 1.0, 5.0, 5.0, 2.0, 1.0, 1.0, 5.0, 1.0, 1.0, 2.0, 1.0, 1.0, 2.0, 2.0, 1.0, 5.0, 5.0, 2.0, 4.0, 1.0, 4.0, 3.0, 4.0, 3.0, 4.0, 5.0, 1.0, 4.0, 5.0, 5.0, 4.0, 3.0, 5.0, 5.0, 5.0, 5.0, 4.0, 5.0, 1.0, 1.0, 1.0, 5.0, 5.0, 2.0, 2.0, 4.0, 3.0, 5.0, 4.0, 2.0, 5.0, 4.0, 4.0, 5.0, 1.0, 3.0, 1.0, 1.0, 4.0, 1.0, 1.0, 1.0, 1.0, 1.0, 1.0, 1.0, 4.0, 2.0, 5.0, 1.0, 1.0, 4.0, 3.0, 2.0, 3.0, 2.0, 3.0, 4.0, 5.0, 2.0, 5.0, 1.0, 1.0, 1.0, 1.0, 1.0, 1.0, 1.0, 1.0, 3.0, 1.0, 5.0, 5.0, 5.0, 5.0, 1.0, 1.0, 1.0, 1.0, 1.0, 2.0, 5.0, 1.0, 4.0, 4.0, 1.0, 1.0, 4.0, 1.0, 1.0, 5.0, 4.0, 4.0, 1.0, 5.0, 1.0, 3.0, 2.0, 2.0, 4.0, 1.0, 1.0, 1.0, 5.0, 4.0, 4.0, 4.0, 1.0, 1.0, 5.0, 5.0, 3.0, 5.0, 3.0, 4.0, 4.0, 4.0, 1.0, 5.0, 1.0, 4.0, 2.0, 1.0, 4.0, 5.0, 1.0, 1.0, 4.0, 3.0, 3.0, 1.0, 1.0, 1.0, 1.0, 2.0, 1.0, 3.0, 1.0, 3.0, 3.0, 2.0, 5.0, 3.0, 5.0, 1.0, 1.0, 3.0, 1.0, 5.0, 1.0, 1.0, 1.0, 1.0, 2.0, 4.0, 3.0, 5.0, 1.0, 1.0, 1.0, 5.0, 1.0, 3.0, 4.0, 5.0, 4.0, 5.0, 4.0, 5.0, 5.0, 5.0, 2.0, 1.0, 1.0, 1.0, 1.0, 1.0, 1.0, 3.0, 1.0, 1.0, 5.0, 1.0, 1.0, 1.0, 4.0, 4.0, 4.0, 1.0, 1.0, 1.0, 4.0, 4.0, 5.0, 1.0, 1.0, 1.0, 5.0, 1.0, 1.0, 1.0, 5.0, 1.0, 1.0, 1.0, 1.0, 3.0, 5.0, 1.0, 1.0, 1.0, 1.0, 1.0, 1.0, 5.0, 1.0, 1.0, 1.0, 2.0, 1.0, 1.0, 1.0, 1.0, 2.0, 1.0, 3.0, 1.0, 5.0, 1.0, 5.0, 4.0, 5.0, 4.0, 1.0, 5.0, 1.0, 3.0, 5.0, 5.0, 3.0, 2.0, 3.0, 2.0, 3.0, 1.0, 1.0, 1.0, 4.0, 1.0, 4.0, 5.0, 5.0, 2.0, 1.0, 4.0, 3.0, 1.0, 5.0, 1.0, 1.0, 5.0, 1.0, 5.0, 1.0, 2.0, 5.0, 5.0, 3.0, 1.0, 4.0, 1.0, 1.0, 1.0, 1.0, 1.0, 1.0, 3.0, 4.0, 1.0, 1.0, 1.0, 2.0, 3.0, 1.0, 4.0, 1.0, 3.0, 2.0, 1.0, 3.0, 1.0, 5.0, 5.0, 1.0, 1.0, 3.0, 5.0, 2.0, 5.0, 5.0, 2.0, 5.0, 5.0, 4.0, 1.0, 5.0, 5.0, 5.0, 5.0, 2.0, 4.0, 2.0, 5.0, 1.0, 4.0, 4.0, 4.0, 2.0, 2.0, 1.0, 5.0, 5.0, 5.0, 1.0, 2.0, 3.0, 4.0, 1.0, 1.0, 2.0, 1.0, 1.0, 5.0, 5.0, 2.0, 5.0, 1.0, 4.0, 3.0, 1.0, 2.0, 4.0, 5.0, 1.0, 3.0, 2.0, 1.0, 2.0, 2.0, 1.0, 1.0, 1.0, 3.0, 2.0, 1.0, 1.0, 2.0, 1.0, 1.0, 1.0, 1.0, 5.0, 1.0, 4.0, 5.0, 5.0, 5.0, 5.0, 5.0, 5.0, 5.0, 5.0, 5.0, 1.0, 1.0, 5.0, 1.0, 1.0, 5.0, 3.0, 4.0, 3.0, 1.0, 1.0, 1.0, 5.0, 1.0, 5.0, 4.0, 5.0, 5.0, 1.0, 1.0, 1.0, 1.0, 1.0, 1.0, 4.0, 2.0, 1.0, 1.0, 1.0, 1.0, 1.0, 4.0, 1.0, 1.0, 4.0, 2.0, 2.0, 1.0, 1.0, 5.0, 5.0, 5.0, 1.0, 5.0, 5.0, 5.0, 4.0, 1.0, 2.0, 1.0, 1.0, 4.0, 1.0, 2.0, 5.0, 5.0, 2.0, 1.0, 1.0, 1.0, 1.0, 1.0, 5.0, 3.0, 5.0, 5.0, 3.0, 2.0, 1.0, 2.0, 3.0, 3.0, 5.0, 5.0, 3.0, 1.0, 1.0, 1.0, 5.0, 1.0, 5.0, 1.0, 1.0, 1.0, 1.0, 1.0, 1.0, 5.0, 1.0, 5.0, 3.0, 1.0, 3.0, 5.0, 1.0, 2.0, 5.0, 1.0, 1.0, 2.0, 2.0, 3.0, 1.0, 2.0, 4.0, 2.0, 1.0, 5.0, 1.0, 1.0, 1.0, 3.0, 1.0, 3.0, 1.0, 3.0, 5.0, 1.0, 1.0, 1.0, 5.0, 3.0, 1.0, 1.0, 5.0, 1.0, 1.0, 1.0, 2.0, 1.0, 2.0, 4.0, 2.0, 1.0, 1.0, 1.0, 1.0, 2.0, 1.0, 4.0, 3.0, 5.0, 4.0, 2.0, 1.0, 3.0, 1.0, 1.0, 1.0, 3.0, 5.0, 5.0, 2.0, 4.0, 5.0, 4.0, 1.0, 4.0, 1.0, 1.0, 2.0, 1.0, 3.0, 2.0, 3.0, 1.0, 2.0, 5.0, 2.0, 1.0, 5.0, 3.0, 1.0, 5.0, 1.0, 5.0, 2.0, 2.0, 4.0, 1.0, 1.0, 2.0, 1.0, 1.0, 1.0, 1.0, 5.0, 1.0, 5.0, 1.0, 2.0, 5.0, 5.0, 5.0, 5.0, 5.0, 4.0, 1.0, 4.0, 1.0, 3.0, 4.0, 5.0, 3.0, 5.0, 1.0, 5.0, 1.0, 1.0, 1.0, 1.0, 4.0, 3.0, 5.0, 5.0, 3.0, 4.0, 1.0, 1.0, 2.0, 4.0, 5.0, 4.0, 3.0, 4.0, 1.0, 2.0, 1.0, 1.0, 1.0, 1.0, 1.0, 1.0, 5.0, 1.0, 1.0, 2.0, 5.0, 5.0, 1.0, 1.0, 3.0, 1.0, 1.0, 4.0, 1.0, 1.0, 2.0, 4.0, 4.0, 5.0, 5.0, 5.0, 3.0, 5.0, 5.0, 1.0, 1.0, 1.0, 2.0, 1.0, 1.0, 1.0, 5.0, 1.0, 1.0, 4.0, 1.0, 3.0, 3.0, 5.0, 1.0, 2.0, 1.0, 5.0, 1.0, 1.0, 1.0, 1.0, 1.0, 1.0, 1.0, 4.0, 3.0, 1.0, 1.0, 4.0, 3.0, 3.0, 3.0, 4.0, 1.0, 4.0, 1.0, 2.0, 5.0, 2.0, 2.0, 1.0, 1.0, 4.0, 2.0, 1.0, 1.0, 1.0, 1.0, 5.0, 5.0, 1.0, 2.0, 5.0, 1.0, 2.0, 2.0, 1.0, 3.0, 1.0, 4.0, 1.0, 3.0, 2.0, 4.0, 5.0, 1.0, 1.0, 5.0, 3.0, 5.0, 1.0, 1.0, 1.0, 4.0, 1.0, 4.0, 1.0, 1.0, 2.0, 5.0, 2.0, 1.0, 5.0, 2.0, 4.0, 2.0, 2.0, 1.0, 4.0, 2.0, 1.0, 1.0, 1.0, 5.0, 4.0, 1.0, 5.0, 1.0, 4.0, 4.0, 2.0, 1.0, 1.0, 2.0, 4.0, 5.0, 1.0, 5.0, 3.0, 4.0, 1.0, 5.0, 4.0, 3.0, 5.0, 2.0, 2.0, 5.0, 3.0, 1.0, 5.0, 1.0, 4.0, 3.0, 2.0, 5.0, 1.0, 5.0, 5.0, 4.0, 5.0, 3.0, 4.0, 1.0, 5.0, 4.0, 4.0, 1.0, 5.0, 4.0, 2.0, 4.0, 3.0, 1.0, 2.0, 1.0, 1.0, 4.0, 1.0, 1.0, 1.0, 5.0, 1.0, 1.0, 5.0, 2.0, 4.0, 2.0, 4.0, 2.0, 1.0, 1.0, 2.0, 2.0, 3.0, 4.0, 1.0, 1.0, 3.0, 4.0, 4.0, 1.0, 5.0, 4.0, 1.0, 1.0, 1.0, 1.0, 1.0, 1.0, 4.0, 4.0, 2.0, 4.0, 1.0, 1.0, 1.0, 1.0, 1.0, 1.0, 1.0, 1.0, 1.0, 5.0, 1.0, 5.0, 1.0, 1.0, 1.0, 5.0, 1.0, 1.0, 3.0, 1.0, 5.0, 1.0, 1.0, 5.0, 5.0, 1.0, 1.0, 4.0, 4.0, 1.0, 1.0, 1.0, 1.0, 1.0, 1.0, 4.0, 3.0, 5.0, 2.0, 5.0, 2.0, 1.0, 1.0, 1.0, 2.0, 1.0, 5.0, 2.0, 1.0, 1.0, 1.0, 1.0, 5.0, 1.0, 1.0, 5.0, 1.0, 1.0, 1.0, 1.0, 3.0, 1.0, 4.0, 4.0, 4.0, 5.0, 1.0, 1.0, 1.0, 1.0, 1.0, 2.0, 1.0, 2.0, 1.0, 4.0, 4.0, 4.0, 1.0, 1.0, 2.0, 1.0, 1.0, 3.0, 1.0, 1.0, 5.0, 4.0, 5.0, 1.0, 2.0, 5.0, 4.0, 2.0, 1.0, 1.0, 5.0, 1.0, 2.0, 1.0, 5.0, 4.0, 3.0, 1.0, 1.0, 1.0, 2.0, 1.0, 3.0, 2.0, 4.0, 5.0, 1.0, 4.0, 5.0, 4.0, 2.0, 2.0, 5.0, 2.0, 5.0, 3.0, 1.0, 4.0, 5.0, 1.0, 5.0, 5.0, 4.0, 2.0, 5.0, 5.0, 5.0, 5.0, 5.0, 1.0, 1.0, 5.0, 3.0, 4.0, 1.0, 1.0, 1.0, 1.0, 5.0, 5.0, 4.0, 5.0, 4.0, 4.0, 1.0, 4.0, 5.0, 1.0, 1.0, 1.0, 2.0, 1.0, 1.0, 1.0, 1.0, 2.0, 5.0, 1.0, 3.0, 5.0, 3.0, 1.0, 1.0, 1.0, 1.0, 1.0, 3.0, 2.0, 1.0, 1.0, 4.0, 5.0, 5.0, 5.0, 5.0, 1.0, 5.0, 5.0, 5.0, 5.0, 2.0, 4.0, 3.0, 1.0, 2.0, 5.0, 1.0, 5.0, 5.0, 5.0, 4.0, 1.0, 2.0, 3.0, 2.0, 1.0, 2.0, 5.0, 3.0, 4.0, 2.0, 1.0, 1.0, 1.0, 1.0, 2.0, 1.0, 5.0, 5.0, 5.0, 2.0, 5.0, 5.0, 4.0, 4.0, 2.0, 1.0, 1.0, 2.0, 5.0, 2.0, 4.0, 1.0, 5.0, 3.0, 3.0, 1.0, 2.0, 1.0, 1.0, 5.0, 1.0, 5.0, 3.0, 1.0, 1.0, 5.0, 4.0, 1.0, 4.0, 1.0, 4.0, 1.0, 1.0, 5.0, 1.0, 2.0, 3.0, 1.0, 5.0, 5.0, 3.0, 1.0, 2.0, 4.0, 1.0, 4.0, 4.0, 4.0, 5.0, 5.0, 5.0, 1.0, 1.0, 2.0, 4.0, 2.0, 3.0, 1.0, 1.0, 1.0, 1.0, 2.0, 1.0, 4.0, 2.0, 5.0, 1.0, 3.0, 2.0, 3.0, 3.0, 1.0, 2.0, 1.0, 5.0, 5.0, 2.0, 2.0, 1.0, 5.0, 3.0, 2.0, 3.0, 2.0, 2.0, 4.0, 5.0, 2.0, 3.0, 5.0, 3.0, 3.0, 5.0, 1.0, 3.0, 2.0, 3.0, 2.0, 1.0, 1.0, 1.0, 1.0, 1.0, 4.0, 4.0, 2.0, 3.0, 1.0, 5.0, 1.0, 1.0, 1.0, 1.0, 3.0, 1.0, 1.0, 5.0, 2.0, 4.0, 3.0, 1.0, 5.0, 2.0, 1.0, 5.0, 4.0, 1.0, 3.0, 1.0, 1.0, 2.0, 4.0, 2.0, 1.0, 1.0, 5.0, 3.0, 1.0, 4.0, 1.0, 1.0, 3.0, 1.0, 5.0, 4.0, 1.0, 3.0, 1.0, 2.0, 1.0, 5.0, 4.0, 4.0, 5.0, 4.0, 2.0, 5.0, 3.0, 1.0, 2.0, 5.0, 1.0, 1.0, 3.0, 1.0, 3.0, 1.0, 1.0, 5.0, 4.0, 3.0, 3.0, 1.0, 1.0, 1.0, 1.0, 1.0, 1.0, 1.0, 4.0, 1.0, 5.0, 1.0, 1.0, 1.0, 1.0, 1.0, 1.0, 1.0, 4.0, 1.0, 3.0, 1.0, 5.0, 3.0, 1.0, 1.0, 5.0, 4.0, 2.0, 4.0, 4.0, 2.0, 3.0, 3.0, 1.0, 3.0, 1.0, 5.0, 1.0, 1.0, 4.0, 2.0, 1.0, 1.0, 3.0, 4.0, 4.0, 5.0, 4.0, 5.0, 4.0, 5.0, 5.0, 5.0, 3.0, 4.0, 3.0, 3.0, 1.0, 3.0, 5.0, 1.0, 4.0, 4.0, 5.0, 2.0, 1.0, 3.0, 1.0, 1.0, 5.0, 5.0, 1.0, 1.0, 2.0, 5.0, 4.0, 1.0, 4.0, 4.0, 1.0, 3.0, 4.0, 3.0, 1.0, 1.0, 1.0, 1.0, 5.0, 2.0, 3.0, 3.0, 3.0, 4.0, 5.0, 4.0, 1.0, 5.0, 5.0, 5.0, 1.0, 4.0, 1.0, 1.0, 5.0, 2.0, 5.0, 2.0, 5.0, 1.0, 2.0, 1.0, 1.0, 2.0, 3.0, 1.0, 1.0, 1.0, 1.0, 1.0, 3.0, 3.0, 5.0, 2.0, 1.0, 1.0, 2.0, 1.0, 1.0, 5.0, 1.0, 2.0, 2.0, 1.0, 5.0, 1.0, 5.0, 1.0, 2.0, 2.0, 1.0, 4.0, 3.0, 2.0, 1.0, 5.0, 1.0, 1.0, 5.0, 1.0, 2.0, 2.0, 5.0, 3.0, 4.0, 1.0, 2.0, 1.0, 1.0, 1.0, 5.0, 1.0, 1.0, 5.0, 1.0, 1.0, 1.0, 1.0, 3.0, 5.0, 5.0, 1.0, 5.0, 5.0, 4.0, 5.0, 5.0, 1.0, 4.0, 1.0, 3.0, 5.0, 1.0, 5.0, 4.0, 3.0, 4.0, 1.0, 1.0, 4.0, 1.0, 1.0, 5.0, 3.0, 4.0, 1.0, 5.0, 2.0, 5.0, 4.0, 3.0, 4.0, 2.0, 5.0, 1.0, 1.0, 2.0, 1.0, 5.0, 5.0, 1.0, 1.0, 1.0, 1.0, 4.0, 2.0, 1.0, 1.0, 1.0, 5.0, 1.0, 1.0, 1.0, 5.0, 1.0, 1.0, 5.0, 5.0, 5.0, 4.0, 1.0, 4.0, 1.0, 3.0, 1.0, 5.0, 5.0, 5.0, 5.0, 5.0, 5.0, 5.0, 5.0, 1.0, 2.0, 5.0, 4.0, 5.0, 1.0, 4.0, 4.0, 2.0, 5.0, 4.0, 4.0, 5.0, 2.0, 5.0, 1.0, 5.0, 5.0, 5.0, 5.0, 2.0, 5.0, 1.0, 2.0, 1.0, 1.0, 2.0, 2.0, 3.0, 5.0, 1.0, 5.0, 3.0, 5.0, 5.0, 5.0, 5.0, 5.0, 5.0, 4.0, 1.0, 5.0, 5.0, 5.0, 4.0, 5.0, 1.0, 5.0, 5.0, 5.0, 3.0, 5.0, 1.0, 1.0, 1.0, 5.0, 5.0, 5.0, 1.0, 5.0, 1.0, 1.0, 3.0, 1.0, 5.0, 2.0, 5.0, 4.0, 5.0, 3.0, 1.0, 1.0, 1.0, 1.0, 1.0, 1.0, 3.0, 3.0, 1.0, 5.0, 3.0, 4.0, 5.0, 5.0, 1.0, 1.0, 5.0, 1.0, 4.0, 5.0, 5.0, 3.0, 5.0, 4.0, 5.0, 4.0, 1.0, 5.0, 5.0, 1.0, 1.0, 5.0, 2.0, 5.0, 3.0, 5.0, 1.0, 1.0, 4.0, 2.0, 2.0, 5.0, 1.0, 1.0, 1.0, 5.0, 5.0, 1.0, 4.0, 3.0, 5.0, 5.0, 3.0, 1.0, 3.0, 4.0, 1.0, 5.0, 2.0, 5.0, 4.0, 5.0, 5.0, 5.0, 1.0, 1.0, 4.0, 2.0, 1.0, 5.0, 5.0, 1.0, 5.0, 4.0, 1.0, 1.0, 5.0, 1.0, 2.0, 4.0, 5.0, 5.0, 4.0, 1.0, 5.0, 5.0, 5.0, 4.0, 5.0, 5.0, 1.0, 1.0, 3.0, 4.0, 3.0, 1.0, 2.0, 5.0, 5.0, 1.0, 3.0, 2.0, 1.0, 1.0, 5.0, 4.0, 5.0, 1.0, 1.0, 1.0, 1.0, 1.0, 1.0, 1.0, 1.0, 1.0, 1.0, 2.0, 3.0, 2.0, 2.0, 3.0, 5.0, 5.0, 5.0, 2.0, 4.0, 4.0, 4.0, 3.0, 5.0, 2.0, 1.0, 1.0, 1.0, 3.0, 5.0, 1.0, 1.0, 4.0, 1.0, 5.0, 4.0, 1.0, 3.0, 3.0, 5.0, 1.0, 5.0, 1.0, 1.0, 1.0, 1.0, 1.0, 1.0, 1.0, 1.0, 1.0, 1.0, 1.0, 1.0, 1.0, 1.0, 1.0, 1.0, 1.0, 4.0, 1.0, 2.0, 1.0, 1.0, 1.0, 1.0, 1.0, 1.0, 1.0, 1.0, 1.0, 1.0, 1.0, 1.0, 3.0, 1.0, 1.0, 1.0, 3.0, 1.0, 5.0, 5.0, 5.0, 3.0, 5.0, 1.0, 1.0, 5.0, 1.0, 1.0, 2.0, 2.0, 5.0, 1.0, 1.0, 1.0, 1.0, 1.0, 1.0, 1.0, 1.0, 4.0, 2.0, 5.0, 1.0, 5.0, 3.0, 2.0, 1.0, 5.0, 5.0, 3.0, 1.0, 3.0, 3.0, 5.0, 4.0, 1.0, 3.0, 5.0, 5.0, 3.0, 4.0, 3.0, 1.0, 5.0, 5.0, 3.0, 1.0, 5.0, 3.0, 5.0, 1.0, 4.0, 5.0, 4.0, 1.0, 2.0, 4.0, 4.0, 4.0, 1.0, 4.0, 1.0, 1.0, 1.0, 1.0, 3.0, 1.0, 4.0, 1.0, 1.0, 1.0, 1.0, 3.0, 5.0, 5.0, 5.0, 1.0, 1.0, 1.0, 4.0, 1.0, 1.0, 5.0, 5.0, 2.0, 1.0, 1.0, 3.0, 1.0, 1.0, 3.0, 1.0, 1.0, 3.0, 1.0, 1.0, 1.0, 5.0, 4.0, 3.0, 5.0, 1.0, 1.0, 1.0, 1.0, 4.0, 1.0, 1.0, 2.0, 1.0, 3.0, 4.0, 4.0, 5.0, 3.0, 4.0, 3.0, 4.0, 2.0, 3.0, 1.0, 2.0, 1.0, 1.0, 1.0, 2.0, 5.0, 4.0, 1.0, 1.0, 1.0, 2.0, 1.0, 5.0, 1.0, 1.0, 5.0, 1.0, 1.0, 1.0, 3.0, 4.0, 5.0, 5.0, 4.0, 3.0, 2.0, 1.0, 2.0, 1.0, 1.0, 1.0, 4.0, 3.0, 1.0, 4.0, 1.0, 1.0, 5.0, 2.0, 5.0, 1.0, 1.0, 2.0, 1.0, 1.0, 4.0, 4.0, 2.0, 2.0, 2.0, 4.0, 3.0, 1.0, 5.0, 1.0, 1.0, 5.0, 2.0, 1.0, 1.0, 5.0, 5.0, 2.0, 1.0, 2.0, 2.0, 5.0, 3.0, 4.0, 1.0, 2.0, 1.0, 5.0, 5.0, 1.0, 1.0, 5.0, 4.0, 1.0, 5.0, 5.0, 1.0, 5.0, 1.0, 5.0, 1.0, 3.0, 5.0, 1.0, 1.0, 1.0, 1.0, 1.0, 2.0, 1.0, 2.0, 1.0, 5.0, 5.0, 5.0, 1.0, 1.0, 4.0, 1.0, 1.0, 5.0, 3.0, 5.0, 1.0, 1.0, 5.0, 1.0, 2.0, 1.0, 5.0, 3.0, 1.0, 4.0, 2.0, 1.0, 4.0, 5.0, 5.0, 2.0, 1.0, 4.0, 1.0, 1.0, 1.0, 1.0, 5.0, 5.0, 1.0, 5.0, 1.0, 5.0, 1.0, 5.0, 1.0, 1.0, 5.0, 5.0, 1.0, 5.0, 4.0, 1.0, 5.0, 4.0, 1.0, 5.0, 1.0, 1.0, 5.0, 1.0, 5.0, 5.0, 2.0, 4.0, 2.0, 5.0, 2.0, 1.0, 1.0, 3.0, 3.0, 3.0, 1.0, 1.0, 1.0, 1.0, 4.0, 1.0, 1.0, 5.0, 5.0, 1.0, 2.0, 5.0, 2.0, 1.0, 1.0, 1.0, 5.0, 5.0, 1.0, 3.0, 4.0, 5.0, 4.0, 1.0, 1.0, 1.0, 5.0, 3.0, 2.0, 1.0, 4.0, 1.0, 5.0, 1.0, 5.0, 2.0, 1.0, 1.0, 5.0, 1.0, 1.0, 1.0, 1.0, 1.0, 5.0, 1.0, 1.0, 3.0, 3.0, 1.0, 5.0, 2.0, 2.0, 4.0, 5.0, 1.0, 1.0, 5.0, 5.0, 1.0, 2.0, 3.0, 1.0, 1.0, 1.0, 1.0, 1.0, 3.0, 1.0, 5.0, 5.0, 3.0, 5.0, 3.0, 2.0, 4.0, 5.0, 2.0, 2.0, 5.0, 5.0, 4.0, 4.0, 1.0, 1.0, 1.0, 5.0, 3.0, 4.0, 2.0, 4.0, 1.0, 3.0, 1.0, 5.0, 3.0, 3.0, 4.0, 5.0, 4.0, 5.0, 5.0, 1.0, 2.0, 1.0, 4.0, 4.0, 4.0, 1.0, 2.0, 2.0, 3.0, 3.0, 5.0, 4.0, 4.0, 2.0, 4.0, 1.0, 1.0, 3.0, 5.0, 2.0, 1.0, 1.0, 2.0, 5.0, 3.0, 5.0, 1.0, 5.0, 1.0, 4.0, 1.0, 1.0, 1.0, 1.0, 1.0, 5.0, 1.0, 2.0, 4.0, 1.0, 5.0, 1.0, 4.0, 5.0, 5.0, 3.0, 2.0, 5.0, 4.0, 5.0, 1.0, 4.0, 2.0, 2.0, 4.0, 2.0, 3.0, 3.0, 2.0, 1.0, 1.0, 1.0, 1.0, 3.0, 1.0, 1.0, 5.0, 1.0, 1.0, 5.0, 1.0, 1.0, 1.0, 4.0, 3.0, 4.0, 5.0, 5.0, 4.0, 5.0, 5.0, 4.0, 1.0, 3.0, 3.0, 1.0, 3.0, 3.0, 1.0, 2.0, 5.0, 4.0, 5.0, 2.0, 4.0, 1.0, 1.0, 1.0, 1.0, 4.0, 2.0, 3.0, 3.0, 1.0, 5.0, 1.0, 1.0, 1.0, 1.0, 5.0, 2.0, 1.0, 4.0, 4.0, 2.0, 5.0, 1.0, 4.0, 1.0, 4.0, 4.0, 1.0, 5.0, 4.0, 5.0, 5.0, 3.0, 5.0, 5.0, 5.0, 4.0, 2.0, 5.0, 3.0, 1.0, 5.0, 3.0, 5.0, 5.0, 2.0, 4.0, 5.0, 5.0, 5.0, 5.0, 5.0, 1.0, 4.0, 4.0, 4.0, 1.0, 2.0, 1.0, 1.0, 2.0, 5.0, 1.0, 3.0, 4.0, 1.0, 1.0, 1.0, 4.0, 1.0, 5.0, 2.0, 5.0, 1.0, 4.0, 1.0, 1.0, 1.0, 1.0, 1.0, 1.0, 1.0, 1.0, 3.0, 1.0, 1.0, 1.0, 1.0, 1.0, 1.0, 1.0, 1.0, 5.0, 1.0, 3.0, 3.0, 1.0, 1.0, 3.0, 3.0, 4.0, 3.0, 4.0, 4.0, 1.0, 5.0, 4.0, 5.0, 1.0, 1.0, 1.0, 5.0, 5.0, 5.0, 3.0, 5.0, 5.0, 4.0, 4.0, 5.0, 5.0, 4.0, 5.0, 5.0, 5.0, 4.0, 1.0, 3.0, 1.0, 1.0, 1.0, 4.0, 5.0, 1.0, 5.0, 2.0, 5.0, 5.0, 4.0, 4.0, 3.0, 1.0, 1.0, 1.0, 1.0, 1.0, 1.0, 5.0, 2.0, 3.0, 1.0, 1.0, 1.0, 3.0, 1.0, 1.0, 1.0, 1.0, 1.0, 1.0, 1.0, 1.0, 1.0, 4.0, 5.0, 1.0, 1.0, 3.0, 3.0, 3.0, 5.0, 4.0, 2.0, 5.0, 5.0, 3.0, 1.0, 3.0, 5.0, 4.0, 4.0, 4.0, 1.0, 4.0, 1.0, 1.0, 2.0, 2.0, 5.0, 2.0, 1.0, 1.0, 1.0, 1.0, 1.0, 4.0, 1.0, 1.0, 1.0, 1.0, 1.0, 1.0, 4.0, 3.0, 2.0, 5.0, 5.0, 2.0, 3.0, 1.0, 4.0, 3.0, 1.0, 2.0, 1.0, 1.0, 1.0, 1.0, 1.0, 1.0, 1.0, 1.0, 1.0, 1.0, 2.0, 4.0, 4.0, 5.0, 1.0, 1.0, 2.0, 1.0, 3.0, 2.0, 4.0, 2.0, 4.0, 1.0, 1.0, 1.0, 2.0, 4.0, 5.0, 1.0, 1.0, 1.0, 1.0, 5.0, 4.0, 3.0, 4.0, 1.0, 2.0, 3.0, 4.0, 1.0, 1.0, 3.0, 1.0, 1.0, 5.0, 5.0, 4.0, 3.0, 1.0, 1.0, 1.0, 1.0, 5.0, 1.0, 1.0, 2.0, 1.0, 4.0, 2.0, 1.0, 1.0, 1.0, 5.0, 5.0, 2.0, 4.0, 2.0, 4.0, 1.0, 5.0, 4.0, 1.0, 4.0, 1.0, 5.0, 5.0, 1.0, 2.0, 1.0, 5.0, 1.0, 1.0, 1.0, 2.0, 4.0, 4.0, 1.0, 5.0, 1.0, 2.0, 2.0, 1.0, 1.0, 1.0, 1.0, 1.0, 1.0, 1.0, 5.0, 3.0, 1.0, 3.0, 4.0, 4.0, 5.0, 5.0, 1.0, 5.0, 1.0, 1.0, 1.0, 5.0, 5.0, 4.0, 3.0, 3.0, 1.0, 4.0, 5.0, 3.0, 4.0, 5.0, 5.0, 5.0, 2.0, 1.0, 5.0, 5.0, 2.0, 1.0, 1.0, 1.0, 4.0, 5.0, 4.0, 2.0, 1.0, 5.0, 1.0, 4.0, 4.0, 1.0, 1.0, 3.0, 1.0, 5.0, 4.0, 1.0, 5.0, 5.0, 1.0, 4.0, 5.0, 4.0, 1.0, 5.0, 5.0, 4.0, 4.0, 5.0, 1.0, 1.0, 4.0, 1.0, 1.0, 1.0, 5.0, 5.0, 1.0, 5.0, 3.0, 5.0, 1.0, 3.0, 5.0, 1.0, 5.0, 1.0, 5.0, 1.0, 1.0, 1.0, 5.0, 5.0, 1.0, 5.0, 1.0, 1.0, 1.0, 1.0, 1.0, 1.0, 2.0, 1.0, 5.0, 5.0, 2.0, 1.0, 1.0, 1.0, 1.0, 1.0, 1.0, 5.0, 1.0, 1.0, 2.0, 1.0, 1.0, 2.0, 4.0, 1.0, 5.0, 2.0, 1.0, 1.0, 5.0, 1.0, 2.0, 4.0, 1.0, 1.0, 1.0, 4.0, 5.0, 5.0, 5.0, 1.0, 2.0, 5.0, 2.0, 5.0, 5.0, 3.0, 5.0, 5.0, 1.0, 1.0, 1.0, 5.0, 1.0, 1.0, 5.0, 5.0, 5.0, 5.0, 1.0, 5.0, 5.0, 4.0, 4.0, 5.0, 4.0, 5.0, 5.0, 4.0, 4.0, 4.0, 4.0, 5.0, 5.0, 2.0, 5.0, 3.0, 2.0, 5.0, 5.0, 1.0, 1.0, 1.0, 5.0, 5.0, 1.0, 4.0, 2.0, 4.0, 2.0, 1.0, 1.0, 1.0, 4.0, 4.0, 1.0, 1.0, 4.0, 4.0, 5.0, 1.0, 2.0, 2.0, 5.0, 1.0, 5.0, 1.0, 1.0, 1.0, 2.0, 1.0, 4.0, 1.0, 5.0, 3.0, 1.0, 4.0, 1.0, 3.0, 5.0, 3.0, 1.0, 2.0, 4.0, 1.0, 4.0, 4.0, 5.0, 4.0, 3.0, 4.0, 4.0, 1.0, 4.0, 1.0, 5.0, 2.0, 2.0, 4.0, 5.0, 1.0, 2.0, 1.0, 1.0, 1.0, 1.0, 1.0, 1.0, 2.0, 5.0, 4.0, 5.0, 1.0, 5.0, 1.0, 1.0, 1.0, 1.0, 3.0, 1.0, 5.0, 1.0, 1.0, 2.0, 2.0, 1.0, 4.0, 5.0, 5.0, 1.0, 5.0, 1.0, 5.0, 1.0, 4.0, 3.0, 5.0, 5.0, 1.0, 1.0, 5.0, 2.0, 4.0, 5.0, 5.0, 3.0, 1.0, 5.0, 2.0, 1.0, 1.0, 1.0, 1.0, 1.0, 2.0, 2.0, 1.0, 2.0, 1.0, 1.0, 1.0, 1.0, 1.0, 1.0, 4.0, 1.0, 5.0, 5.0, 2.0, 1.0, 2.0, 5.0, 1.0, 1.0, 5.0, 1.0, 1.0, 1.0, 5.0, 4.0, 2.0, 1.0, 5.0, 1.0, 1.0, 5.0, 1.0, 3.0, 1.0, 1.0, 3.0, 5.0, 1.0, 1.0, 4.0, 1.0, 1.0, 4.0, 2.0, 2.0, 4.0, 2.0, 1.0, 5.0, 3.0, 1.0, 2.0, 1.0, 1.0, 5.0, 1.0, 4.0, 5.0, 5.0, 1.0, 1.0, 1.0, 4.0, 2.0, 1.0, 3.0, 1.0, 1.0, 1.0, 1.0, 2.0, 3.0, 4.0, 1.0, 1.0, 1.0, 1.0, 5.0, 1.0, 1.0, 1.0, 5.0, 1.0, 5.0, 3.0, 5.0, 2.0, 5.0, 1.0, 1.0, 5.0, 4.0, 5.0, 3.0, 3.0, 3.0, 1.0, 1.0, 5.0, 2.0, 1.0, 1.0, 1.0, 4.0, 3.0, 1.0, 3.0, 1.0, 2.0, 5.0, 5.0, 1.0, 3.0, 5.0, 5.0, 1.0, 1.0, 1.0, 1.0, 1.0, 1.0, 2.0, 1.0, 1.0, 1.0, 2.0, 2.0, 4.0, 2.0, 5.0, 5.0, 4.0, 4.0, 5.0, 5.0, 1.0, 5.0, 4.0, 1.0, 5.0, 5.0, 5.0, 5.0, 5.0, 2.0, 5.0, 4.0, 4.0, 5.0, 1.0, 4.0, 5.0, 4.0, 1.0, 1.0, 1.0, 1.0, 3.0, 4.0, 1.0, 2.0, 1.0, 1.0, 5.0, 4.0, 1.0, 3.0, 4.0, 1.0, 5.0, 5.0, 4.0, 5.0, 4.0, 4.0, 1.0, 1.0, 1.0, 2.0, 4.0, 4.0, 3.0, 1.0, 3.0, 5.0, 1.0, 1.0, 1.0, 4.0, 5.0, 3.0, 5.0, 2.0, 4.0, 2.0, 5.0, 5.0, 5.0, 1.0, 4.0, 1.0, 1.0, 1.0, 1.0, 3.0, 1.0, 5.0, 1.0, 5.0, 1.0, 1.0, 1.0, 2.0, 2.0, 5.0, 2.0, 4.0, 5.0, 3.0, 1.0, 2.0, 4.0, 3.0, 1.0, 1.0, 1.0, 1.0, 1.0, 1.0, 3.0, 1.0, 1.0, 4.0, 1.0, 1.0, 1.0, 1.0, 5.0, 1.0, 1.0, 1.0, 1.0, 1.0, 1.0, 1.0, 5.0, 1.0, 1.0, 2.0, 1.0, 1.0, 1.0, 1.0, 3.0, 1.0, 5.0, 5.0, 1.0, 5.0, 1.0, 1.0, 1.0, 1.0, 1.0, 4.0, 3.0, 1.0, 2.0, 5.0, 3.0, 2.0, 5.0, 1.0, 1.0, 1.0, 1.0, 1.0, 1.0, 1.0, 3.0, 1.0, 3.0, 4.0, 3.0, 1.0, 4.0, 1.0, 1.0, 5.0, 5.0, 3.0, 1.0, 1.0, 1.0, 5.0, 2.0, 1.0, 1.0, 4.0, 3.0, 1.0, 1.0, 1.0, 1.0, 2.0, 2.0, 1.0, 1.0, 3.0, 1.0, 3.0, 1.0, 4.0, 4.0, 1.0, 1.0, 1.0, 5.0, 1.0, 2.0, 1.0, 4.0, 1.0, 5.0, 1.0, 2.0, 3.0, 1.0, 1.0, 4.0, 4.0, 1.0, 4.0, 2.0, 5.0, 1.0, 3.0, 4.0, 1.0, 3.0, 1.0, 5.0, 4.0, 1.0, 1.0, 1.0, 4.0, 3.0, 4.0, 1.0, 1.0, 1.0, 1.0, 5.0, 1.0, 2.0, 1.0, 1.0, 5.0, 1.0, 1.0, 5.0, 4.0, 2.0, 2.0, 1.0, 1.0, 1.0, 1.0, 2.0, 1.0, 4.0, 4.0, 1.0, 1.0, 1.0, 5.0, 4.0, 1.0, 5.0, 4.0, 5.0, 2.0, 2.0, 1.0, 1.0, 2.0, 3.0, 5.0, 4.0, 2.0, 1.0, 1.0, 5.0, 1.0, 3.0, 2.0, 3.0, 5.0, 2.0, 4.0, 3.0, 5.0, 5.0, 4.0, 1.0, 1.0, 4.0, 5.0, 5.0, 5.0, 1.0, 1.0, 1.0, 5.0, 1.0, 1.0, 1.0, 1.0, 1.0, 1.0, 5.0, 1.0, 1.0, 4.0, 1.0, 1.0, 1.0, 3.0, 2.0, 1.0, 5.0, 5.0, 5.0, 2.0, 2.0, 2.0, 4.0, 3.0, 1.0, 3.0, 5.0, 2.0, 1.0, 3.0, 2.0, 4.0, 4.0, 4.0, 2.0, 2.0, 1.0, 1.0, 5.0, 2.0, 1.0, 1.0, 1.0, 4.0, 2.0, 1.0, 2.0, 1.0, 1.0, 1.0, 1.0, 1.0, 1.0, 1.0, 1.0, 1.0, 1.0, 2.0, 1.0, 1.0, 1.0, 1.0, 1.0, 4.0, 2.0, 3.0, 1.0, 1.0, 1.0, 3.0, 1.0, 1.0, 1.0, 1.0, 1.0, 5.0, 1.0, 1.0, 2.0, 1.0, 1.0, 3.0, 3.0, 1.0, 1.0, 1.0, 2.0, 2.0, 1.0, 3.0, 1.0, 3.0, 2.0, 1.0, 1.0, 2.0, 5.0, 1.0, 1.0, 1.0, 1.0, 3.0, 5.0, 3.0, 4.0, 3.0, 5.0, 1.0, 3.0, 1.0, 1.0, 4.0, 1.0, 5.0, 5.0, 1.0, 5.0, 1.0, 1.0, 3.0, 1.0, 1.0, 4.0, 1.0, 1.0, 2.0, 4.0, 1.0, 1.0, 1.0, 2.0, 4.0, 1.0, 1.0, 1.0, 2.0, 1.0, 1.0, 3.0, 5.0, 1.0, 3.0, 5.0, 5.0, 5.0, 1.0, 3.0, 1.0, 5.0, 1.0, 3.0, 5.0, 5.0, 5.0, 5.0, 5.0, 5.0, 5.0, 3.0, 1.0, 5.0, 3.0, 1.0, 1.0, 1.0, 5.0, 4.0, 1.0, 5.0, 3.0, 4.0, 5.0, 5.0, 4.0, 5.0, 4.0, 5.0, 5.0, 5.0, 1.0, 5.0, 1.0, 4.0, 5.0, 5.0, 4.0, 3.0, 1.0, 1.0, 1.0, 1.0, 1.0, 1.0, 1.0, 1.0, 4.0, 5.0, 4.0, 5.0, 5.0, 4.0, 3.0, 5.0, 3.0, 4.0, 3.0, 2.0, 5.0, 1.0, 3.0, 1.0, 2.0, 5.0, 1.0, 4.0, 4.0, 2.0, 3.0, 5.0, 1.0, 4.0, 1.0, 1.0, 3.0, 4.0, 2.0, 3.0, 1.0, 5.0, 3.0, 2.0, 5.0, 1.0, 1.0, 5.0, 4.0, 5.0, 5.0, 4.0, 5.0, 5.0, 1.0, 5.0, 1.0, 1.0, 1.0, 1.0, 2.0, 5.0, 1.0, 2.0, 3.0, 1.0, 2.0, 4.0, 3.0, 4.0, 5.0, 1.0, 3.0, 3.0, 1.0, 3.0, 1.0, 2.0, 3.0, 1.0, 2.0, 1.0, 1.0, 1.0, 5.0, 1.0, 1.0, 3.0, 2.0, 2.0, 1.0, 2.0, 1.0, 2.0, 4.0, 1.0, 2.0, 1.0, 1.0, 1.0, 2.0, 1.0, 2.0, 5.0, 1.0, 1.0, 3.0, 4.0, 3.0, 4.0, 4.0, 1.0, 1.0, 1.0, 1.0, 3.0, 1.0, 5.0, 3.0, 3.0, 1.0, 1.0, 1.0, 1.0, 2.0, 1.0, 1.0, 1.0, 4.0, 5.0, 3.0, 3.0, 3.0, 5.0, 1.0, 1.0, 1.0, 2.0, 1.0, 3.0, 5.0, 1.0, 2.0, 3.0, 1.0, 5.0, 2.0, 5.0, 2.0, 1.0, 5.0, 1.0, 5.0, 2.0, 5.0, 5.0, 1.0, 5.0, 2.0, 1.0, 4.0, 3.0, 1.0, 3.0, 4.0, 2.0, 1.0, 2.0, 5.0, 2.0, 1.0, 2.0, 1.0, 5.0, 1.0, 4.0, 1.0, 3.0, 1.0, 1.0, 1.0, 1.0, 1.0, 1.0, 3.0, 1.0, 1.0, 1.0, 1.0, 4.0, 1.0, 4.0, 1.0, 1.0, 1.0, 2.0, 1.0, 3.0, 5.0, 1.0, 2.0, 1.0, 4.0, 2.0, 1.0, 4.0, 1.0, 5.0, 2.0, 2.0, 2.0, 4.0, 4.0, 5.0, 3.0, 1.0, 1.0, 5.0, 5.0, 1.0, 1.0, 2.0, 1.0, 1.0, 1.0, 1.0, 1.0, 1.0, 1.0, 4.0, 5.0, 1.0, 5.0, 1.0, 4.0, 4.0, 1.0, 1.0, 1.0, 1.0, 4.0, 1.0, 5.0, 1.0, 1.0, 1.0, 1.0, 4.0, 5.0, 4.0, 5.0, 1.0, 2.0, 5.0, 1.0, 1.0, 5.0, 1.0, 4.0, 1.0, 1.0, 1.0, 1.0, 2.0, 5.0, 4.0, 2.0, 5.0, 5.0, 1.0, 4.0, 1.0, 1.0, 1.0, 5.0, 5.0, 1.0, 3.0, 1.0, 2.0, 1.0, 1.0, 1.0, 3.0, 3.0, 4.0, 4.0, 5.0, 1.0, 1.0, 1.0, 2.0, 1.0, 5.0, 5.0, 1.0, 1.0, 3.0, 3.0, 1.0, 1.0, 3.0, 3.0, 1.0, 1.0, 5.0, 5.0, 5.0, 4.0, 4.0, 1.0, 5.0, 5.0, 1.0, 1.0, 1.0, 5.0, 3.0, 1.0, 1.0, 1.0, 5.0, 4.0, 4.0, 1.0, 4.0, 4.0, 3.0, 1.0, 4.0, 4.0, 4.0, 5.0, 1.0, 4.0, 4.0, 3.0, 5.0, 1.0, 5.0, 1.0, 5.0, 2.0, 1.0, 5.0, 2.0, 5.0, 5.0, 2.0, 1.0, 1.0, 5.0, 1.0, 5.0, 1.0, 4.0, 4.0, 1.0, 3.0, 2.0, 5.0, 3.0, 2.0, 4.0, 1.0, 3.0, 1.0, 5.0, 5.0, 1.0, 2.0, 3.0, 5.0, 1.0, 1.0, 1.0, 5.0, 1.0, 1.0, 2.0, 3.0, 1.0, 3.0, 2.0, 5.0, 1.0, 1.0, 1.0, 1.0, 1.0, 2.0, 1.0, 1.0, 1.0, 1.0, 1.0, 1.0, 1.0, 1.0, 1.0, 1.0, 4.0, 3.0, 3.0, 5.0, 2.0, 1.0, 2.0, 3.0, 3.0, 1.0, 5.0, 5.0, 5.0, 4.0, 4.0, 1.0, 2.0, 1.0, 1.0, 1.0, 4.0, 5.0, 5.0, 3.0, 5.0, 4.0, 1.0, 1.0, 4.0, 1.0, 1.0, 1.0, 3.0, 1.0, 1.0, 5.0, 1.0, 1.0, 1.0, 1.0, 5.0, 5.0, 1.0, 2.0, 4.0, 1.0, 2.0, 4.0, 1.0, 1.0, 3.0, 1.0, 1.0, 1.0, 5.0, 2.0, 5.0, 1.0, 4.0, 5.0, 1.0, 1.0, 3.0, 4.0, 1.0, 1.0, 4.0, 5.0, 1.0, 2.0, 2.0, 5.0, 1.0, 1.0, 2.0, 1.0, 1.0, 2.0, 1.0, 1.0, 4.0, 3.0, 4.0, 1.0, 1.0, 3.0, 1.0, 4.0, 1.0, 1.0, 1.0, 3.0, 5.0, 5.0, 1.0, 5.0, 5.0, 4.0, 5.0, 5.0, 5.0, 1.0, 1.0, 1.0, 3.0, 5.0, 1.0, 5.0, 5.0, 5.0, 1.0, 1.0, 1.0, 1.0, 1.0, 1.0, 1.0, 1.0, 1.0, 1.0, 1.0, 1.0, 1.0, 1.0, 4.0, 1.0, 1.0, 1.0, 1.0, 2.0, 1.0, 1.0, 1.0, 2.0, 5.0, 1.0, 1.0, 2.0, 1.0, 4.0, 1.0, 1.0, 1.0, 2.0, 1.0, 5.0, 1.0, 5.0, 1.0, 1.0, 1.0, 1.0, 4.0, 1.0, 1.0, 1.0, 1.0, 5.0, 1.0, 1.0, 2.0, 5.0, 4.0, 4.0, 4.0, 5.0, 2.0, 1.0, 1.0, 5.0, 1.0, 3.0, 3.0, 1.0, 3.0, 5.0, 5.0, 4.0, 1.0, 1.0, 1.0, 3.0, 1.0, 1.0, 2.0, 3.0, 1.0, 1.0, 1.0, 5.0, 1.0, 3.0, 1.0, 1.0, 1.0, 3.0, 3.0, 3.0, 1.0, 5.0, 5.0, 4.0, 3.0, 3.0, 1.0, 3.0, 5.0, 2.0, 3.0, 4.0, 1.0, 1.0, 3.0, 1.0, 5.0, 4.0, 1.0, 1.0, 3.0, 3.0, 1.0, 2.0, 1.0, 3.0, 1.0, 3.0, 4.0, 5.0, 5.0, 1.0, 1.0, 4.0, 1.0, 1.0, 1.0, 1.0, 1.0, 4.0, 1.0, 2.0, 1.0, 1.0, 1.0, 2.0, 1.0, 3.0, 2.0, 1.0, 1.0, 2.0, 2.0, 4.0, 1.0, 1.0, 4.0, 5.0, 1.0, 1.0, 1.0, 1.0, 1.0, 5.0, 5.0, 5.0, 5.0, 4.0, 5.0, 5.0, 5.0, 4.0, 5.0, 2.0, 5.0, 1.0, 1.0, 2.0, 5.0, 1.0, 5.0, 5.0, 5.0, 4.0, 4.0, 2.0, 3.0, 3.0, 1.0, 1.0, 1.0, 5.0, 5.0, 1.0, 3.0, 3.0, 1.0, 2.0, 4.0, 1.0, 1.0, 2.0, 5.0, 4.0, 1.0, 5.0, 3.0, 1.0, 1.0, 1.0, 1.0, 1.0, 1.0, 1.0, 5.0, 1.0, 5.0, 5.0, 5.0, 1.0, 5.0, 1.0, 3.0, 1.0, 1.0, 1.0, 1.0, 1.0, 2.0, 1.0, 1.0, 1.0, 1.0, 1.0, 1.0, 5.0, 1.0, 4.0, 5.0, 1.0, 1.0, 5.0, 5.0, 5.0, 5.0, 4.0, 5.0, 1.0, 1.0, 5.0, 5.0, 5.0, 2.0, 5.0, 5.0, 5.0, 1.0, 3.0, 2.0, 1.0, 3.0, 2.0, 5.0, 4.0, 4.0, 3.0, 1.0, 4.0, 5.0, 1.0, 5.0, 4.0, 4.0, 1.0, 4.0, 2.0, 1.0, 2.0, 5.0, 1.0, 1.0, 5.0, 5.0, 1.0, 5.0, 4.0, 1.0, 3.0, 2.0, 5.0, 1.0, 3.0, 1.0, 4.0, 5.0, 2.0, 5.0, 5.0, 5.0, 1.0, 5.0, 3.0, 1.0, 3.0, 4.0, 2.0, 1.0, 1.0, 1.0, 3.0, 1.0, 5.0, 2.0, 1.0, 4.0, 1.0, 1.0, 2.0, 4.0, 4.0, 1.0, 4.0, 3.0, 5.0, 5.0, 2.0, 4.0, 1.0, 3.0, 3.0, 1.0, 1.0, 5.0, 1.0, 1.0, 1.0, 5.0, 1.0, 1.0, 1.0, 5.0, 1.0, 5.0, 1.0, 5.0, 1.0, 2.0, 5.0, 5.0, 1.0, 1.0, 2.0, 5.0, 3.0, 1.0, 5.0, 2.0, 3.0, 5.0, 3.0, 1.0, 3.0, 3.0, 2.0, 4.0, 1.0, 1.0, 1.0, 4.0, 1.0, 5.0, 1.0, 1.0, 5.0, 1.0, 5.0, 5.0, 4.0, 1.0, 4.0, 5.0, 4.0, 1.0, 1.0, 1.0, 2.0, 4.0, 2.0, 1.0, 1.0, 5.0, 1.0, 2.0, 1.0, 3.0, 1.0, 1.0, 1.0, 1.0, 1.0, 1.0, 1.0, 5.0, 1.0, 1.0, 1.0, 4.0, 5.0, 1.0, 1.0, 1.0, 2.0, 1.0, 1.0, 1.0, 4.0, 1.0, 1.0, 1.0, 1.0, 4.0, 3.0, 4.0, 1.0, 2.0, 1.0, 5.0, 1.0, 1.0, 1.0, 1.0, 1.0, 4.0, 1.0, 1.0, 1.0, 2.0, 4.0, 1.0, 5.0, 3.0, 1.0, 4.0, 2.0, 1.0, 1.0, 3.0, 4.0, 1.0, 3.0, 1.0, 3.0, 1.0, 4.0, 1.0, 1.0, 4.0, 5.0, 5.0, 4.0, 5.0, 2.0, 4.0, 2.0, 5.0, 1.0, 5.0, 1.0, 1.0, 1.0, 1.0, 5.0, 1.0, 3.0, 1.0, 3.0, 3.0, 1.0, 2.0, 1.0, 2.0, 1.0, 3.0, 1.0, 2.0, 5.0, 1.0, 1.0, 5.0, 1.0, 1.0, 1.0, 1.0, 1.0, 1.0, 5.0, 1.0, 1.0, 4.0, 1.0, 1.0, 1.0, 3.0, 1.0, 1.0, 3.0, 2.0, 1.0, 1.0, 1.0, 3.0, 3.0, 1.0, 2.0, 4.0, 1.0, 4.0, 3.0, 4.0, 1.0, 1.0, 3.0, 1.0, 5.0, 1.0, 3.0, 1.0, 1.0, 1.0, 1.0, 1.0, 1.0, 1.0, 4.0, 2.0, 2.0, 1.0, 1.0, 3.0, 5.0, 5.0, 4.0, 1.0, 5.0, 3.0, 4.0, 5.0, 3.0, 1.0, 4.0, 5.0, 4.0, 5.0, 1.0, 5.0, 5.0, 1.0, 5.0, 3.0, 1.0, 3.0, 1.0, 3.0, 5.0, 1.0, 4.0, 1.0, 1.0, 3.0, 1.0, 4.0, 4.0, 1.0, 2.0, 5.0, 5.0, 1.0, 3.0, 5.0, 5.0, 5.0, 5.0, 3.0, 1.0, 1.0, 1.0, 4.0, 5.0, 4.0, 1.0, 2.0, 1.0, 5.0, 3.0, 5.0, 2.0, 2.0, 5.0, 2.0, 3.0, 3.0, 4.0, 1.0, 1.0, 2.0, 4.0, 4.0, 5.0, 4.0, 1.0, 1.0, 2.0, 4.0, 5.0, 4.0, 1.0, 5.0, 1.0, 1.0, 5.0, 1.0, 5.0, 5.0, 5.0, 4.0, 1.0, 2.0, 5.0, 1.0, 4.0, 1.0, 5.0, 5.0, 2.0, 5.0, 1.0, 1.0, 5.0, 5.0, 1.0, 1.0, 1.0, 1.0, 2.0, 1.0, 1.0, 5.0, 1.0, 3.0, 5.0, 5.0, 4.0, 3.0, 2.0, 4.0, 1.0, 4.0, 1.0, 2.0, 3.0, 3.0, 3.0, 1.0, 1.0, 3.0, 1.0, 1.0, 2.0, 1.0, 1.0, 5.0, 1.0, 1.0, 1.0, 5.0, 5.0, 1.0, 1.0, 5.0, 1.0, 1.0, 1.0, 5.0, 1.0, 1.0, 1.0, 4.0, 1.0, 4.0, 1.0, 1.0, 1.0, 1.0, 1.0, 1.0, 5.0, 2.0, 5.0, 1.0, 1.0, 2.0, 4.0, 3.0, 1.0, 4.0, 5.0, 1.0, 4.0, 1.0, 1.0, 3.0, 1.0, 4.0, 5.0, 5.0, 4.0, 2.0, 1.0, 4.0, 2.0, 1.0, 1.0, 5.0, 4.0, 5.0, 5.0, 5.0, 1.0, 1.0, 4.0, 1.0, 1.0, 4.0, 1.0, 5.0, 4.0, 3.0, 1.0, 2.0, 1.0, 1.0, 1.0, 4.0, 1.0, 1.0, 1.0, 2.0, 4.0, 1.0, 1.0, 5.0, 3.0, 1.0, 1.0, 1.0, 1.0, 1.0, 5.0, 2.0, 1.0, 4.0, 1.0, 5.0, 5.0, 5.0, 3.0, 3.0, 1.0, 1.0, 3.0, 1.0, 2.0, 1.0, 1.0, 1.0, 2.0, 2.0, 5.0, 1.0, 1.0, 4.0, 1.0, 5.0, 2.0, 1.0, 1.0, 1.0, 1.0, 1.0, 1.0, 1.0, 2.0, 3.0, 4.0, 1.0, 5.0, 3.0, 5.0, 2.0, 5.0, 1.0, 2.0, 3.0, 3.0, 1.0, 5.0, 1.0, 1.0, 2.0, 1.0, 1.0, 4.0, 1.0, 4.0, 2.0, 1.0, 5.0, 5.0, 4.0, 1.0, 1.0, 5.0, 5.0, 5.0, 4.0, 4.0, 1.0, 5.0, 1.0, 1.0, 2.0, 2.0, 4.0, 1.0, 5.0, 2.0, 1.0, 1.0, 1.0, 1.0, 3.0, 2.0, 4.0, 1.0, 1.0, 3.0, 4.0, 1.0, 1.0, 2.0, 3.0, 3.0, 1.0, 3.0, 5.0, 1.0, 3.0, 4.0, 1.0, 1.0, 1.0, 1.0, 1.0, 1.0, 1.0, 2.0, 3.0, 1.0, 3.0, 1.0, 1.0, 3.0, 4.0, 1.0, 1.0, 3.0, 5.0, 2.0, 3.0, 1.0, 4.0, 3.0, 1.0, 1.0, 1.0, 2.0, 1.0, 3.0, 2.0, 1.0, 1.0, 2.0, 1.0, 1.0, 1.0, 1.0, 2.0, 5.0, 3.0, 3.0, 1.0, 2.0, 2.0, 1.0, 1.0, 1.0, 1.0, 2.0, 4.0, 1.0, 1.0, 5.0, 4.0, 4.0, 5.0, 5.0, 5.0, 5.0, 5.0, 5.0, 5.0, 4.0, 5.0, 5.0, 3.0, 5.0, 5.0, 5.0, 4.0, 5.0, 5.0, 1.0, 1.0, 1.0, 3.0, 5.0, 1.0, 1.0, 1.0, 1.0, 5.0, 1.0, 5.0, 1.0, 1.0, 1.0, 5.0, 1.0, 5.0, 5.0, 5.0, 5.0, 2.0, 1.0, 1.0, 1.0, 1.0, 1.0, 1.0, 4.0, 2.0, 4.0, 2.0, 5.0, 1.0, 5.0, 1.0, 1.0, 5.0, 1.0, 1.0, 5.0, 3.0, 5.0, 4.0, 1.0, 5.0, 5.0, 3.0, 1.0, 3.0, 1.0, 1.0, 1.0, 2.0, 3.0, 5.0, 3.0, 4.0, 1.0, 1.0, 1.0, 1.0, 3.0, 5.0, 3.0, 4.0, 2.0, 4.0, 3.0, 4.0, 3.0, 1.0, 1.0, 1.0, 1.0, 4.0, 5.0, 2.0, 1.0, 1.0, 3.0, 5.0, 1.0, 1.0, 3.0, 3.0, 1.0, 1.0, 1.0, 5.0, 1.0, 2.0, 3.0, 4.0, 2.0, 1.0, 1.0, 1.0, 1.0, 5.0, 5.0, 3.0, 1.0, 1.0, 1.0, 5.0, 4.0, 5.0, 2.0, 5.0, 5.0, 1.0, 1.0, 4.0, 1.0, 5.0, 2.0, 1.0, 1.0, 2.0, 1.0, 5.0, 1.0, 1.0, 1.0, 5.0, 1.0, 4.0, 3.0, 5.0, 1.0, 3.0, 1.0, 1.0, 4.0, 1.0, 3.0, 5.0, 1.0, 1.0, 1.0, 3.0, 5.0, 5.0, 5.0, 5.0, 5.0, 2.0, 1.0, 1.0, 1.0, 5.0, 3.0, 1.0, 2.0, 1.0, 1.0, 1.0, 1.0, 2.0, 3.0, 5.0, 4.0, 4.0, 5.0, 2.0, 1.0, 2.0, 1.0, 1.0, 1.0, 1.0, 1.0, 5.0, 1.0, 1.0, 4.0, 5.0, 1.0, 5.0, 3.0, 4.0, 4.0, 4.0, 1.0, 4.0, 4.0, 2.0, 1.0, 1.0, 5.0, 2.0, 3.0, 2.0, 1.0, 1.0, 3.0, 4.0, 3.0, 2.0, 1.0, 1.0, 1.0, 1.0, 2.0, 4.0, 3.0, 2.0, 3.0, 3.0, 1.0, 5.0, 3.0, 5.0, 1.0, 5.0, 1.0, 1.0, 5.0, 5.0, 5.0, 5.0, 5.0, 5.0, 5.0, 1.0, 2.0, 3.0, 2.0, 5.0, 1.0, 4.0, 1.0, 2.0, 5.0, 4.0, 1.0, 1.0, 1.0, 5.0, 1.0, 4.0, 1.0, 5.0, 1.0, 2.0, 5.0, 1.0, 2.0, 1.0, 1.0, 5.0, 5.0, 3.0, 4.0, 5.0, 5.0, 5.0, 1.0, 1.0, 1.0, 4.0, 1.0, 1.0, 1.0, 1.0, 1.0, 4.0, 1.0, 2.0, 3.0, 5.0, 1.0, 5.0, 1.0, 3.0, 1.0, 3.0, 1.0, 1.0, 1.0, 5.0, 5.0, 1.0, 1.0, 1.0, 4.0, 1.0, 1.0, 1.0, 1.0, 5.0, 1.0, 5.0, 1.0, 1.0, 3.0, 1.0, 5.0, 4.0, 4.0, 5.0, 3.0, 4.0, 2.0, 5.0, 4.0, 5.0, 5.0, 4.0, 5.0, 5.0, 5.0, 3.0, 1.0, 1.0, 1.0, 1.0, 2.0, 1.0, 1.0, 3.0, 4.0, 1.0, 3.0, 4.0, 2.0, 1.0, 1.0, 5.0, 5.0, 1.0, 3.0, 1.0, 3.0, 2.0, 4.0, 1.0, 2.0, 2.0, 1.0, 1.0, 1.0, 5.0, 3.0, 4.0, 4.0, 2.0, 4.0, 2.0, 2.0, 2.0, 1.0, 1.0, 4.0, 1.0, 5.0, 5.0, 5.0, 1.0, 1.0, 1.0, 1.0, 1.0, 1.0, 1.0, 2.0, 1.0, 4.0, 4.0, 1.0, 1.0, 1.0, 1.0, 1.0, 4.0, 1.0, 4.0, 1.0, 1.0, 5.0, 5.0, 2.0, 4.0, 1.0, 1.0, 5.0, 1.0, 4.0, 4.0, 1.0, 5.0, 1.0, 2.0, 3.0, 1.0, 1.0, 3.0, 1.0, 5.0, 5.0, 2.0, 4.0, 4.0, 3.0, 1.0, 2.0, 5.0, 1.0, 1.0, 1.0, 1.0, 5.0, 5.0, 1.0, 2.0, 4.0, 1.0, 1.0, 1.0, 1.0, 3.0, 1.0, 2.0, 1.0, 1.0, 2.0, 1.0, 1.0, 5.0, 1.0, 1.0, 1.0, 1.0, 1.0, 4.0, 3.0, 2.0, 2.0, 1.0, 4.0, 1.0, 1.0, 1.0, 2.0, 2.0, 1.0, 1.0, 1.0, 2.0, 4.0, 1.0, 5.0, 5.0, 1.0, 2.0, 5.0, 5.0, 1.0, 1.0, 1.0, 5.0, 1.0, 2.0, 4.0, 2.0, 1.0, 1.0, 1.0, 1.0, 3.0, 4.0, 5.0, 1.0, 1.0, 1.0, 1.0, 1.0, 3.0, 1.0, 5.0, 1.0, 1.0, 1.0, 5.0, 3.0, 1.0, 1.0, 1.0, 1.0, 3.0, 1.0, 5.0, 4.0, 4.0, 1.0, 1.0, 1.0, 1.0, 4.0, 1.0, 4.0, 1.0, 4.0, 5.0, 5.0, 1.0, 1.0, 1.0, 1.0, 1.0, 5.0, 1.0, 1.0, 1.0, 2.0, 3.0, 4.0, 4.0, 3.0, 1.0, 1.0, 3.0, 1.0, 1.0, 1.0, 1.0, 4.0, 4.0, 3.0, 2.0, 1.0, 1.0, 4.0, 1.0, 5.0, 5.0, 1.0, 2.0, 1.0, 2.0, 1.0, 1.0, 3.0, 1.0, 1.0, 4.0, 4.0, 5.0, 1.0, 1.0, 1.0, 3.0, 1.0, 4.0, 1.0, 1.0, 1.0, 3.0, 5.0, 2.0, 4.0, 5.0, 1.0, 1.0, 1.0, 1.0, 1.0, 2.0, 5.0, 4.0, 4.0, 1.0, 5.0, 1.0, 1.0, 1.0, 3.0, 3.0, 4.0, 2.0, 3.0, 4.0, 2.0, 5.0, 5.0, 1.0, 5.0, 4.0, 5.0, 5.0, 4.0, 5.0, 4.0, 1.0, 1.0, 1.0, 4.0, 1.0, 5.0, 5.0, 3.0, 5.0, 5.0, 5.0, 5.0, 5.0, 1.0, 1.0, 2.0, 1.0, 1.0, 1.0, 1.0, 1.0, 4.0, 3.0, 5.0, 2.0, 1.0, 2.0, 1.0, 4.0, 1.0, 1.0, 1.0, 5.0, 1.0, 5.0, 1.0, 5.0, 5.0, 3.0, 5.0, 1.0, 1.0, 4.0, 1.0, 3.0, 1.0, 1.0, 2.0, 3.0, 1.0, 1.0, 1.0, 1.0, 4.0, 4.0, 4.0, 2.0, 3.0, 1.0, 1.0, 1.0, 2.0, 1.0, 4.0, 1.0, 5.0, 1.0, 1.0, 1.0, 1.0, 5.0, 5.0, 1.0, 4.0, 4.0, 4.0, 1.0, 4.0, 4.0, 4.0, 1.0, 1.0, 1.0, 2.0, 1.0, 1.0, 4.0, 3.0, 3.0, 1.0, 1.0, 1.0, 1.0, 2.0, 5.0, 1.0, 1.0, 1.0, 3.0, 1.0, 1.0, 1.0, 1.0, 5.0, 1.0, 2.0, 1.0, 1.0, 3.0, 5.0, 2.0, 4.0, 1.0, 4.0, 4.0, 1.0, 1.0, 4.0, 1.0, 1.0, 3.0, 4.0, 4.0, 4.0, 1.0, 1.0, 1.0, 5.0, 3.0, 4.0, 5.0, 5.0, 1.0, 4.0, 1.0, 1.0, 1.0, 1.0, 1.0, 2.0, 1.0, 5.0, 4.0, 4.0, 5.0, 1.0, 1.0, 5.0, 5.0, 1.0, 1.0, 1.0, 2.0, 1.0, 2.0, 5.0, 1.0, 1.0, 5.0, 3.0, 2.0, 1.0, 5.0, 3.0, 1.0, 4.0, 5.0, 4.0, 2.0, 4.0, 4.0, 2.0, 2.0, 1.0, 1.0, 4.0, 5.0, 3.0, 5.0, 5.0, 1.0, 1.0, 1.0, 1.0, 1.0, 5.0, 1.0, 4.0, 5.0, 1.0, 5.0, 1.0, 1.0, 5.0, 5.0, 1.0, 2.0, 4.0, 2.0, 1.0, 1.0, 1.0, 1.0, 1.0, 5.0, 5.0, 1.0, 2.0, 1.0, 1.0, 4.0, 1.0, 1.0, 1.0, 1.0, 2.0, 5.0, 4.0, 2.0, 1.0, 5.0, 2.0, 5.0, 5.0, 2.0, 1.0, 5.0, 5.0, 2.0, 3.0, 5.0, 1.0, 5.0, 1.0, 4.0, 5.0, 5.0, 3.0, 4.0, 4.0, 5.0, 4.0, 3.0, 4.0, 4.0, 1.0, 1.0, 1.0, 1.0, 2.0, 4.0, 1.0, 3.0, 1.0, 5.0, 1.0, 4.0, 5.0, 1.0, 4.0, 1.0, 1.0, 2.0, 5.0, 2.0, 1.0, 5.0, 1.0, 1.0, 1.0, 1.0, 1.0, 5.0, 4.0, 1.0, 2.0, 1.0, 1.0, 5.0, 1.0, 1.0, 1.0, 1.0, 4.0, 1.0, 5.0, 4.0, 1.0, 4.0, 1.0, 3.0, 5.0, 5.0, 2.0, 1.0, 1.0, 5.0, 3.0, 3.0, 2.0, 1.0, 1.0, 4.0, 4.0, 1.0, 1.0, 5.0, 5.0, 1.0, 5.0, 4.0, 3.0, 2.0, 4.0, 5.0, 1.0, 1.0, 1.0, 4.0, 2.0, 5.0, 1.0, 5.0, 5.0, 5.0, 2.0, 1.0, 3.0, 3.0, 4.0, 2.0, 2.0, 3.0, 1.0, 4.0, 4.0, 4.0, 4.0, 4.0, 3.0, 1.0, 1.0, 4.0, 2.0, 4.0, 2.0, 5.0, 5.0, 5.0, 1.0, 4.0, 1.0, 1.0, 1.0, 4.0, 5.0, 4.0, 3.0, 2.0, 4.0, 5.0, 2.0, 1.0, 4.0, 3.0, 4.0, 5.0, 5.0, 5.0, 1.0, 2.0, 1.0, 1.0, 3.0, 1.0, 3.0, 4.0, 1.0, 1.0, 1.0, 2.0, 1.0, 1.0, 2.0, 5.0, 4.0, 1.0, 2.0, 1.0, 1.0, 2.0, 5.0, 1.0, 1.0, 1.0, 5.0, 1.0, 1.0, 5.0, 1.0, 5.0, 4.0, 1.0, 2.0, 2.0, 4.0, 3.0, 1.0, 4.0, 5.0, 5.0, 1.0, 3.0, 5.0, 1.0, 5.0, 1.0, 1.0, 2.0, 1.0, 1.0, 5.0, 1.0, 1.0, 1.0, 1.0, 1.0, 5.0, 2.0, 5.0, 5.0, 5.0, 4.0, 4.0, 1.0, 2.0, 1.0, 5.0, 1.0, 3.0, 2.0, 5.0, 1.0, 1.0, 1.0, 1.0, 1.0, 1.0, 3.0, 2.0, 1.0, 5.0, 2.0, 5.0, 1.0, 3.0, 4.0, 2.0, 1.0, 5.0, 1.0, 1.0, 5.0, 1.0, 1.0, 4.0, 1.0, 2.0, 5.0, 4.0, 1.0, 3.0, 1.0, 5.0, 4.0, 3.0, 1.0, 5.0, 1.0, 4.0, 1.0, 5.0, 1.0, 5.0, 5.0, 1.0, 1.0, 3.0, 3.0, 4.0, 2.0, 2.0, 5.0, 3.0, 2.0, 5.0, 3.0, 1.0, 5.0, 1.0, 5.0, 4.0, 5.0, 5.0, 4.0, 5.0, 5.0, 4.0, 4.0, 5.0, 3.0, 5.0, 5.0, 5.0, 2.0, 5.0, 4.0, 5.0, 4.0, 4.0, 4.0, 4.0, 1.0, 1.0, 2.0, 4.0, 5.0, 5.0, 3.0, 5.0, 1.0, 5.0, 1.0, 5.0, 5.0, 5.0, 1.0, 5.0, 4.0, 4.0, 2.0, 3.0, 1.0, 5.0, 3.0, 1.0, 1.0, 5.0, 1.0, 2.0, 1.0, 5.0, 4.0, 1.0, 1.0, 1.0, 5.0, 2.0, 5.0, 5.0, 1.0, 5.0, 4.0, 1.0, 3.0, 5.0, 1.0, 1.0, 5.0, 3.0, 5.0, 3.0, 1.0, 4.0, 2.0, 1.0, 1.0, 1.0, 4.0, 2.0, 4.0, 2.0, 1.0, 4.0, 1.0, 1.0, 5.0, 2.0, 3.0, 1.0, 3.0, 4.0, 3.0, 1.0, 1.0, 2.0, 5.0, 1.0, 2.0, 1.0, 4.0, 3.0, 1.0, 2.0, 1.0, 1.0, 1.0, 1.0, 4.0, 1.0, 2.0, 3.0, 4.0, 1.0, 2.0, 1.0, 4.0, 1.0, 1.0, 4.0, 1.0, 2.0, 1.0, 5.0, 1.0, 1.0, 2.0, 2.0, 1.0, 5.0, 1.0, 1.0, 1.0, 1.0, 1.0, 1.0, 1.0, 5.0, 1.0, 1.0, 1.0, 1.0, 4.0, 5.0, 1.0, 1.0, 3.0, 2.0, 1.0, 4.0, 1.0, 1.0, 4.0, 1.0, 4.0, 1.0, 1.0, 2.0, 2.0, 1.0, 1.0, 5.0, 1.0, 1.0, 1.0, 1.0, 4.0, 1.0, 4.0, 1.0, 5.0, 1.0, 1.0, 1.0, 1.0, 1.0, 5.0, 1.0, 5.0, 5.0, 4.0, 1.0, 2.0, 2.0, 3.0, 5.0, 1.0, 1.0, 3.0, 1.0, 3.0, 1.0, 1.0, 1.0, 1.0, 2.0, 1.0, 4.0, 2.0, 4.0, 4.0, 2.0, 4.0, 4.0, 3.0, 2.0, 4.0, 3.0, 3.0, 1.0, 4.0, 5.0, 4.0, 4.0, 1.0, 1.0, 3.0, 1.0, 5.0, 3.0, 1.0, 1.0, 5.0, 5.0, 1.0, 3.0, 1.0, 5.0, 5.0, 5.0, 2.0, 1.0, 2.0, 1.0, 2.0, 3.0, 4.0, 3.0, 4.0, 5.0, 4.0, 3.0, 1.0, 4.0, 5.0, 1.0, 3.0, 2.0, 3.0, 1.0, 3.0, 5.0, 3.0, 1.0, 2.0, 1.0, 4.0, 5.0, 3.0, 3.0, 4.0, 1.0, 5.0, 5.0, 2.0, 1.0, 5.0, 2.0, 1.0, 4.0, 5.0, 3.0, 1.0, 1.0, 1.0, 1.0, 1.0, 2.0, 1.0, 1.0, 5.0, 3.0, 4.0, 5.0, 5.0, 5.0, 5.0, 2.0, 5.0, 1.0, 4.0, 2.0, 2.0, 3.0, 2.0, 4.0, 1.0, 4.0, 1.0, 4.0, 4.0, 1.0, 5.0, 5.0, 5.0, 5.0, 5.0, 1.0, 4.0, 1.0, 1.0, 1.0, 1.0, 1.0, 1.0, 1.0, 3.0, 1.0, 3.0, 5.0, 1.0, 5.0, 3.0, 5.0, 3.0, 1.0, 1.0, 5.0, 1.0, 4.0, 2.0, 1.0, 5.0, 1.0, 5.0, 2.0, 5.0, 1.0, 5.0, 5.0, 4.0, 1.0, 1.0, 5.0, 5.0, 5.0, 3.0, 5.0, 4.0, 4.0, 2.0, 3.0, 4.0, 1.0, 4.0, 4.0, 4.0, 3.0, 3.0, 1.0, 3.0, 3.0, 3.0, 3.0, 1.0, 1.0, 2.0, 1.0, 1.0, 3.0, 1.0, 1.0, 1.0, 2.0, 5.0, 1.0, 2.0, 1.0, 1.0, 1.0, 2.0, 1.0, 3.0, 1.0, 1.0, 4.0, 4.0, 2.0, 1.0, 1.0, 3.0, 2.0, 1.0, 3.0, 5.0, 1.0, 1.0, 1.0, 1.0, 3.0, 3.0, 1.0, 5.0, 1.0, 1.0, 3.0, 5.0, 5.0, 1.0, 1.0, 1.0, 2.0, 5.0, 1.0, 5.0, 2.0, 1.0, 4.0, 2.0, 1.0, 2.0, 1.0, 5.0, 1.0, 1.0, 1.0, 1.0, 1.0, 1.0, 2.0, 1.0, 1.0, 1.0, 1.0, 5.0, 1.0, 4.0, 5.0, 2.0, 5.0, 2.0, 2.0, 5.0, 1.0, 5.0, 5.0, 5.0, 1.0, 1.0, 2.0, 2.0, 5.0, 5.0, 3.0, 1.0, 5.0, 5.0, 5.0, 4.0, 3.0, 1.0, 5.0, 1.0, 4.0, 2.0, 3.0, 1.0, 3.0, 3.0, 2.0, 1.0, 4.0, 1.0, 5.0, 5.0, 1.0, 5.0, 1.0, 5.0, 1.0, 5.0, 1.0, 1.0, 5.0, 5.0, 5.0, 5.0, 5.0, 5.0, 1.0, 1.0, 1.0, 5.0, 1.0, 1.0, 4.0, 4.0, 4.0, 2.0, 1.0, 1.0, 2.0, 2.0, 2.0, 3.0, 2.0, 5.0, 1.0, 1.0, 1.0, 1.0, 4.0, 3.0, 4.0, 3.0, 2.0, 1.0, 1.0, 5.0, 5.0, 5.0, 3.0, 1.0, 3.0, 3.0, 1.0, 5.0, 1.0, 1.0, 2.0, 3.0, 5.0, 3.0, 3.0, 5.0, 5.0, 2.0, 1.0, 4.0, 3.0, 1.0, 1.0, 5.0, 2.0, 3.0, 1.0, 1.0, 1.0, 1.0, 1.0, 1.0, 1.0, 1.0, 1.0, 1.0, 1.0, 1.0, 1.0, 4.0, 5.0, 1.0, 2.0, 3.0, 3.0, 1.0, 1.0, 4.0, 5.0, 4.0, 5.0, 5.0, 1.0, 3.0, 2.0, 3.0, 2.0, 4.0, 5.0, 5.0, 2.0, 3.0, 5.0, 3.0, 2.0, 5.0, 5.0, 3.0, 5.0, 3.0, 1.0, 5.0, 1.0, 1.0, 2.0, 5.0, 1.0, 2.0, 2.0, 3.0, 1.0, 3.0, 4.0, 2.0, 3.0, 1.0, 4.0, 5.0, 2.0, 2.0, 3.0, 1.0, 3.0, 2.0, 1.0, 5.0, 4.0, 5.0, 1.0, 1.0, 4.0, 5.0, 2.0, 4.0, 3.0, 5.0, 1.0, 5.0, 3.0, 3.0, 4.0, 4.0, 1.0, 5.0, 4.0, 3.0, 5.0, 1.0, 1.0, 1.0, 4.0, 1.0, 3.0, 3.0, 5.0, 1.0, 1.0, 1.0, 5.0, 4.0, 5.0, 5.0, 4.0, 5.0, 5.0, 5.0, 4.0, 5.0, 3.0, 3.0, 1.0, 1.0, 2.0, 4.0, 2.0, 3.0, 4.0, 5.0, 4.0, 1.0, 5.0, 1.0, 1.0, 1.0, 1.0, 1.0, 4.0, 1.0, 1.0, 1.0, 2.0, 4.0, 5.0, 5.0, 4.0, 3.0, 5.0, 3.0, 1.0, 1.0, 1.0, 1.0, 1.0, 2.0, 2.0, 4.0, 2.0, 1.0, 5.0, 2.0, 3.0, 1.0, 1.0, 2.0, 2.0, 1.0, 2.0, 1.0, 1.0, 2.0, 2.0, 1.0, 5.0, 1.0, 1.0, 1.0, 5.0, 1.0, 1.0, 5.0, 1.0, 3.0, 1.0, 1.0, 1.0, 1.0, 1.0, 1.0, 2.0, 1.0, 4.0, 3.0, 3.0, 5.0, 5.0, 3.0, 5.0, 2.0, 4.0, 5.0, 4.0, 5.0, 3.0, 4.0, 1.0, 4.0, 5.0, 1.0, 1.0, 3.0, 1.0, 1.0, 5.0, 5.0, 4.0, 1.0, 3.0, 2.0, 4.0, 3.0, 1.0, 4.0, 3.0, 2.0, 4.0, 3.0, 1.0, 3.0, 2.0, 2.0, 5.0, 5.0, 1.0, 3.0, 1.0, 5.0, 5.0, 5.0, 5.0, 1.0, 1.0, 1.0, 1.0, 5.0, 3.0, 5.0, 5.0, 3.0, 5.0, 1.0, 1.0, 1.0, 1.0, 1.0, 1.0, 1.0, 2.0, 1.0, 1.0, 4.0, 5.0, 5.0, 1.0, 5.0, 1.0, 1.0, 1.0, 1.0, 5.0, 5.0, 3.0, 2.0, 1.0, 1.0, 3.0, 1.0, 3.0, 4.0, 3.0, 2.0, 3.0, 2.0, 1.0, 5.0, 1.0, 3.0, 3.0, 1.0, 5.0, 1.0, 5.0, 3.0, 5.0, 1.0, 1.0, 4.0, 5.0, 5.0, 5.0, 1.0, 3.0, 2.0, 3.0, 2.0, 3.0, 4.0, 1.0, 4.0, 3.0, 1.0, 1.0, 5.0, 4.0, 2.0, 1.0, 2.0, 1.0, 3.0, 1.0, 5.0, 1.0, 4.0, 1.0, 1.0, 2.0, 1.0, 4.0, 2.0, 1.0, 5.0, 4.0, 5.0, 1.0, 2.0, 1.0, 1.0, 1.0, 1.0, 4.0, 4.0, 2.0, 2.0, 1.0, 2.0, 3.0, 5.0, 1.0, 4.0, 1.0, 4.0, 4.0, 2.0, 3.0, 2.0, 1.0, 1.0, 1.0, 3.0, 5.0, 2.0, 1.0, 1.0, 2.0, 5.0, 1.0, 5.0, 2.0, 5.0, 2.0, 2.0, 2.0, 5.0, 4.0, 1.0, 1.0, 1.0, 3.0, 5.0, 1.0, 4.0, 1.0, 4.0, 4.0, 1.0, 3.0, 1.0, 3.0, 3.0, 5.0, 4.0, 1.0, 2.0, 3.0, 1.0, 5.0, 4.0, 5.0, 4.0, 4.0, 2.0, 4.0, 3.0, 4.0, 1.0, 2.0, 4.0, 2.0, 1.0, 1.0, 1.0, 2.0, 1.0, 5.0, 1.0, 1.0, 2.0, 1.0, 2.0, 4.0, 4.0, 5.0, 3.0, 4.0, 2.0, 4.0, 1.0, 5.0, 5.0, 4.0, 2.0, 4.0, 4.0, 5.0, 5.0, 1.0, 1.0, 3.0, 2.0, 3.0, 1.0, 1.0, 1.0, 1.0, 1.0, 1.0, 3.0, 5.0, 1.0, 5.0, 5.0, 4.0, 1.0, 5.0, 3.0, 2.0, 1.0, 3.0, 4.0, 5.0, 3.0, 3.0, 1.0, 5.0, 1.0, 1.0, 4.0, 5.0, 1.0, 5.0, 3.0, 4.0, 5.0, 1.0, 1.0, 3.0, 1.0, 2.0, 1.0, 5.0, 1.0, 3.0, 4.0, 5.0, 1.0, 1.0, 1.0, 2.0, 3.0, 5.0, 4.0, 2.0, 2.0, 4.0, 3.0, 3.0, 1.0, 1.0, 1.0, 2.0, 1.0, 4.0, 1.0, 1.0, 4.0, 1.0, 5.0, 3.0, 2.0, 2.0, 4.0, 4.0, 1.0, 3.0, 5.0, 4.0, 4.0, 1.0, 1.0, 1.0, 1.0, 1.0, 2.0, 1.0, 1.0, 1.0, 1.0, 1.0, 1.0, 4.0, 3.0, 1.0, 1.0, 5.0, 2.0, 1.0, 1.0, 1.0, 1.0, 3.0, 5.0, 2.0, 5.0, 2.0, 5.0, 1.0, 4.0, 5.0, 5.0, 5.0, 5.0, 1.0, 3.0, 1.0, 5.0, 1.0, 2.0, 5.0, 1.0, 2.0, 1.0, 4.0, 3.0, 1.0, 1.0, 1.0, 1.0, 5.0, 4.0, 4.0, 1.0, 5.0, 5.0, 1.0, 5.0, 5.0, 1.0, 2.0, 1.0, 5.0, 1.0, 1.0, 1.0, 1.0, 3.0, 2.0, 1.0, 5.0, 1.0, 1.0, 1.0, 5.0, 1.0, 5.0, 1.0, 1.0, 5.0, 5.0, 4.0, 2.0, 2.0, 1.0, 5.0, 3.0, 4.0, 4.0, 2.0, 1.0, 4.0, 5.0, 1.0, 1.0, 1.0, 1.0, 1.0, 5.0, 2.0, 3.0, 4.0, 3.0, 4.0, 5.0, 1.0, 4.0, 5.0, 4.0, 2.0, 4.0, 4.0, 2.0, 4.0, 1.0, 5.0, 5.0, 1.0, 5.0, 4.0, 5.0, 5.0, 5.0, 1.0, 4.0, 5.0, 1.0, 5.0, 1.0, 1.0, 1.0, 1.0, 2.0, 1.0, 1.0, 1.0, 2.0, 2.0, 1.0, 5.0, 2.0, 1.0, 2.0, 4.0, 3.0, 3.0, 5.0, 5.0, 1.0, 5.0, 3.0, 4.0, 5.0, 3.0, 3.0, 5.0, 5.0, 5.0, 1.0, 4.0, 3.0, 4.0, 1.0, 1.0, 4.0, 5.0, 5.0, 4.0, 1.0, 1.0, 5.0, 4.0, 4.0, 1.0, 5.0, 4.0, 5.0, 5.0, 4.0, 5.0, 5.0, 1.0, 1.0, 1.0, 1.0, 3.0, 3.0, 1.0, 4.0, 1.0, 4.0, 1.0, 1.0, 1.0, 1.0, 1.0, 3.0, 1.0, 1.0, 1.0, 1.0, 1.0, 2.0, 2.0, 4.0, 1.0, 1.0, 5.0, 1.0, 3.0, 3.0, 4.0, 5.0, 5.0, 1.0, 5.0, 5.0, 2.0, 4.0, 1.0, 1.0, 5.0, 5.0, 2.0, 1.0, 3.0, 5.0, 1.0, 1.0, 4.0, 3.0, 5.0, 4.0, 1.0, 1.0, 5.0, 2.0, 2.0, 1.0, 1.0, 1.0, 3.0, 5.0, 4.0, 1.0, 2.0, 1.0, 4.0, 1.0, 1.0, 1.0, 1.0, 1.0, 1.0, 5.0, 4.0, 4.0, 4.0, 1.0, 4.0, 3.0, 3.0, 5.0, 4.0, 3.0, 5.0, 5.0, 5.0, 1.0, 1.0, 2.0, 3.0, 1.0, 1.0, 1.0, 4.0, 4.0, 1.0, 1.0, 3.0, 2.0, 3.0, 1.0, 1.0, 4.0, 4.0, 2.0, 1.0, 5.0, 5.0, 4.0, 1.0, 3.0, 4.0, 4.0, 1.0, 1.0, 5.0, 5.0, 1.0, 1.0, 1.0, 4.0], \"xaxis\": \"x\", \"yaxis\": \"y\"}],\n",
              "                        {\"barmode\": \"relative\", \"legend\": {\"tracegroupgap\": 0}, \"margin\": {\"t\": 60}, \"template\": {\"data\": {\"bar\": [{\"error_x\": {\"color\": \"#2a3f5f\"}, \"error_y\": {\"color\": \"#2a3f5f\"}, \"marker\": {\"line\": {\"color\": \"#E5ECF6\", \"width\": 0.5}}, \"type\": \"bar\"}], \"barpolar\": [{\"marker\": {\"line\": {\"color\": \"#E5ECF6\", \"width\": 0.5}}, \"type\": \"barpolar\"}], \"carpet\": [{\"aaxis\": {\"endlinecolor\": \"#2a3f5f\", \"gridcolor\": \"white\", \"linecolor\": \"white\", \"minorgridcolor\": \"white\", \"startlinecolor\": \"#2a3f5f\"}, \"baxis\": {\"endlinecolor\": \"#2a3f5f\", \"gridcolor\": \"white\", \"linecolor\": \"white\", \"minorgridcolor\": \"white\", \"startlinecolor\": \"#2a3f5f\"}, \"type\": \"carpet\"}], \"choropleth\": [{\"colorbar\": {\"outlinewidth\": 0, \"ticks\": \"\"}, \"type\": \"choropleth\"}], \"contour\": [{\"colorbar\": {\"outlinewidth\": 0, \"ticks\": \"\"}, \"colorscale\": [[0.0, \"#0d0887\"], [0.1111111111111111, \"#46039f\"], [0.2222222222222222, \"#7201a8\"], [0.3333333333333333, \"#9c179e\"], [0.4444444444444444, \"#bd3786\"], [0.5555555555555556, \"#d8576b\"], [0.6666666666666666, \"#ed7953\"], [0.7777777777777778, \"#fb9f3a\"], [0.8888888888888888, \"#fdca26\"], [1.0, \"#f0f921\"]], \"type\": \"contour\"}], \"contourcarpet\": [{\"colorbar\": {\"outlinewidth\": 0, \"ticks\": \"\"}, \"type\": \"contourcarpet\"}], \"heatmap\": [{\"colorbar\": {\"outlinewidth\": 0, \"ticks\": \"\"}, \"colorscale\": [[0.0, \"#0d0887\"], [0.1111111111111111, \"#46039f\"], [0.2222222222222222, \"#7201a8\"], [0.3333333333333333, \"#9c179e\"], [0.4444444444444444, \"#bd3786\"], [0.5555555555555556, \"#d8576b\"], [0.6666666666666666, \"#ed7953\"], [0.7777777777777778, \"#fb9f3a\"], [0.8888888888888888, \"#fdca26\"], [1.0, \"#f0f921\"]], \"type\": \"heatmap\"}], \"heatmapgl\": [{\"colorbar\": {\"outlinewidth\": 0, \"ticks\": \"\"}, \"colorscale\": [[0.0, \"#0d0887\"], [0.1111111111111111, \"#46039f\"], [0.2222222222222222, \"#7201a8\"], [0.3333333333333333, \"#9c179e\"], [0.4444444444444444, \"#bd3786\"], [0.5555555555555556, \"#d8576b\"], [0.6666666666666666, \"#ed7953\"], [0.7777777777777778, \"#fb9f3a\"], [0.8888888888888888, \"#fdca26\"], [1.0, \"#f0f921\"]], \"type\": \"heatmapgl\"}], \"histogram\": [{\"marker\": {\"colorbar\": {\"outlinewidth\": 0, \"ticks\": \"\"}}, \"type\": \"histogram\"}], \"histogram2d\": [{\"colorbar\": {\"outlinewidth\": 0, \"ticks\": \"\"}, \"colorscale\": [[0.0, \"#0d0887\"], [0.1111111111111111, \"#46039f\"], [0.2222222222222222, \"#7201a8\"], [0.3333333333333333, \"#9c179e\"], [0.4444444444444444, \"#bd3786\"], [0.5555555555555556, \"#d8576b\"], [0.6666666666666666, \"#ed7953\"], [0.7777777777777778, \"#fb9f3a\"], [0.8888888888888888, \"#fdca26\"], [1.0, \"#f0f921\"]], \"type\": \"histogram2d\"}], \"histogram2dcontour\": [{\"colorbar\": {\"outlinewidth\": 0, \"ticks\": \"\"}, \"colorscale\": [[0.0, \"#0d0887\"], [0.1111111111111111, \"#46039f\"], [0.2222222222222222, \"#7201a8\"], [0.3333333333333333, \"#9c179e\"], [0.4444444444444444, \"#bd3786\"], [0.5555555555555556, \"#d8576b\"], [0.6666666666666666, \"#ed7953\"], [0.7777777777777778, \"#fb9f3a\"], [0.8888888888888888, \"#fdca26\"], [1.0, \"#f0f921\"]], \"type\": \"histogram2dcontour\"}], \"mesh3d\": [{\"colorbar\": {\"outlinewidth\": 0, \"ticks\": \"\"}, \"type\": \"mesh3d\"}], \"parcoords\": [{\"line\": {\"colorbar\": {\"outlinewidth\": 0, \"ticks\": \"\"}}, \"type\": \"parcoords\"}], \"pie\": [{\"automargin\": true, \"type\": \"pie\"}], \"scatter\": [{\"marker\": {\"colorbar\": {\"outlinewidth\": 0, \"ticks\": \"\"}}, \"type\": \"scatter\"}], \"scatter3d\": [{\"line\": {\"colorbar\": {\"outlinewidth\": 0, \"ticks\": \"\"}}, \"marker\": {\"colorbar\": {\"outlinewidth\": 0, \"ticks\": \"\"}}, \"type\": \"scatter3d\"}], \"scattercarpet\": [{\"marker\": {\"colorbar\": {\"outlinewidth\": 0, \"ticks\": \"\"}}, \"type\": \"scattercarpet\"}], \"scattergeo\": [{\"marker\": {\"colorbar\": {\"outlinewidth\": 0, \"ticks\": \"\"}}, \"type\": \"scattergeo\"}], \"scattergl\": [{\"marker\": {\"colorbar\": {\"outlinewidth\": 0, \"ticks\": \"\"}}, \"type\": \"scattergl\"}], \"scattermapbox\": [{\"marker\": {\"colorbar\": {\"outlinewidth\": 0, \"ticks\": \"\"}}, \"type\": \"scattermapbox\"}], \"scatterpolar\": [{\"marker\": {\"colorbar\": {\"outlinewidth\": 0, \"ticks\": \"\"}}, \"type\": \"scatterpolar\"}], \"scatterpolargl\": [{\"marker\": {\"colorbar\": {\"outlinewidth\": 0, \"ticks\": \"\"}}, \"type\": \"scatterpolargl\"}], \"scatterternary\": [{\"marker\": {\"colorbar\": {\"outlinewidth\": 0, \"ticks\": \"\"}}, \"type\": \"scatterternary\"}], \"surface\": [{\"colorbar\": {\"outlinewidth\": 0, \"ticks\": \"\"}, \"colorscale\": [[0.0, \"#0d0887\"], [0.1111111111111111, \"#46039f\"], [0.2222222222222222, \"#7201a8\"], [0.3333333333333333, \"#9c179e\"], [0.4444444444444444, \"#bd3786\"], [0.5555555555555556, \"#d8576b\"], [0.6666666666666666, \"#ed7953\"], [0.7777777777777778, \"#fb9f3a\"], [0.8888888888888888, \"#fdca26\"], [1.0, \"#f0f921\"]], \"type\": \"surface\"}], \"table\": [{\"cells\": {\"fill\": {\"color\": \"#EBF0F8\"}, \"line\": {\"color\": \"white\"}}, \"header\": {\"fill\": {\"color\": \"#C8D4E3\"}, \"line\": {\"color\": \"white\"}}, \"type\": \"table\"}]}, \"layout\": {\"annotationdefaults\": {\"arrowcolor\": \"#2a3f5f\", \"arrowhead\": 0, \"arrowwidth\": 1}, \"coloraxis\": {\"colorbar\": {\"outlinewidth\": 0, \"ticks\": \"\"}}, \"colorscale\": {\"diverging\": [[0, \"#8e0152\"], [0.1, \"#c51b7d\"], [0.2, \"#de77ae\"], [0.3, \"#f1b6da\"], [0.4, \"#fde0ef\"], [0.5, \"#f7f7f7\"], [0.6, \"#e6f5d0\"], [0.7, \"#b8e186\"], [0.8, \"#7fbc41\"], [0.9, \"#4d9221\"], [1, \"#276419\"]], \"sequential\": [[0.0, \"#0d0887\"], [0.1111111111111111, \"#46039f\"], [0.2222222222222222, \"#7201a8\"], [0.3333333333333333, \"#9c179e\"], [0.4444444444444444, \"#bd3786\"], [0.5555555555555556, \"#d8576b\"], [0.6666666666666666, \"#ed7953\"], [0.7777777777777778, \"#fb9f3a\"], [0.8888888888888888, \"#fdca26\"], [1.0, \"#f0f921\"]], \"sequentialminus\": [[0.0, \"#0d0887\"], [0.1111111111111111, \"#46039f\"], [0.2222222222222222, \"#7201a8\"], [0.3333333333333333, \"#9c179e\"], [0.4444444444444444, \"#bd3786\"], [0.5555555555555556, \"#d8576b\"], [0.6666666666666666, \"#ed7953\"], [0.7777777777777778, \"#fb9f3a\"], [0.8888888888888888, \"#fdca26\"], [1.0, \"#f0f921\"]]}, \"colorway\": [\"#636efa\", \"#EF553B\", \"#00cc96\", \"#ab63fa\", \"#FFA15A\", \"#19d3f3\", \"#FF6692\", \"#B6E880\", \"#FF97FF\", \"#FECB52\"], \"font\": {\"color\": \"#2a3f5f\"}, \"geo\": {\"bgcolor\": \"white\", \"lakecolor\": \"white\", \"landcolor\": \"#E5ECF6\", \"showlakes\": true, \"showland\": true, \"subunitcolor\": \"white\"}, \"hoverlabel\": {\"align\": \"left\"}, \"hovermode\": \"closest\", \"mapbox\": {\"style\": \"light\"}, \"paper_bgcolor\": \"white\", \"plot_bgcolor\": \"#E5ECF6\", \"polar\": {\"angularaxis\": {\"gridcolor\": \"white\", \"linecolor\": \"white\", \"ticks\": \"\"}, \"bgcolor\": \"#E5ECF6\", \"radialaxis\": {\"gridcolor\": \"white\", \"linecolor\": \"white\", \"ticks\": \"\"}}, \"scene\": {\"xaxis\": {\"backgroundcolor\": \"#E5ECF6\", \"gridcolor\": \"white\", \"gridwidth\": 2, \"linecolor\": \"white\", \"showbackground\": true, \"ticks\": \"\", \"zerolinecolor\": \"white\"}, \"yaxis\": {\"backgroundcolor\": \"#E5ECF6\", \"gridcolor\": \"white\", \"gridwidth\": 2, \"linecolor\": \"white\", \"showbackground\": true, \"ticks\": \"\", \"zerolinecolor\": \"white\"}, \"zaxis\": {\"backgroundcolor\": \"#E5ECF6\", \"gridcolor\": \"white\", \"gridwidth\": 2, \"linecolor\": \"white\", \"showbackground\": true, \"ticks\": \"\", \"zerolinecolor\": \"white\"}}, \"shapedefaults\": {\"line\": {\"color\": \"#2a3f5f\"}}, \"ternary\": {\"aaxis\": {\"gridcolor\": \"white\", \"linecolor\": \"white\", \"ticks\": \"\"}, \"baxis\": {\"gridcolor\": \"white\", \"linecolor\": \"white\", \"ticks\": \"\"}, \"bgcolor\": \"#E5ECF6\", \"caxis\": {\"gridcolor\": \"white\", \"linecolor\": \"white\", \"ticks\": \"\"}}, \"title\": {\"x\": 0.05}, \"xaxis\": {\"automargin\": true, \"gridcolor\": \"white\", \"linecolor\": \"white\", \"ticks\": \"\", \"title\": {\"standoff\": 15}, \"zerolinecolor\": \"white\", \"zerolinewidth\": 2}, \"yaxis\": {\"automargin\": true, \"gridcolor\": \"white\", \"linecolor\": \"white\", \"ticks\": \"\", \"title\": {\"standoff\": 15}, \"zerolinecolor\": \"white\", \"zerolinewidth\": 2}}}, \"title\": {\"text\": \"Review Score\"}, \"xaxis\": {\"anchor\": \"y\", \"domain\": [0.0, 1.0], \"title\": {\"text\": \"review_stars\"}}, \"yaxis\": {\"anchor\": \"x\", \"domain\": [0.0, 1.0], \"title\": {\"text\": \"count\"}}},\n",
              "                        {\"responsive\": true}\n",
              "                    ).then(function(){\n",
              "                            \n",
              "var gd = document.getElementById('c45b3dfc-f9f3-415f-af3d-3d9e763752f8');\n",
              "var x = new MutationObserver(function (mutations, observer) {{\n",
              "        var display = window.getComputedStyle(gd).display;\n",
              "        if (!display || display === 'none') {{\n",
              "            console.log([gd, 'removed!']);\n",
              "            Plotly.purge(gd);\n",
              "            observer.disconnect();\n",
              "        }}\n",
              "}});\n",
              "\n",
              "// Listen for the removal of the full notebook cells\n",
              "var notebookContainer = gd.closest('#notebook-container');\n",
              "if (notebookContainer) {{\n",
              "    x.observe(notebookContainer, {childList: true});\n",
              "}}\n",
              "\n",
              "// Listen for the clearing of the current output cell\n",
              "var outputEl = gd.closest('.output');\n",
              "if (outputEl) {{\n",
              "    x.observe(outputEl, {childList: true});\n",
              "}}\n",
              "\n",
              "                        })\n",
              "                };\n",
              "                \n",
              "            </script>\n",
              "        </div>\n",
              "</body>\n",
              "</html>"
            ]
          },
          "metadata": {
            "tags": []
          }
        }
      ]
    },
    {
      "cell_type": "code",
      "metadata": {
        "colab": {
          "base_uri": "https://localhost:8080/",
          "height": 542
        },
        "id": "aLOIw9VCuj_q",
        "outputId": "4fa167ae-f4b8-4d22-9f90-501826d788be"
      },
      "source": [
        "fig = px.histogram(subway_sentiment, x=\"sentiment\")\n",
        "fig.update_traces(marker_color=\"turquoise\",marker_line_color='rgb(8,48,107)',\n",
        "                  marker_line_width=1.5)\n",
        "fig.update_layout(title_text='Sentiment Score')\n",
        "fig.show()"
      ],
      "execution_count": null,
      "outputs": [
        {
          "output_type": "display_data",
          "data": {
            "text/html": [
              "<html>\n",
              "<head><meta charset=\"utf-8\" /></head>\n",
              "<body>\n",
              "    <div>\n",
              "            <script src=\"https://cdnjs.cloudflare.com/ajax/libs/mathjax/2.7.5/MathJax.js?config=TeX-AMS-MML_SVG\"></script><script type=\"text/javascript\">if (window.MathJax) {MathJax.Hub.Config({SVG: {font: \"STIX-Web\"}});}</script>\n",
              "                <script type=\"text/javascript\">window.PlotlyConfig = {MathJaxConfig: 'local'};</script>\n",
              "        <script src=\"https://cdn.plot.ly/plotly-latest.min.js\"></script>    \n",
              "            <div id=\"0301a30f-8e5f-4c96-bf06-d09e7b09ab0e\" class=\"plotly-graph-div\" style=\"height:525px; width:100%;\"></div>\n",
              "            <script type=\"text/javascript\">\n",
              "                \n",
              "                    window.PLOTLYENV=window.PLOTLYENV || {};\n",
              "                    \n",
              "                if (document.getElementById(\"0301a30f-8e5f-4c96-bf06-d09e7b09ab0e\")) {\n",
              "                    Plotly.newPlot(\n",
              "                        '0301a30f-8e5f-4c96-bf06-d09e7b09ab0e',\n",
              "                        [{\"alignmentgroup\": \"True\", \"bingroup\": \"x\", \"hoverlabel\": {\"namelength\": 0}, \"hovertemplate\": \"sentiment=%{x}<br>count=%{y}\", \"legendgroup\": \"\", \"marker\": {\"color\": \"turquoise\", \"line\": {\"color\": \"rgb(8,48,107)\", \"width\": 1.5}}, \"name\": \"\", \"offsetgroup\": \"\", \"orientation\": \"v\", \"showlegend\": false, \"type\": \"histogram\", \"x\": [-1, -1, -1, -1, -1, -1, -1, -1, 0, 1, 0, 1, -1, -1, 1, -1, 1, 1, 1, 1, 0, 1, 0, 0, 1, 1, 1, -1, -1, -1, 0, -1, -1, 1, -1, 1, -1, 1, 1, -1, -1, -1, 0, 1, -1, -1, 1, 0, -1, -1, 1, -1, 1, -1, -1, -1, -1, -1, -1, -1, -1, -1, -1, -1, -1, -1, 1, 1, 1, -1, -1, -1, 1, 1, -1, -1, 1, 1, -1, -1, -1, -1, -1, -1, 1, -1, -1, -1, 1, -1, -1, -1, 1, 1, 0, 1, -1, -1, -1, -1, -1, 0, 0, 1, 1, -1, 1, -1, -1, 0, -1, 1, -1, -1, -1, 1, -1, -1, 1, 0, 0, 1, 1, -1, -1, -1, -1, -1, -1, -1, 0, 1, -1, 1, 1, -1, -1, -1, 1, 0, 0, 1, -1, -1, 1, -1, 1, 1, 1, 1, 1, 1, 1, -1, 1, 0, -1, 0, -1, 1, 1, -1, 0, -1, -1, 1, 1, 1, 1, 1, 1, -1, -1, 1, -1, 1, 0, 1, 1, 0, -1, -1, -1, 1, 1, 1, -1, 0, 1, 0, 0, 1, -1, -1, -1, 0, -1, -1, 1, -1, -1, -1, -1, 1, 1, 1, -1, -1, -1, 1, 1, -1, -1, 1, 0, -1, -1, -1, 0, 1, -1, -1, -1, -1, -1, 0, -1, -1, -1, -1, -1, 1, -1, -1, -1, 1, -1, 1, 1, -1, -1, 1, -1, -1, 1, 1, -1, 1, -1, 1, 1, -1, 1, 0, 1, -1, 0, 0, -1, -1, -1, -1, -1, -1, -1, -1, 1, 1, 0, 1, 0, -1, 1, 1, 1, -1, -1, -1, -1, -1, -1, -1, -1, -1, 0, -1, -1, -1, -1, -1, -1, -1, -1, 1, -1, -1, 0, -1, 1, 1, 1, 0, -1, -1, 0, -1, 1, -1, 1, 1, 1, -1, 1, -1, -1, -1, -1, -1, -1, -1, 0, -1, -1, -1, -1, 1, -1, 0, -1, -1, -1, 0, -1, -1, -1, -1, 1, 1, 1, -1, -1, -1, -1, -1, -1, -1, -1, 1, 1, -1, 1, -1, 0, 0, -1, 1, -1, 1, 1, -1, 1, 1, 1, 1, -1, 0, 1, 1, -1, -1, -1, -1, 1, 0, -1, -1, -1, -1, 1, 1, -1, 0, 1, -1, -1, -1, 1, -1, 0, 0, -1, 1, -1, 0, -1, 1, 1, -1, 1, -1, -1, -1, 1, -1, 0, 1, 0, -1, -1, 0, -1, -1, -1, 1, -1, 1, -1, -1, -1, -1, -1, -1, 1, -1, 0, -1, -1, 0, -1, -1, 1, 1, -1, 1, -1, -1, -1, -1, -1, -1, -1, -1, 1, -1, 1, -1, -1, -1, 1, 0, 1, 1, 0, 1, 0, -1, 0, 1, 1, -1, 1, -1, -1, 1, 1, 1, 1, 1, 0, -1, 1, 1, -1, 0, -1, -1, 1, 0, 0, 0, 0, 1, -1, 1, 1, 1, 0, 1, 1, 1, 0, -1, 1, 1, 0, -1, -1, 1, -1, 1, 1, 1, 0, 1, 1, -1, 1, -1, -1, -1, 0, -1, -1, 1, 1, 1, -1, 1, 1, -1, 1, 1, -1, 0, 1, -1, 0, 1, -1, 1, 0, 1, -1, 0, 1, 1, -1, 1, 0, 1, -1, 0, 1, -1, 1, 0, -1, -1, -1, 0, -1, -1, 1, 1, 1, 1, -1, -1, -1, -1, -1, -1, -1, -1, 1, 1, -1, -1, 1, 1, -1, 1, -1, -1, 1, -1, -1, -1, 1, 1, -1, -1, 1, 1, -1, -1, -1, 1, -1, -1, -1, -1, -1, -1, -1, -1, 1, 1, -1, 1, -1, 1, 0, 1, 0, 1, 1, -1, 1, 1, 1, 1, 0, 1, 1, 1, 1, 1, 1, -1, -1, -1, 1, 1, -1, -1, 1, 0, 1, 1, -1, 1, 1, 1, 1, -1, 0, -1, -1, 1, -1, -1, -1, -1, -1, -1, -1, 1, -1, 1, -1, -1, 1, 0, -1, 0, -1, 0, 1, 1, -1, 1, -1, -1, -1, -1, -1, -1, -1, -1, 0, -1, 1, 1, 1, 1, -1, -1, -1, -1, -1, -1, 1, -1, 1, 1, -1, -1, 1, -1, -1, 1, 1, 1, -1, 1, -1, 0, -1, -1, 1, -1, -1, -1, 1, 1, 1, 1, -1, -1, 1, 1, 0, 1, 0, 1, 1, 1, -1, 1, -1, 1, -1, -1, 1, 1, -1, -1, 1, 0, 0, -1, -1, -1, -1, -1, -1, 0, -1, 0, 0, -1, 1, 0, 1, -1, -1, 0, -1, 1, -1, -1, -1, -1, -1, 1, 0, 1, -1, -1, -1, 1, -1, 0, 1, 1, 1, 1, 1, 1, 1, 1, -1, -1, -1, -1, -1, -1, -1, 0, -1, -1, 1, -1, -1, -1, 1, 1, 1, -1, -1, -1, 1, 1, 1, -1, -1, -1, 1, -1, -1, -1, 1, -1, -1, -1, -1, 0, 1, -1, -1, -1, -1, -1, -1, 1, -1, -1, -1, -1, -1, -1, -1, -1, -1, -1, 0, -1, 1, -1, 1, 1, 1, 1, -1, 1, -1, 0, 1, 1, 0, -1, 0, -1, 0, -1, -1, -1, 1, -1, 1, 1, 1, -1, -1, 1, 0, -1, 1, -1, -1, 1, -1, 1, -1, -1, 1, 1, 0, -1, 1, -1, -1, -1, -1, -1, -1, 0, 1, -1, -1, -1, -1, 0, -1, 1, -1, 0, -1, -1, 0, -1, 1, 1, -1, -1, 0, 1, -1, 1, 1, -1, 1, 1, 1, -1, 1, 1, 1, 1, -1, 1, -1, 1, -1, 1, 1, 1, -1, -1, -1, 1, 1, 1, -1, -1, 0, 1, -1, -1, -1, -1, -1, 1, 1, -1, 1, -1, 1, 0, -1, -1, 1, 1, -1, 0, -1, -1, -1, -1, -1, -1, -1, 0, -1, -1, -1, -1, -1, -1, -1, -1, 1, -1, 1, 1, 1, 1, 1, 1, 1, 1, 1, 1, -1, -1, 1, -1, -1, 1, 0, 1, 0, -1, -1, -1, 1, -1, 1, 1, 1, 1, -1, -1, -1, -1, -1, -1, 1, -1, -1, -1, -1, -1, -1, 1, -1, -1, 1, -1, -1, -1, -1, 1, 1, 1, -1, 1, 1, 1, 1, -1, -1, -1, -1, 1, -1, -1, 1, 1, -1, -1, -1, -1, -1, -1, 1, 0, 1, 1, 0, -1, -1, -1, 0, 0, 1, 1, 0, -1, -1, -1, 1, -1, 1, -1, -1, -1, -1, -1, -1, 1, -1, 1, 0, -1, 0, 1, -1, -1, 1, -1, -1, -1, -1, 0, -1, -1, 1, -1, -1, 1, -1, -1, -1, 0, -1, 0, -1, 0, 1, -1, -1, -1, 1, 0, -1, -1, 1, -1, -1, -1, -1, -1, -1, 1, -1, -1, -1, -1, -1, -1, -1, 1, 0, 1, 1, -1, -1, 0, -1, -1, -1, 0, 1, 1, -1, 1, 1, 1, -1, 1, -1, -1, -1, -1, 0, -1, 0, -1, -1, 1, -1, -1, 1, 0, -1, 1, -1, 1, -1, -1, 1, -1, -1, -1, -1, -1, -1, -1, 1, -1, 1, -1, -1, 1, 1, 1, 1, 1, 1, -1, 1, -1, 0, 1, 1, 0, 1, -1, 1, -1, -1, -1, -1, 1, 0, 1, 1, 0, 1, -1, -1, -1, 1, 1, 1, 0, 1, -1, -1, -1, -1, -1, -1, -1, -1, 1, -1, -1, -1, 1, 1, -1, -1, 0, -1, -1, 1, -1, -1, -1, 1, 1, 1, 1, 1, 0, 1, 1, -1, -1, -1, -1, -1, -1, -1, 1, -1, -1, 1, -1, 0, 0, 1, -1, -1, -1, 1, -1, -1, -1, -1, -1, -1, -1, 1, 0, -1, -1, 1, 0, 0, 0, 1, -1, 1, -1, -1, 1, -1, -1, -1, -1, 1, -1, -1, -1, -1, -1, 1, 1, -1, -1, 1, -1, -1, -1, -1, 0, -1, 1, -1, 0, -1, 1, 1, -1, -1, 1, 0, 1, -1, -1, -1, 1, -1, 1, -1, -1, -1, 1, -1, -1, 1, -1, 1, -1, -1, -1, 1, -1, -1, -1, -1, 1, 1, -1, 1, -1, 1, 1, -1, -1, -1, -1, 1, 1, -1, 1, 0, 1, -1, 1, 1, 0, 1, -1, -1, 1, 0, -1, 1, -1, 1, 0, -1, 1, -1, 1, 1, 1, 1, 0, 1, -1, 1, 1, 1, -1, 1, 1, -1, 1, 0, -1, -1, -1, -1, 1, -1, -1, -1, 1, -1, -1, 1, -1, 1, -1, 1, -1, -1, -1, -1, -1, 0, 1, -1, -1, 0, 1, 1, -1, 1, 1, -1, -1, -1, -1, -1, -1, 1, 1, -1, 1, -1, -1, -1, -1, -1, -1, -1, -1, -1, 1, -1, 1, -1, -1, -1, 1, -1, -1, 0, -1, 1, -1, -1, 1, 1, -1, -1, 1, 1, -1, -1, -1, -1, -1, -1, 1, 0, 1, -1, 1, -1, -1, -1, -1, -1, -1, 1, -1, -1, -1, -1, -1, 1, -1, -1, 1, -1, -1, -1, -1, 0, -1, 1, 1, 1, 1, -1, -1, -1, -1, -1, -1, -1, -1, -1, 1, 1, 1, -1, -1, -1, -1, -1, 0, -1, -1, 1, 1, 1, -1, -1, 1, 1, -1, -1, -1, 1, -1, -1, -1, 1, 1, 0, -1, -1, -1, -1, -1, 0, -1, 1, 1, -1, 1, 1, 1, -1, -1, 1, -1, 1, 0, -1, 1, 1, -1, 1, 1, 1, -1, 1, 1, 1, 1, 1, -1, -1, 1, 0, 1, -1, -1, -1, -1, 1, 1, 1, 1, 1, 1, -1, 1, 1, -1, -1, -1, -1, -1, -1, -1, -1, -1, 1, -1, 0, 1, 0, -1, -1, -1, -1, -1, 0, -1, -1, -1, 1, 1, 1, 1, 1, -1, 1, 1, 1, 1, -1, 1, 0, -1, -1, 1, -1, 1, 1, 1, 1, -1, -1, 0, -1, -1, -1, 1, 0, 1, -1, -1, -1, -1, -1, -1, -1, 1, 1, 1, -1, 1, 1, 1, 1, -1, -1, -1, -1, 1, -1, 1, -1, 1, 0, 0, -1, -1, -1, -1, 1, -1, 1, 0, -1, -1, 1, 1, -1, 1, -1, 1, -1, -1, 1, -1, -1, 0, -1, 1, 1, 0, -1, -1, 1, -1, 1, 1, 1, 1, 1, 1, -1, -1, -1, 1, -1, 0, -1, -1, -1, -1, -1, -1, 1, -1, 1, -1, 0, -1, 0, 0, -1, -1, -1, 1, 1, -1, -1, -1, 1, 0, -1, 0, -1, -1, 1, 1, -1, 0, 1, 0, 0, 1, -1, 0, -1, 0, -1, -1, -1, -1, -1, -1, 1, 1, -1, 0, -1, 1, -1, -1, -1, -1, 0, -1, -1, 1, -1, 1, 0, -1, 1, -1, -1, 1, 1, -1, 0, -1, -1, -1, 1, -1, -1, -1, 1, 0, -1, 1, -1, -1, 0, -1, 1, 1, -1, 0, -1, -1, -1, 1, 1, 1, 1, 1, -1, 1, 0, -1, -1, 1, -1, -1, 0, -1, 0, -1, -1, 1, 1, 0, 0, -1, -1, -1, -1, -1, -1, -1, 1, -1, 1, -1, -1, -1, -1, -1, -1, -1, 1, -1, 0, -1, 1, 0, -1, -1, 1, 1, -1, 1, 1, -1, 0, 0, -1, 0, -1, 1, -1, -1, 1, -1, -1, -1, 0, 1, 1, 1, 1, 1, 1, 1, 1, 1, 0, 1, 0, 0, -1, 0, 1, -1, 1, 1, 1, -1, -1, 0, -1, -1, 1, 1, -1, -1, -1, 1, 1, -1, 1, 1, -1, 0, 1, 0, -1, -1, -1, -1, 1, -1, 0, 0, 0, 1, 1, 1, -1, 1, 1, 1, -1, 1, -1, -1, 1, -1, 1, -1, 1, -1, -1, -1, -1, -1, 0, -1, -1, -1, -1, -1, 0, 0, 1, -1, -1, -1, -1, -1, -1, 1, -1, -1, -1, -1, 1, -1, 1, -1, -1, -1, -1, 1, 0, -1, -1, 1, -1, -1, 1, -1, -1, -1, 1, 0, 1, -1, -1, -1, -1, -1, 1, -1, -1, 1, -1, -1, -1, -1, 0, 1, 1, -1, 1, 1, 1, 1, 1, -1, 1, -1, 0, 1, -1, 1, 1, 0, 1, -1, -1, 1, -1, -1, 1, 0, 1, -1, 1, -1, 1, 1, 0, 1, -1, 1, -1, -1, -1, -1, 1, 1, -1, -1, -1, -1, 1, -1, -1, -1, -1, 1, -1, -1, -1, 1, -1, -1, 1, 1, 1, 1, -1, 1, -1, 0, -1, 1, 1, 1, 1, 1, 1, 1, 1, -1, -1, 1, 1, 1, -1, 1, 1, -1, 1, 1, 1, 1, -1, 1, -1, 1, 1, 1, 1, -1, 1, -1, -1, -1, -1, -1, -1, 0, 1, -1, 1, 0, 1, 1, 1, 1, 1, 1, 1, -1, 1, 1, 1, 1, 1, -1, 1, 1, 1, 0, 1, -1, -1, -1, 1, 1, 1, -1, 1, -1, -1, 0, -1, 1, -1, 1, 1, 1, 0, -1, -1, -1, -1, -1, -1, 0, 0, -1, 1, 0, 1, 1, 1, -1, -1, 1, -1, 1, 1, 1, 0, 1, 1, 1, 1, -1, 1, 1, -1, -1, 1, -1, 1, 0, 1, -1, -1, 1, -1, -1, 1, -1, -1, -1, 1, 1, -1, 1, 0, 1, 1, 0, -1, 0, 1, -1, 1, -1, 1, 1, 1, 1, 1, -1, -1, 1, -1, -1, 1, 1, -1, 1, 1, -1, -1, 1, -1, -1, 1, 1, 1, 1, -1, 1, 1, 1, 1, 1, 1, -1, -1, 0, 1, 0, -1, -1, 1, 1, -1, 0, -1, -1, -1, 1, 1, 1, -1, -1, -1, -1, -1, -1, -1, -1, -1, -1, -1, 0, -1, -1, 0, 1, 1, 1, -1, 1, 1, 1, 0, 1, -1, -1, -1, -1, 0, 1, -1, -1, 1, -1, 1, 1, -1, 0, 0, 1, -1, 1, -1, -1, -1, -1, -1, -1, -1, -1, -1, -1, -1, -1, -1, -1, -1, -1, -1, 1, -1, -1, -1, -1, -1, -1, -1, -1, -1, -1, -1, -1, -1, -1, 0, -1, -1, -1, 0, -1, 1, 1, 1, 0, 1, -1, -1, 1, -1, -1, -1, -1, 1, -1, -1, -1, -1, -1, -1, -1, -1, 1, -1, 1, -1, 1, 0, -1, -1, 1, 1, 0, -1, 0, 0, 1, 1, -1, 0, 1, 1, 0, 1, 0, -1, 1, 1, 0, -1, 1, 0, 1, -1, 1, 1, 1, -1, -1, 1, 1, 1, -1, 1, -1, -1, -1, -1, 0, -1, 1, -1, -1, -1, -1, 0, 1, 1, 1, -1, -1, -1, 1, -1, -1, 1, 1, -1, -1, -1, 0, -1, -1, 0, -1, -1, 0, -1, -1, -1, 1, 1, 0, 1, -1, -1, -1, -1, 1, -1, -1, -1, -1, 0, 1, 1, 1, 0, 1, 0, 1, -1, 0, -1, -1, -1, -1, -1, -1, 1, 1, -1, -1, -1, -1, -1, 1, -1, -1, 1, -1, -1, -1, 0, 1, 1, 1, 1, 0, -1, -1, -1, -1, -1, -1, 1, 0, -1, 1, -1, -1, 1, -1, 1, -1, -1, -1, -1, -1, 1, 1, -1, -1, -1, 1, 0, -1, 1, -1, -1, 1, -1, -1, -1, 1, 1, -1, -1, -1, -1, 1, 0, 1, -1, -1, -1, 1, 1, -1, -1, 1, 1, -1, 1, 1, -1, 1, -1, 1, -1, 0, 1, -1, -1, -1, -1, -1, -1, -1, -1, -1, 1, 1, 1, -1, -1, 1, -1, -1, 1, 0, 1, -1, -1, 1, -1, -1, -1, 1, 0, -1, 1, -1, -1, 1, 1, 1, -1, -1, 1, -1, -1, -1, -1, 1, 1, -1, 1, -1, 1, -1, 1, -1, -1, 1, 1, -1, 1, 1, -1, 1, 1, -1, 1, -1, -1, 1, -1, 1, 1, -1, 1, -1, 1, -1, -1, -1, 0, 0, 0, -1, -1, -1, -1, 1, -1, -1, 1, 1, -1, -1, 1, -1, -1, -1, -1, 1, 1, -1, 0, 1, 1, 1, -1, -1, -1, 1, 0, -1, -1, 1, -1, 1, -1, 1, -1, -1, -1, 1, -1, -1, -1, -1, -1, 1, -1, -1, 0, 0, -1, 1, -1, -1, 1, 1, -1, -1, 1, 1, -1, -1, 0, -1, -1, -1, -1, -1, 0, -1, 1, 1, 0, 1, 0, -1, 1, 1, -1, -1, 1, 1, 1, 1, -1, -1, -1, 1, 0, 1, -1, 1, -1, 0, -1, 1, 0, 0, 1, 1, 1, 1, 1, -1, -1, -1, 1, 1, 1, -1, -1, -1, 0, 0, 1, 1, 1, -1, 1, -1, -1, 0, 1, -1, -1, -1, -1, 1, 0, 1, -1, 1, -1, 1, -1, -1, -1, -1, -1, 1, -1, -1, 1, -1, 1, -1, 1, 1, 1, 0, -1, 1, 1, 1, -1, 1, -1, -1, 1, -1, 0, 0, -1, -1, -1, -1, -1, 0, -1, -1, 1, -1, -1, 1, -1, -1, -1, 1, 0, 1, 1, 1, 1, 1, 1, 1, -1, 0, 0, -1, 0, 0, -1, -1, 1, 1, 1, -1, 1, -1, -1, -1, -1, 1, -1, 0, 0, -1, 1, -1, -1, -1, -1, 1, -1, -1, 1, 1, -1, 1, -1, 1, -1, 1, 1, -1, 1, 1, 1, 1, 0, 1, 1, 1, 1, -1, 1, 0, -1, 1, 0, 1, 1, -1, 1, 1, 1, 1, 1, 1, -1, 1, 1, 1, -1, -1, -1, -1, -1, 1, -1, 0, 1, -1, -1, -1, 1, -1, 1, -1, 1, -1, 1, -1, -1, -1, -1, -1, -1, -1, -1, 0, -1, -1, -1, -1, -1, -1, -1, -1, 1, -1, 0, 0, -1, -1, 0, 0, 1, 0, 1, 1, -1, 1, 1, 1, -1, -1, -1, 1, 1, 1, 0, 1, 1, 1, 1, 1, 1, 1, 1, 1, 1, 1, -1, 0, -1, -1, -1, 1, 1, -1, 1, -1, 1, 1, 1, 1, 0, -1, -1, -1, -1, -1, -1, 1, -1, 0, -1, -1, -1, 0, -1, -1, -1, -1, -1, -1, -1, -1, -1, 1, 1, -1, -1, 0, 0, 0, 1, 1, -1, 1, 1, 0, -1, 0, 1, 1, 1, 1, -1, 1, -1, -1, -1, -1, 1, -1, -1, -1, -1, -1, -1, 1, -1, -1, -1, -1, -1, -1, 1, 0, -1, 1, 1, -1, 0, -1, 1, 0, -1, -1, -1, -1, -1, -1, -1, -1, -1, -1, -1, -1, -1, 1, 1, 1, -1, -1, -1, -1, 0, -1, 1, -1, 1, -1, -1, -1, -1, 1, 1, -1, -1, -1, -1, 1, 1, 0, 1, -1, -1, 0, 1, -1, -1, 0, -1, -1, 1, 1, 1, 0, -1, -1, -1, -1, 1, -1, -1, -1, -1, 1, -1, -1, -1, -1, 1, 1, -1, 1, -1, 1, -1, 1, 1, -1, 1, -1, 1, 1, -1, -1, -1, 1, -1, -1, -1, -1, 1, 1, -1, 1, -1, -1, -1, -1, -1, -1, -1, -1, -1, -1, 1, 0, -1, 0, 1, 1, 1, 1, -1, 1, -1, -1, -1, 1, 1, 1, 0, 0, -1, 1, 1, 0, 1, 1, 1, 1, -1, -1, 1, 1, -1, -1, -1, -1, 1, 1, 1, -1, -1, 1, -1, 1, 1, -1, -1, 0, -1, 1, 1, -1, 1, 1, -1, 1, 1, 1, -1, 1, 1, 1, 1, 1, -1, -1, 1, -1, -1, -1, 1, 1, -1, 1, 0, 1, -1, 0, 1, -1, 1, -1, 1, -1, -1, -1, 1, 1, -1, 1, -1, -1, -1, -1, -1, -1, -1, -1, 1, 1, -1, -1, -1, -1, -1, -1, -1, 1, -1, -1, -1, -1, -1, -1, 1, -1, 1, -1, -1, -1, 1, -1, -1, 1, -1, -1, -1, 1, 1, 1, 1, -1, -1, 1, -1, 1, 1, 0, 1, 1, -1, -1, -1, 1, -1, -1, 1, 1, 1, 1, -1, 1, 1, 1, 1, 1, 1, 1, 1, 1, 1, 1, 1, 1, 1, -1, 1, 0, -1, 1, 1, -1, -1, -1, 1, 1, -1, 1, -1, 1, -1, -1, -1, -1, 1, 1, -1, -1, 1, 1, 1, -1, -1, -1, 1, -1, 1, -1, -1, -1, -1, -1, 1, -1, 1, 0, -1, 1, -1, 0, 1, 0, -1, -1, 1, -1, 1, 1, 1, 1, 0, 1, 1, -1, 1, -1, 1, -1, -1, 1, 1, -1, -1, -1, -1, -1, -1, -1, -1, -1, 1, 1, 1, -1, 1, -1, -1, -1, -1, 0, -1, 1, -1, -1, -1, -1, -1, 1, 1, 1, -1, 1, -1, 1, -1, 1, 0, 1, 1, -1, -1, 1, -1, 1, 1, 1, 0, -1, 1, -1, -1, -1, -1, -1, -1, -1, -1, -1, -1, -1, -1, -1, -1, -1, -1, 1, -1, 1, 1, -1, -1, -1, 1, -1, -1, 1, -1, -1, -1, 1, 1, -1, -1, 1, -1, -1, 1, -1, 0, -1, -1, 0, 1, -1, -1, 1, -1, -1, 1, -1, -1, 1, -1, -1, 1, 0, -1, -1, -1, -1, 1, -1, 1, 1, 1, -1, -1, -1, 1, -1, -1, 0, -1, -1, -1, -1, -1, 0, 1, -1, -1, -1, -1, 1, -1, -1, -1, 1, -1, 1, 0, 1, -1, 1, -1, -1, 1, 1, 1, 0, 0, 0, -1, -1, 1, -1, -1, -1, -1, 1, 0, -1, 0, -1, -1, 1, 1, -1, 0, 1, 1, -1, -1, -1, -1, -1, -1, -1, -1, -1, -1, -1, -1, 1, -1, 1, 1, 1, 1, 1, 1, -1, 1, 1, -1, 1, 1, 1, 1, 1, -1, 1, 1, 1, 1, -1, 1, 1, 1, -1, -1, -1, -1, 0, 1, -1, -1, -1, -1, 1, 1, -1, 0, 1, -1, 1, 1, 1, 1, 1, 1, -1, -1, -1, -1, 1, 1, 0, -1, 0, 1, -1, -1, -1, 1, 1, 0, 1, -1, 1, -1, 1, 1, 1, -1, 1, -1, -1, -1, -1, 0, -1, 1, -1, 1, -1, -1, -1, -1, -1, 1, -1, 1, 1, 0, -1, -1, 1, 0, -1, -1, -1, -1, -1, -1, 0, -1, -1, 1, -1, -1, -1, -1, 1, -1, -1, -1, -1, -1, -1, -1, 1, -1, -1, -1, -1, -1, -1, -1, 0, -1, 1, 1, -1, 1, -1, -1, -1, -1, -1, 1, 0, -1, -1, 1, 0, -1, 1, -1, -1, -1, -1, -1, -1, -1, 0, -1, 0, 1, 0, -1, 1, -1, -1, 1, 1, 0, -1, -1, -1, 1, -1, -1, -1, 1, 0, -1, -1, -1, -1, -1, -1, -1, -1, 0, -1, 0, -1, 1, 1, -1, -1, -1, 1, -1, -1, -1, 1, -1, 1, -1, -1, 0, -1, -1, 1, 1, -1, 1, -1, 1, -1, 0, 1, -1, 0, -1, 1, 1, -1, -1, -1, 1, 0, 1, -1, -1, -1, -1, 1, -1, -1, -1, -1, 1, -1, -1, 1, 1, -1, -1, -1, -1, -1, -1, -1, -1, 1, 1, -1, -1, -1, 1, 1, -1, 1, 1, 1, -1, -1, -1, -1, -1, 0, 1, 1, -1, -1, -1, 1, -1, 0, -1, 0, 1, -1, 1, 0, 1, 1, 1, -1, -1, 1, 1, 1, 1, -1, -1, -1, 1, -1, -1, -1, -1, -1, -1, 1, -1, -1, 1, -1, -1, -1, 0, -1, -1, 1, 1, 1, -1, -1, -1, 1, 0, -1, 0, 1, -1, -1, 0, -1, 1, 1, 1, -1, -1, -1, -1, 1, -1, -1, -1, -1, 1, -1, -1, -1, -1, -1, -1, -1, -1, -1, -1, -1, -1, -1, -1, -1, -1, -1, -1, -1, 1, -1, 0, -1, -1, -1, 0, -1, -1, -1, -1, -1, 1, -1, -1, -1, -1, -1, 0, 0, -1, -1, -1, -1, -1, -1, 0, -1, 0, -1, -1, -1, -1, 1, -1, -1, -1, -1, 0, 1, 0, 1, 0, 1, -1, 0, -1, -1, 1, -1, 1, 1, -1, 1, -1, -1, 0, -1, -1, 1, -1, -1, -1, 1, -1, -1, -1, -1, 1, -1, -1, -1, -1, -1, -1, 0, 1, -1, 0, 1, 1, 1, -1, 0, -1, 1, -1, 0, 1, 1, 1, 1, 1, 1, 1, 0, -1, 1, 0, -1, -1, -1, 1, 1, -1, 1, 0, 1, 1, 1, 1, 1, 1, 1, 1, 1, -1, 1, -1, 1, 1, 1, 1, 0, -1, -1, -1, -1, -1, -1, -1, -1, 1, 1, 1, 1, 1, 1, 0, 1, 0, 1, 0, -1, 1, -1, 0, -1, -1, 1, -1, 1, 1, -1, 0, 1, -1, 1, -1, -1, 0, 1, -1, 0, -1, 1, 0, -1, 1, -1, -1, 1, 1, 1, 1, 1, 1, 1, -1, 1, -1, -1, -1, -1, -1, 1, -1, -1, 0, -1, -1, 1, 0, 1, 1, -1, 0, 0, -1, 0, -1, -1, 0, -1, -1, -1, -1, -1, 1, -1, -1, 0, -1, -1, -1, -1, -1, -1, 1, -1, -1, -1, -1, -1, -1, -1, -1, 1, -1, -1, 0, 1, 0, 1, 1, -1, -1, -1, -1, 0, -1, 1, 0, 0, -1, -1, -1, -1, -1, -1, -1, -1, 1, 1, 0, 0, 0, 1, -1, -1, -1, -1, -1, 0, 1, -1, -1, 0, -1, 1, -1, 1, -1, -1, 1, -1, 1, -1, 1, 1, -1, 1, -1, -1, 1, 0, -1, 0, 1, -1, -1, -1, 1, -1, -1, -1, -1, 1, -1, 1, -1, 0, -1, -1, -1, -1, -1, -1, 0, -1, -1, -1, -1, 1, -1, 1, -1, -1, -1, -1, -1, 0, 1, -1, -1, -1, 1, -1, -1, 1, -1, 1, -1, -1, -1, 1, 1, 1, 0, -1, -1, 1, 1, -1, -1, -1, -1, -1, -1, -1, -1, -1, -1, 1, 1, -1, 1, -1, 1, 1, -1, -1, -1, -1, 1, -1, 1, -1, -1, -1, -1, 1, 1, 1, 1, -1, -1, 1, -1, -1, 1, -1, 1, -1, -1, -1, -1, -1, 1, 1, -1, 1, 1, -1, 1, -1, -1, -1, 1, 1, -1, 0, -1, -1, -1, -1, -1, 0, 0, 1, 1, 1, -1, -1, -1, -1, -1, 1, 1, -1, -1, 0, 0, -1, -1, 0, 0, -1, -1, 1, 1, 1, 1, 1, -1, 1, 1, -1, -1, -1, 1, 0, -1, -1, -1, 1, 1, 1, -1, 1, 1, 0, -1, 1, 1, 1, 1, -1, 1, 1, 0, 1, -1, 1, -1, 1, -1, -1, 1, -1, 1, 1, -1, -1, -1, 1, -1, 1, -1, 1, 1, -1, 0, -1, 1, 0, -1, 1, -1, 0, -1, 1, 1, -1, -1, 0, 1, -1, -1, -1, 1, -1, -1, -1, 0, -1, 0, -1, 1, -1, -1, -1, -1, -1, -1, -1, -1, -1, -1, -1, -1, -1, -1, -1, -1, 1, 0, 0, 1, -1, -1, -1, 0, 0, -1, 1, 1, 1, 1, 1, -1, -1, -1, -1, -1, 1, 1, 1, 0, 1, 1, -1, -1, 1, -1, -1, -1, 0, -1, -1, 1, -1, -1, -1, -1, 1, 1, -1, -1, 1, -1, -1, 1, -1, -1, 0, -1, -1, -1, 1, -1, 1, -1, 1, 1, -1, -1, 0, 1, -1, -1, 1, 1, -1, -1, -1, 1, -1, -1, -1, -1, -1, -1, -1, -1, 1, 0, 1, -1, -1, 0, -1, 1, -1, -1, -1, 0, 1, 1, -1, 1, 1, 1, 1, 1, 1, -1, -1, -1, 0, 1, -1, 1, 1, 1, -1, -1, -1, -1, -1, -1, -1, -1, -1, -1, -1, -1, -1, -1, 1, -1, -1, -1, -1, -1, -1, -1, -1, -1, 1, -1, -1, -1, -1, 1, -1, -1, -1, -1, -1, 1, -1, 1, -1, -1, -1, -1, 1, -1, -1, -1, -1, 1, -1, -1, -1, 1, 1, 1, 1, 1, -1, -1, -1, 1, -1, 0, 0, -1, 0, 1, 1, 1, -1, -1, -1, 0, -1, -1, -1, 0, -1, -1, -1, 1, -1, 0, -1, -1, -1, 0, 0, 0, -1, 1, 1, 1, 0, 0, -1, 0, 1, -1, 0, 1, -1, -1, 0, -1, 1, 1, -1, -1, 0, 0, -1, -1, -1, 0, -1, 0, 1, 1, 1, -1, -1, 1, -1, -1, -1, -1, -1, 1, -1, -1, -1, -1, -1, -1, -1, 0, -1, -1, -1, -1, -1, 1, -1, -1, 1, 1, -1, -1, -1, -1, -1, 1, 1, 1, 1, 1, 1, 1, 1, 1, 1, -1, 1, -1, -1, -1, 1, -1, 1, 1, 1, 1, 1, -1, 0, 0, -1, -1, -1, 1, 1, -1, 0, 0, -1, -1, 1, -1, -1, -1, 1, 1, -1, 1, 0, -1, -1, -1, -1, -1, -1, -1, 1, -1, 1, 1, 1, -1, 1, -1, 0, -1, -1, -1, -1, -1, -1, -1, -1, -1, -1, -1, -1, 1, -1, 1, 1, -1, -1, 1, 1, 1, 1, 1, 1, -1, -1, 1, 1, 1, -1, 1, 1, 1, -1, 0, -1, -1, 0, -1, 1, 1, 1, 0, -1, 1, 1, -1, 1, 1, 1, -1, 1, -1, -1, -1, 1, -1, -1, 1, 1, -1, 1, 1, -1, 0, -1, 1, -1, 0, -1, 1, 1, -1, 1, 1, 1, -1, 1, 0, -1, 0, 1, -1, -1, -1, -1, 0, -1, 1, -1, -1, 1, -1, -1, -1, 1, 1, -1, 1, 0, 1, 1, -1, 1, -1, 0, 0, -1, -1, 1, -1, -1, -1, 1, -1, -1, -1, 1, -1, 1, -1, 1, -1, -1, 1, 1, -1, -1, -1, 1, 0, -1, 1, -1, 0, 1, 0, -1, 0, 0, -1, 1, -1, -1, -1, 1, -1, 1, -1, -1, 1, -1, 1, 1, 1, -1, 1, 1, 1, -1, -1, -1, -1, 1, -1, -1, -1, 1, -1, -1, -1, 0, -1, -1, -1, -1, -1, -1, -1, 1, -1, -1, -1, 1, 1, -1, -1, -1, -1, -1, -1, -1, 1, -1, -1, -1, -1, 1, 0, 1, -1, -1, -1, 1, -1, -1, -1, -1, -1, 1, -1, -1, -1, -1, 1, -1, 1, 0, -1, 1, -1, -1, -1, 0, 1, -1, 0, -1, 0, -1, 1, -1, -1, 1, 1, 1, 1, 1, -1, 1, -1, 1, -1, 1, -1, -1, -1, -1, 1, -1, 0, -1, 0, 0, -1, -1, -1, -1, -1, 0, -1, -1, 1, -1, -1, 1, -1, -1, -1, -1, -1, -1, 1, -1, -1, 1, -1, -1, -1, 0, -1, -1, 0, -1, -1, -1, -1, 0, 0, -1, -1, 1, -1, 1, 0, 1, -1, -1, 0, -1, 1, -1, 0, -1, -1, -1, -1, -1, -1, -1, 1, -1, -1, -1, -1, 0, 1, 1, 1, -1, 1, 0, 1, 1, 0, -1, 1, 1, 1, 1, -1, 1, 1, -1, 1, 0, -1, 0, -1, 0, 1, -1, 1, -1, -1, 0, -1, 1, 1, -1, -1, 1, 1, -1, 0, 1, 1, 1, 1, 0, -1, -1, -1, 1, 1, 1, -1, -1, -1, 1, 0, 1, -1, -1, 1, -1, 0, 0, 1, -1, -1, -1, 1, 1, 1, 1, -1, -1, -1, 1, 1, 1, -1, 1, -1, -1, 1, -1, 1, 1, 1, 1, -1, -1, 1, -1, 1, -1, 1, 1, -1, 1, -1, -1, 1, 1, -1, -1, -1, -1, -1, -1, -1, 1, -1, 0, 1, 1, 1, 0, -1, 1, -1, 1, -1, -1, 0, 0, 0, -1, -1, 0, -1, -1, -1, -1, -1, 1, -1, -1, -1, 1, 1, -1, -1, 1, -1, -1, -1, 1, -1, -1, -1, 1, -1, 1, -1, -1, -1, -1, -1, -1, 1, -1, 1, -1, -1, -1, 1, 0, -1, 1, 1, -1, 1, -1, -1, 0, -1, 1, 1, 1, 1, -1, -1, 1, -1, -1, -1, 1, 1, 1, 1, 1, -1, -1, 1, -1, -1, 1, -1, 1, 1, 0, -1, -1, -1, -1, -1, 1, -1, -1, -1, -1, 1, -1, -1, 1, 0, -1, -1, -1, -1, -1, 1, -1, -1, 1, -1, 1, 1, 1, 0, 0, -1, -1, 0, -1, -1, -1, -1, -1, -1, -1, 1, -1, -1, 1, -1, 1, -1, -1, -1, -1, -1, -1, -1, -1, -1, 0, 1, -1, 1, 0, 1, -1, 1, -1, -1, 0, 0, -1, 1, -1, -1, -1, -1, -1, 1, -1, 1, -1, -1, 1, 1, 1, -1, -1, 1, 1, 1, 1, 1, -1, 1, -1, -1, -1, -1, 1, -1, 1, -1, -1, -1, -1, -1, 0, -1, 1, -1, -1, 0, 1, -1, -1, -1, 0, 0, -1, 0, 1, -1, 0, 1, -1, -1, -1, -1, -1, -1, -1, -1, 0, -1, 0, -1, -1, 0, 1, -1, -1, 0, 1, -1, 0, -1, 1, 0, -1, -1, -1, -1, -1, 0, -1, -1, -1, -1, -1, -1, -1, -1, -1, 1, 0, 0, -1, -1, -1, -1, -1, -1, -1, -1, 1, -1, -1, 1, 1, 1, 1, 1, 1, 1, 1, 1, 1, 1, 1, 1, 0, 1, 1, 1, 1, 1, 1, -1, -1, -1, 0, 1, -1, -1, -1, -1, 1, -1, 1, -1, -1, -1, 1, -1, 1, 1, 1, 1, -1, -1, -1, -1, -1, -1, -1, 1, -1, 1, -1, 1, -1, 1, -1, -1, 1, -1, -1, 1, 0, 1, 1, -1, 1, 1, 0, -1, 0, -1, -1, -1, -1, 0, 1, 0, 1, -1, -1, -1, -1, 0, 1, 0, 1, -1, 1, 0, 1, 0, -1, -1, -1, -1, 1, 1, -1, -1, -1, 0, 1, -1, -1, 0, 0, -1, -1, -1, 1, -1, -1, 0, 1, -1, -1, -1, -1, -1, 1, 1, 0, -1, -1, -1, 1, 1, 1, -1, 1, 1, -1, -1, 1, -1, 1, -1, -1, -1, -1, -1, 1, -1, -1, -1, 1, -1, 1, 0, 1, -1, 0, -1, -1, 1, -1, 0, 1, -1, -1, -1, 0, 1, 1, 1, 1, 1, -1, -1, -1, -1, 1, 0, -1, -1, -1, -1, -1, -1, -1, 0, 1, 1, 1, 1, -1, -1, -1, -1, -1, -1, -1, -1, 1, -1, -1, 1, 1, -1, 1, 0, 1, 1, 1, -1, 1, 1, -1, -1, -1, 1, -1, 0, -1, -1, -1, 0, 1, 0, -1, -1, -1, -1, -1, -1, 1, 0, -1, 0, 0, -1, 1, 0, 1, -1, 1, -1, -1, 1, 1, 1, 1, 1, 1, 1, -1, -1, 0, -1, 1, -1, 1, -1, -1, 1, 1, -1, -1, -1, 1, -1, 1, -1, 1, -1, -1, 1, -1, -1, -1, -1, 1, 1, 0, 1, 1, 1, 1, -1, -1, -1, 1, -1, -1, -1, -1, -1, 1, -1, -1, 0, 1, -1, 1, -1, 0, -1, 0, -1, -1, -1, 1, 1, -1, -1, -1, 1, -1, -1, -1, -1, 1, -1, 1, -1, -1, 0, -1, 1, 1, 1, 1, 0, 1, -1, 1, 1, 1, 1, 1, 1, 1, 1, 0, -1, -1, -1, -1, -1, -1, -1, 0, 1, -1, 0, 1, -1, -1, -1, 1, 1, -1, 0, -1, 0, -1, 1, -1, -1, -1, -1, -1, -1, 1, 0, 1, 1, -1, 1, -1, -1, -1, -1, -1, 1, -1, 1, 1, 1, -1, -1, -1, -1, -1, -1, -1, -1, -1, 1, 1, -1, -1, -1, -1, -1, 1, -1, 1, -1, -1, 1, 1, -1, 1, -1, -1, 1, -1, 1, 1, -1, 1, -1, -1, 0, -1, -1, 0, -1, 1, 1, -1, 1, 1, 0, -1, -1, 1, -1, -1, -1, -1, 1, 1, -1, -1, 1, -1, -1, -1, -1, 0, -1, -1, -1, -1, -1, -1, -1, 1, -1, -1, -1, -1, -1, 1, 0, -1, -1, -1, 1, -1, -1, -1, -1, -1, -1, -1, -1, -1, 1, -1, 1, 1, -1, -1, 1, 1, -1, -1, -1, 1, -1, -1, 1, -1, -1, -1, -1, -1, 0, 1, 1, -1, -1, -1, -1, -1, 0, -1, 1, -1, -1, -1, 1, 0, -1, -1, -1, -1, 0, -1, 1, 1, 1, -1, -1, -1, -1, 1, -1, 1, -1, 1, 1, 1, -1, -1, -1, -1, -1, 1, -1, -1, -1, -1, 0, 1, 1, 0, -1, -1, 0, -1, -1, -1, -1, 1, 1, 0, -1, -1, -1, 1, -1, 1, 1, -1, -1, -1, -1, -1, -1, 0, -1, -1, 1, 1, 1, -1, -1, -1, 0, -1, 1, -1, -1, -1, 0, 1, -1, 1, 1, -1, -1, -1, -1, -1, -1, 1, 1, 1, -1, 1, -1, -1, -1, 0, 0, 1, -1, 0, 1, -1, 1, 1, -1, 1, 1, 1, 1, 1, 1, 1, -1, -1, -1, 1, -1, 1, 1, 0, 1, 1, 1, 1, 1, -1, -1, -1, -1, -1, -1, -1, -1, 1, 0, 1, -1, -1, -1, -1, 1, -1, -1, -1, 1, -1, 1, -1, 1, 1, 0, 1, -1, -1, 1, -1, 0, -1, -1, -1, 0, -1, -1, -1, -1, 1, 1, 1, -1, 0, -1, -1, -1, -1, -1, 1, -1, 1, -1, -1, -1, -1, 1, 1, -1, 1, 1, 1, -1, 1, 1, 1, -1, -1, -1, -1, -1, -1, 1, 0, 0, -1, -1, -1, -1, -1, 1, -1, -1, -1, 0, -1, -1, -1, -1, 1, -1, -1, -1, -1, 0, 1, -1, 1, -1, 1, 1, -1, -1, 1, -1, -1, 0, 1, 1, 1, -1, -1, -1, 1, 0, 1, 1, 1, -1, 1, -1, -1, -1, -1, -1, -1, -1, 1, 1, 1, 1, -1, -1, 1, 1, -1, -1, -1, -1, -1, -1, 1, -1, -1, 1, 0, -1, -1, 1, 0, -1, 1, 1, 1, -1, 1, 1, -1, -1, -1, -1, 1, 1, 0, 1, 1, -1, -1, -1, -1, -1, 1, -1, 1, 1, -1, 1, -1, -1, 1, 1, -1, -1, 1, -1, -1, -1, -1, -1, -1, 1, 1, -1, -1, -1, -1, 1, -1, -1, -1, -1, -1, 1, 1, -1, -1, 1, -1, 1, 1, -1, -1, 1, 1, -1, 0, 1, -1, 1, -1, 1, 1, 1, 0, 1, 1, 1, 1, 0, 1, 1, -1, -1, -1, -1, -1, 1, -1, 0, -1, 1, -1, 1, 1, -1, 1, -1, -1, -1, 1, -1, -1, 1, -1, -1, -1, -1, -1, 1, 1, -1, -1, -1, -1, 1, -1, -1, -1, -1, 1, -1, 1, 1, -1, 1, -1, 0, 1, 1, -1, -1, -1, 1, 0, 0, -1, -1, -1, 1, 1, -1, -1, 1, 1, -1, 1, 1, 0, -1, 1, 1, -1, -1, -1, 1, -1, 1, -1, 1, 1, 1, -1, -1, 0, 0, 1, -1, -1, 0, -1, 1, 1, 1, 1, 1, 0, -1, -1, 1, -1, 1, -1, 1, 1, 1, -1, 1, -1, -1, -1, 1, 1, 1, 0, -1, 1, 1, -1, -1, 1, 0, 1, 1, 1, 1, -1, -1, -1, -1, 0, -1, 0, 1, -1, -1, -1, -1, -1, -1, -1, 1, 1, -1, -1, -1, -1, -1, 1, -1, -1, -1, 1, -1, -1, 1, -1, 1, 1, -1, -1, -1, 1, 0, -1, 1, 1, 1, -1, 0, 1, -1, 1, -1, -1, -1, -1, -1, 1, -1, -1, -1, -1, -1, 1, -1, 1, 1, 1, 1, 1, -1, -1, -1, 1, -1, 0, -1, 1, -1, -1, -1, -1, -1, -1, 0, -1, -1, 1, -1, 1, -1, 0, 1, -1, -1, 1, -1, -1, 1, -1, -1, 1, -1, -1, 1, 1, -1, 0, -1, 1, 1, 0, -1, 1, -1, 1, -1, 1, -1, 1, 1, -1, -1, 0, 0, 1, -1, -1, 1, 0, -1, 1, 0, -1, 1, -1, 1, 1, 1, 1, 1, 1, 1, 1, 1, 1, 0, 1, 1, 1, -1, 1, 1, 1, 1, 1, 1, 1, -1, -1, -1, 1, 1, 1, 0, 1, -1, 1, -1, 1, 1, 1, -1, 1, 1, 1, -1, 0, -1, 1, 0, -1, -1, 1, -1, -1, -1, 1, 1, -1, -1, -1, 1, -1, 1, 1, -1, 1, 1, -1, 0, 1, -1, -1, 1, 0, 1, 0, -1, 1, -1, -1, -1, -1, 1, -1, 1, -1, -1, 1, -1, -1, 1, -1, 0, -1, 0, 1, 0, -1, -1, -1, 1, -1, -1, -1, 1, 0, -1, -1, -1, -1, -1, -1, 1, -1, -1, 0, 1, -1, -1, -1, 1, -1, -1, 1, -1, -1, -1, 1, -1, -1, -1, -1, -1, 1, -1, -1, -1, -1, -1, -1, -1, 1, -1, -1, -1, -1, 1, 1, -1, -1, 0, -1, -1, 1, -1, -1, 1, -1, 1, -1, -1, -1, -1, -1, -1, 1, -1, -1, -1, -1, 1, -1, 1, -1, 1, -1, -1, -1, -1, -1, 1, -1, 1, 1, 1, -1, -1, -1, 0, 1, -1, -1, 0, -1, 0, -1, -1, -1, -1, -1, -1, 1, -1, 1, 1, -1, 1, 1, 0, -1, 1, 0, 0, -1, 1, 1, 1, 1, -1, -1, 0, -1, 1, 0, -1, -1, 1, 1, -1, 0, -1, 1, 1, 1, -1, -1, -1, -1, -1, 0, 1, 0, 1, 1, 1, 0, -1, 1, 1, -1, 0, -1, 0, -1, 0, 1, 0, -1, -1, -1, 1, 1, 0, 0, 1, -1, 1, 1, -1, -1, 1, -1, -1, 1, 1, 0, -1, -1, -1, -1, -1, -1, -1, -1, 1, 0, 1, 1, 1, 1, 1, -1, 1, -1, 1, -1, -1, 0, -1, 1, -1, 1, -1, 1, 1, -1, 1, 1, 1, 1, 1, -1, 1, -1, -1, -1, -1, -1, -1, -1, 0, -1, 0, 1, -1, 1, 0, 1, 0, -1, -1, 1, -1, 1, -1, -1, 1, -1, 1, -1, 1, -1, 1, 1, 1, -1, -1, 1, 1, 1, 0, 1, 1, 1, -1, 0, 1, -1, 1, 1, 1, 0, 0, -1, 0, 0, 0, 0, -1, -1, -1, -1, -1, 0, -1, -1, -1, -1, 1, -1, -1, -1, -1, -1, -1, -1, 0, -1, -1, 1, 1, -1, -1, -1, 0, -1, -1, 0, 1, -1, -1, -1, -1, 0, 0, -1, 1, -1, -1, 0, 1, 1, -1, -1, -1, -1, 1, -1, 1, -1, -1, 1, -1, -1, -1, -1, 1, -1, -1, -1, -1, -1, -1, -1, -1, -1, -1, -1, 1, -1, 1, 1, -1, 1, -1, -1, 1, -1, 1, 1, 1, -1, -1, -1, -1, 1, 1, 0, -1, 1, 1, 1, 1, 0, -1, 1, -1, 1, -1, 0, -1, 0, 0, -1, -1, 1, -1, 1, 1, -1, 1, -1, 1, -1, 1, -1, -1, 1, 1, 1, 1, 1, 1, -1, -1, -1, 1, -1, -1, 1, 1, 1, -1, -1, -1, -1, -1, -1, 0, -1, 1, -1, -1, -1, -1, 1, 0, 1, 0, -1, -1, -1, 1, 1, 1, 0, -1, 0, 0, -1, 1, -1, -1, -1, 0, 1, 0, 0, 1, 1, -1, -1, 1, 0, -1, -1, 1, -1, 0, -1, -1, -1, -1, -1, -1, -1, -1, -1, -1, -1, -1, -1, 1, 1, -1, -1, 0, 0, -1, -1, 1, 1, 1, 1, 1, -1, 0, -1, 0, -1, 1, 1, 1, -1, 0, 1, 0, -1, 1, 1, 0, 1, 0, -1, 1, -1, -1, -1, 1, -1, -1, -1, 0, -1, 0, 1, -1, 0, -1, 1, 1, -1, -1, 0, -1, 0, -1, -1, 1, 1, 1, -1, -1, 1, 1, -1, 1, 0, 1, -1, 1, 0, 0, 1, 1, -1, 1, 1, 0, 1, -1, -1, -1, 1, -1, 0, 0, 1, -1, -1, -1, 1, 1, 1, 1, 1, 1, 1, 1, 1, 1, 0, 0, -1, -1, -1, 1, -1, 0, 1, 1, 1, -1, 1, -1, -1, -1, -1, -1, 1, -1, -1, -1, -1, 1, 1, 1, 1, 0, 1, 0, -1, -1, -1, -1, -1, -1, -1, 1, -1, -1, 1, -1, 0, -1, -1, -1, -1, -1, -1, -1, -1, -1, -1, -1, 1, -1, -1, -1, 1, -1, -1, 1, -1, 0, -1, -1, -1, -1, -1, -1, -1, -1, 1, 0, 0, 1, 1, 0, 1, -1, 1, 1, 1, 1, 0, 1, -1, 1, 1, -1, -1, 0, -1, -1, 1, 1, 1, -1, 0, -1, 1, 0, -1, 1, 0, -1, 1, 0, -1, 0, -1, -1, 1, 1, -1, 0, -1, 1, 1, 1, 1, -1, -1, -1, -1, 1, 0, 1, 1, 0, 1, -1, -1, -1, -1, -1, -1, -1, -1, -1, -1, 1, 1, 1, -1, 1, -1, -1, -1, -1, 1, 1, 0, -1, -1, -1, 0, -1, 0, 1, 0, -1, 0, -1, -1, 1, -1, 0, 0, -1, 1, -1, 1, 0, 1, -1, -1, 1, 1, 1, 1, -1, 0, -1, 0, -1, 0, 1, -1, 1, 0, -1, -1, 1, 1, -1, -1, -1, -1, 0, -1, 1, -1, 1, -1, -1, -1, -1, 1, -1, -1, 1, 1, 1, -1, -1, -1, -1, -1, -1, 1, 1, -1, -1, -1, -1, 0, 1, -1, 1, -1, 1, 1, -1, 0, -1, -1, -1, -1, 0, 1, -1, -1, -1, -1, 1, -1, 1, -1, 1, -1, -1, -1, 1, 1, -1, -1, -1, 0, 1, -1, 1, -1, 1, 1, -1, 0, -1, 0, 0, 1, 1, -1, -1, 0, -1, 1, 1, 1, 1, 1, -1, 1, 0, 1, -1, -1, 1, -1, -1, -1, -1, -1, -1, 1, -1, -1, -1, -1, -1, 1, 1, 1, 0, 1, -1, 1, -1, 1, 1, 1, -1, 1, 1, 1, 1, -1, -1, 0, -1, 0, -1, -1, -1, -1, -1, -1, 0, 1, -1, 1, 1, 1, -1, 1, 0, -1, -1, 0, 1, 1, 0, 0, -1, 1, -1, -1, 1, 1, -1, 1, 0, 1, 1, -1, -1, 0, -1, -1, -1, 1, -1, 0, 1, 1, -1, -1, -1, -1, 0, 1, 1, -1, -1, 1, 0, 0, -1, -1, -1, -1, -1, 1, -1, -1, 1, -1, 1, 0, -1, -1, 1, 1, -1, 0, 1, 1, 1, -1, -1, -1, -1, -1, -1, -1, -1, -1, -1, -1, -1, 1, 0, -1, -1, 1, -1, -1, -1, -1, -1, 0, 1, -1, 1, -1, 1, -1, 1, 1, 1, 1, 1, -1, 0, -1, 1, -1, -1, 1, -1, -1, -1, 1, 0, -1, -1, -1, -1, 1, 1, 1, -1, 1, 1, -1, 1, 1, -1, -1, -1, 1, -1, -1, -1, -1, 0, -1, -1, 1, -1, -1, -1, 1, -1, 1, -1, -1, 1, 1, 1, -1, -1, -1, 1, 0, 1, 1, -1, -1, 1, 1, -1, -1, -1, -1, -1, 1, -1, 0, 1, 0, 1, 1, -1, 1, 1, 1, -1, 1, 1, -1, 1, -1, 1, 1, -1, 1, 1, 1, 1, 1, -1, 1, 1, -1, 1, -1, -1, -1, -1, -1, -1, -1, -1, -1, -1, -1, 1, -1, -1, -1, 1, 0, 0, 1, 1, -1, 1, 0, 1, 1, 0, 0, 1, 1, 1, -1, 1, 0, 1, -1, -1, 1, 1, 1, 1, -1, -1, 1, 1, 1, -1, 1, 1, 1, 1, 1, 1, 1, -1, -1, -1, -1, 0, 0, -1, 1, -1, 1, -1, -1, -1, -1, -1, 0, -1, -1, -1, -1, -1, -1, -1, 1, -1, -1, 1, -1, 0, 0, 1, 1, 1, -1, 1, 1, -1, 1, -1, -1, 1, 1, -1, -1, 0, 1, -1, -1, 1, 0, 1, 1, -1, -1, 1, -1, -1, -1, -1, -1, 0, 1, 1, -1, -1, -1, 1, -1, -1, -1, -1, -1, -1, 1, 1, 1, 1, -1, 1, 0, 0, 1, 1, 0, 1, 1, 1, -1, -1, -1, 0, -1, -1, -1, 1, 1, -1, -1, 0, -1, 0, -1, -1, 1, 1, -1, -1, 1, 1, 1, -1, 0, 1, 1, -1, -1, 1, 1, -1, -1, -1, 1], \"xaxis\": \"x\", \"yaxis\": \"y\"}],\n",
              "                        {\"barmode\": \"relative\", \"legend\": {\"tracegroupgap\": 0}, \"margin\": {\"t\": 60}, \"template\": {\"data\": {\"bar\": [{\"error_x\": {\"color\": \"#2a3f5f\"}, \"error_y\": {\"color\": \"#2a3f5f\"}, \"marker\": {\"line\": {\"color\": \"#E5ECF6\", \"width\": 0.5}}, \"type\": \"bar\"}], \"barpolar\": [{\"marker\": {\"line\": {\"color\": \"#E5ECF6\", \"width\": 0.5}}, \"type\": \"barpolar\"}], \"carpet\": [{\"aaxis\": {\"endlinecolor\": \"#2a3f5f\", \"gridcolor\": \"white\", \"linecolor\": \"white\", \"minorgridcolor\": \"white\", \"startlinecolor\": \"#2a3f5f\"}, \"baxis\": {\"endlinecolor\": \"#2a3f5f\", \"gridcolor\": \"white\", \"linecolor\": \"white\", \"minorgridcolor\": \"white\", \"startlinecolor\": \"#2a3f5f\"}, \"type\": \"carpet\"}], \"choropleth\": [{\"colorbar\": {\"outlinewidth\": 0, \"ticks\": \"\"}, \"type\": \"choropleth\"}], \"contour\": [{\"colorbar\": {\"outlinewidth\": 0, \"ticks\": \"\"}, \"colorscale\": [[0.0, \"#0d0887\"], [0.1111111111111111, \"#46039f\"], [0.2222222222222222, \"#7201a8\"], [0.3333333333333333, \"#9c179e\"], [0.4444444444444444, \"#bd3786\"], [0.5555555555555556, \"#d8576b\"], [0.6666666666666666, \"#ed7953\"], [0.7777777777777778, \"#fb9f3a\"], [0.8888888888888888, \"#fdca26\"], [1.0, \"#f0f921\"]], \"type\": \"contour\"}], \"contourcarpet\": [{\"colorbar\": {\"outlinewidth\": 0, \"ticks\": \"\"}, \"type\": \"contourcarpet\"}], \"heatmap\": [{\"colorbar\": {\"outlinewidth\": 0, \"ticks\": \"\"}, \"colorscale\": [[0.0, \"#0d0887\"], [0.1111111111111111, \"#46039f\"], [0.2222222222222222, \"#7201a8\"], [0.3333333333333333, \"#9c179e\"], [0.4444444444444444, \"#bd3786\"], [0.5555555555555556, \"#d8576b\"], [0.6666666666666666, \"#ed7953\"], [0.7777777777777778, \"#fb9f3a\"], [0.8888888888888888, \"#fdca26\"], [1.0, \"#f0f921\"]], \"type\": \"heatmap\"}], \"heatmapgl\": [{\"colorbar\": {\"outlinewidth\": 0, \"ticks\": \"\"}, \"colorscale\": [[0.0, \"#0d0887\"], [0.1111111111111111, \"#46039f\"], [0.2222222222222222, \"#7201a8\"], [0.3333333333333333, \"#9c179e\"], [0.4444444444444444, \"#bd3786\"], [0.5555555555555556, \"#d8576b\"], [0.6666666666666666, \"#ed7953\"], [0.7777777777777778, \"#fb9f3a\"], [0.8888888888888888, \"#fdca26\"], [1.0, \"#f0f921\"]], \"type\": \"heatmapgl\"}], \"histogram\": [{\"marker\": {\"colorbar\": {\"outlinewidth\": 0, \"ticks\": \"\"}}, \"type\": \"histogram\"}], \"histogram2d\": [{\"colorbar\": {\"outlinewidth\": 0, \"ticks\": \"\"}, \"colorscale\": [[0.0, \"#0d0887\"], [0.1111111111111111, \"#46039f\"], [0.2222222222222222, \"#7201a8\"], [0.3333333333333333, \"#9c179e\"], [0.4444444444444444, \"#bd3786\"], [0.5555555555555556, \"#d8576b\"], [0.6666666666666666, \"#ed7953\"], [0.7777777777777778, \"#fb9f3a\"], [0.8888888888888888, \"#fdca26\"], [1.0, \"#f0f921\"]], \"type\": \"histogram2d\"}], \"histogram2dcontour\": [{\"colorbar\": {\"outlinewidth\": 0, \"ticks\": \"\"}, \"colorscale\": [[0.0, \"#0d0887\"], [0.1111111111111111, \"#46039f\"], [0.2222222222222222, \"#7201a8\"], [0.3333333333333333, \"#9c179e\"], [0.4444444444444444, \"#bd3786\"], [0.5555555555555556, \"#d8576b\"], [0.6666666666666666, \"#ed7953\"], [0.7777777777777778, \"#fb9f3a\"], [0.8888888888888888, \"#fdca26\"], [1.0, \"#f0f921\"]], \"type\": \"histogram2dcontour\"}], \"mesh3d\": [{\"colorbar\": {\"outlinewidth\": 0, \"ticks\": \"\"}, \"type\": \"mesh3d\"}], \"parcoords\": [{\"line\": {\"colorbar\": {\"outlinewidth\": 0, \"ticks\": \"\"}}, \"type\": \"parcoords\"}], \"pie\": [{\"automargin\": true, \"type\": \"pie\"}], \"scatter\": [{\"marker\": {\"colorbar\": {\"outlinewidth\": 0, \"ticks\": \"\"}}, \"type\": \"scatter\"}], \"scatter3d\": [{\"line\": {\"colorbar\": {\"outlinewidth\": 0, \"ticks\": \"\"}}, \"marker\": {\"colorbar\": {\"outlinewidth\": 0, \"ticks\": \"\"}}, \"type\": \"scatter3d\"}], \"scattercarpet\": [{\"marker\": {\"colorbar\": {\"outlinewidth\": 0, \"ticks\": \"\"}}, \"type\": \"scattercarpet\"}], \"scattergeo\": [{\"marker\": {\"colorbar\": {\"outlinewidth\": 0, \"ticks\": \"\"}}, \"type\": \"scattergeo\"}], \"scattergl\": [{\"marker\": {\"colorbar\": {\"outlinewidth\": 0, \"ticks\": \"\"}}, \"type\": \"scattergl\"}], \"scattermapbox\": [{\"marker\": {\"colorbar\": {\"outlinewidth\": 0, \"ticks\": \"\"}}, \"type\": \"scattermapbox\"}], \"scatterpolar\": [{\"marker\": {\"colorbar\": {\"outlinewidth\": 0, \"ticks\": \"\"}}, \"type\": \"scatterpolar\"}], \"scatterpolargl\": [{\"marker\": {\"colorbar\": {\"outlinewidth\": 0, \"ticks\": \"\"}}, \"type\": \"scatterpolargl\"}], \"scatterternary\": [{\"marker\": {\"colorbar\": {\"outlinewidth\": 0, \"ticks\": \"\"}}, \"type\": \"scatterternary\"}], \"surface\": [{\"colorbar\": {\"outlinewidth\": 0, \"ticks\": \"\"}, \"colorscale\": [[0.0, \"#0d0887\"], [0.1111111111111111, \"#46039f\"], [0.2222222222222222, \"#7201a8\"], [0.3333333333333333, \"#9c179e\"], [0.4444444444444444, \"#bd3786\"], [0.5555555555555556, \"#d8576b\"], [0.6666666666666666, \"#ed7953\"], [0.7777777777777778, \"#fb9f3a\"], [0.8888888888888888, \"#fdca26\"], [1.0, \"#f0f921\"]], \"type\": \"surface\"}], \"table\": [{\"cells\": {\"fill\": {\"color\": \"#EBF0F8\"}, \"line\": {\"color\": \"white\"}}, \"header\": {\"fill\": {\"color\": \"#C8D4E3\"}, \"line\": {\"color\": \"white\"}}, \"type\": \"table\"}]}, \"layout\": {\"annotationdefaults\": {\"arrowcolor\": \"#2a3f5f\", \"arrowhead\": 0, \"arrowwidth\": 1}, \"coloraxis\": {\"colorbar\": {\"outlinewidth\": 0, \"ticks\": \"\"}}, \"colorscale\": {\"diverging\": [[0, \"#8e0152\"], [0.1, \"#c51b7d\"], [0.2, \"#de77ae\"], [0.3, \"#f1b6da\"], [0.4, \"#fde0ef\"], [0.5, \"#f7f7f7\"], [0.6, \"#e6f5d0\"], [0.7, \"#b8e186\"], [0.8, \"#7fbc41\"], [0.9, \"#4d9221\"], [1, \"#276419\"]], \"sequential\": [[0.0, \"#0d0887\"], [0.1111111111111111, \"#46039f\"], [0.2222222222222222, \"#7201a8\"], [0.3333333333333333, \"#9c179e\"], [0.4444444444444444, \"#bd3786\"], [0.5555555555555556, \"#d8576b\"], [0.6666666666666666, \"#ed7953\"], [0.7777777777777778, \"#fb9f3a\"], [0.8888888888888888, \"#fdca26\"], [1.0, \"#f0f921\"]], \"sequentialminus\": [[0.0, \"#0d0887\"], [0.1111111111111111, \"#46039f\"], [0.2222222222222222, \"#7201a8\"], [0.3333333333333333, \"#9c179e\"], [0.4444444444444444, \"#bd3786\"], [0.5555555555555556, \"#d8576b\"], [0.6666666666666666, \"#ed7953\"], [0.7777777777777778, \"#fb9f3a\"], [0.8888888888888888, \"#fdca26\"], [1.0, \"#f0f921\"]]}, \"colorway\": [\"#636efa\", \"#EF553B\", \"#00cc96\", \"#ab63fa\", \"#FFA15A\", \"#19d3f3\", \"#FF6692\", \"#B6E880\", \"#FF97FF\", \"#FECB52\"], \"font\": {\"color\": \"#2a3f5f\"}, \"geo\": {\"bgcolor\": \"white\", \"lakecolor\": \"white\", \"landcolor\": \"#E5ECF6\", \"showlakes\": true, \"showland\": true, \"subunitcolor\": \"white\"}, \"hoverlabel\": {\"align\": \"left\"}, \"hovermode\": \"closest\", \"mapbox\": {\"style\": \"light\"}, \"paper_bgcolor\": \"white\", \"plot_bgcolor\": \"#E5ECF6\", \"polar\": {\"angularaxis\": {\"gridcolor\": \"white\", \"linecolor\": \"white\", \"ticks\": \"\"}, \"bgcolor\": \"#E5ECF6\", \"radialaxis\": {\"gridcolor\": \"white\", \"linecolor\": \"white\", \"ticks\": \"\"}}, \"scene\": {\"xaxis\": {\"backgroundcolor\": \"#E5ECF6\", \"gridcolor\": \"white\", \"gridwidth\": 2, \"linecolor\": \"white\", \"showbackground\": true, \"ticks\": \"\", \"zerolinecolor\": \"white\"}, \"yaxis\": {\"backgroundcolor\": \"#E5ECF6\", \"gridcolor\": \"white\", \"gridwidth\": 2, \"linecolor\": \"white\", \"showbackground\": true, \"ticks\": \"\", \"zerolinecolor\": \"white\"}, \"zaxis\": {\"backgroundcolor\": \"#E5ECF6\", \"gridcolor\": \"white\", \"gridwidth\": 2, \"linecolor\": \"white\", \"showbackground\": true, \"ticks\": \"\", \"zerolinecolor\": \"white\"}}, \"shapedefaults\": {\"line\": {\"color\": \"#2a3f5f\"}}, \"ternary\": {\"aaxis\": {\"gridcolor\": \"white\", \"linecolor\": \"white\", \"ticks\": \"\"}, \"baxis\": {\"gridcolor\": \"white\", \"linecolor\": \"white\", \"ticks\": \"\"}, \"bgcolor\": \"#E5ECF6\", \"caxis\": {\"gridcolor\": \"white\", \"linecolor\": \"white\", \"ticks\": \"\"}}, \"title\": {\"x\": 0.05}, \"xaxis\": {\"automargin\": true, \"gridcolor\": \"white\", \"linecolor\": \"white\", \"ticks\": \"\", \"title\": {\"standoff\": 15}, \"zerolinecolor\": \"white\", \"zerolinewidth\": 2}, \"yaxis\": {\"automargin\": true, \"gridcolor\": \"white\", \"linecolor\": \"white\", \"ticks\": \"\", \"title\": {\"standoff\": 15}, \"zerolinecolor\": \"white\", \"zerolinewidth\": 2}}}, \"title\": {\"text\": \"Sentiment Score\"}, \"xaxis\": {\"anchor\": \"y\", \"domain\": [0.0, 1.0], \"title\": {\"text\": \"sentiment\"}}, \"yaxis\": {\"anchor\": \"x\", \"domain\": [0.0, 1.0], \"title\": {\"text\": \"count\"}}},\n",
              "                        {\"responsive\": true}\n",
              "                    ).then(function(){\n",
              "                            \n",
              "var gd = document.getElementById('0301a30f-8e5f-4c96-bf06-d09e7b09ab0e');\n",
              "var x = new MutationObserver(function (mutations, observer) {{\n",
              "        var display = window.getComputedStyle(gd).display;\n",
              "        if (!display || display === 'none') {{\n",
              "            console.log([gd, 'removed!']);\n",
              "            Plotly.purge(gd);\n",
              "            observer.disconnect();\n",
              "        }}\n",
              "}});\n",
              "\n",
              "// Listen for the removal of the full notebook cells\n",
              "var notebookContainer = gd.closest('#notebook-container');\n",
              "if (notebookContainer) {{\n",
              "    x.observe(notebookContainer, {childList: true});\n",
              "}}\n",
              "\n",
              "// Listen for the clearing of the current output cell\n",
              "var outputEl = gd.closest('.output');\n",
              "if (outputEl) {{\n",
              "    x.observe(outputEl, {childList: true});\n",
              "}}\n",
              "\n",
              "                        })\n",
              "                };\n",
              "                \n",
              "            </script>\n",
              "        </div>\n",
              "</body>\n",
              "</html>"
            ]
          },
          "metadata": {
            "tags": []
          }
        }
      ]
    },
    {
      "cell_type": "code",
      "metadata": {
        "id": "tR8sI1qYwesJ"
      },
      "source": [
        "features = subway_sentiment.iloc[:, 2].values\n",
        "labels = subway_sentiment.iloc[:, 1].values"
      ],
      "execution_count": null,
      "outputs": []
    },
    {
      "cell_type": "code",
      "metadata": {
        "id": "CoGaf6cc5b69"
      },
      "source": [
        "\n",
        "processed_features = []\n",
        "\n",
        "for sentence in range(0, len(features)):\n",
        "    # Remove all the special characters\n",
        "    processed_feature = re.sub(r'\\W', ' ', str(features[sentence]))\n",
        "\n",
        "    # remove all single characters\n",
        "    processed_feature= re.sub(r'\\s+[a-zA-Z]\\s+', ' ', processed_feature)\n",
        "\n",
        "    # Remove single characters from the start\n",
        "    processed_feature = re.sub(r'\\^[a-zA-Z]\\s+', ' ', processed_feature) \n",
        "\n",
        "    # Substituting multiple spaces with single space\n",
        "    processed_feature = re.sub(r'\\s+', ' ', processed_feature, flags=re.I)\n",
        "\n",
        "    # Removing prefixed 'b'\n",
        "    processed_feature = re.sub(r'^b\\s+', '', processed_feature)\n",
        "\n",
        "    # Converting to Lowercase\n",
        "    processed_feature = processed_feature.lower()\n",
        "    processed_features.append(processed_feature)"
      ],
      "execution_count": null,
      "outputs": []
    },
    {
      "cell_type": "code",
      "metadata": {
        "id": "Jtyjm9Qa-Lfn"
      },
      "source": [
        "vectorizer = TfidfVectorizer (max_features=2500, min_df=7, max_df=0.8, stop_words=stopwords.words('english'))\n",
        "processed_features = vectorizer.fit_transform(processed_features).toarray()"
      ],
      "execution_count": null,
      "outputs": []
    },
    {
      "cell_type": "code",
      "metadata": {
        "id": "s85qoMTF_Dcj"
      },
      "source": [
        "X_train, X_test, y_train, y_test = train_test_split(processed_features, labels, test_size=0.2, random_state=0)"
      ],
      "execution_count": null,
      "outputs": []
    },
    {
      "cell_type": "code",
      "metadata": {
        "colab": {
          "base_uri": "https://localhost:8080/"
        },
        "id": "RQ87w82f_PZJ",
        "outputId": "b89e324c-88bc-4094-b4db-edd289163496"
      },
      "source": [
        "from sklearn.ensemble import RandomForestClassifier\n",
        "text_classifier = RandomForestClassifier(n_estimators=200, random_state=0)\n",
        "text_classifier.fit(X_train, y_train)\n",
        "predictions = text_classifier.predict(X_test)\n",
        "\n",
        "print(confusion_matrix(y_test,predictions))\n",
        "print(classification_report(y_test,predictions))\n",
        "print(accuracy_score(y_test, predictions))"
      ],
      "execution_count": null,
      "outputs": [
        {
          "output_type": "stream",
          "text": [
            "[[806   0  59]\n",
            " [ 77   2  91]\n",
            " [ 81   0 459]]\n",
            "              precision    recall  f1-score   support\n",
            "\n",
            "          -1       0.84      0.93      0.88       865\n",
            "           0       1.00      0.01      0.02       170\n",
            "           1       0.75      0.85      0.80       540\n",
            "\n",
            "    accuracy                           0.80      1575\n",
            "   macro avg       0.86      0.60      0.57      1575\n",
            "weighted avg       0.83      0.80      0.76      1575\n",
            "\n",
            "0.8044444444444444\n"
          ],
          "name": "stdout"
        }
      ]
    },
    {
      "cell_type": "code",
      "metadata": {
        "colab": {
          "base_uri": "https://localhost:8080/"
        },
        "id": "jry77enPdn1x",
        "outputId": "947308c6-8865-433d-9035-2c9776adaab7"
      },
      "source": [
        "from sklearn.tree import DecisionTreeClassifier \n",
        "dtree_model = DecisionTreeClassifier(max_depth = 4).fit(X_train, y_train) \n",
        "dtree_predictions = dtree_model.predict(X_test) \n",
        "\n",
        "print(confusion_matrix(y_test,dtree_predictions))\n",
        "print(classification_report(y_test,dtree_predictions))\n",
        "print(accuracy_score(y_test, dtree_predictions))"
      ],
      "execution_count": null,
      "outputs": [
        {
          "output_type": "stream",
          "text": [
            "[[736   0 129]\n",
            " [ 91   0  79]\n",
            " [160   1 379]]\n",
            "              precision    recall  f1-score   support\n",
            "\n",
            "          -1       0.75      0.85      0.79       865\n",
            "           0       0.00      0.00      0.00       170\n",
            "           1       0.65      0.70      0.67       540\n",
            "\n",
            "    accuracy                           0.71      1575\n",
            "   macro avg       0.46      0.52      0.49      1575\n",
            "weighted avg       0.63      0.71      0.67      1575\n",
            "\n",
            "0.707936507936508\n"
          ],
          "name": "stdout"
        }
      ]
    },
    {
      "cell_type": "code",
      "metadata": {
        "colab": {
          "base_uri": "https://localhost:8080/"
        },
        "id": "zx_ep37dz-Hn",
        "outputId": "fee5b399-585f-4e8b-fdc9-f8b81e3d4b8a"
      },
      "source": [
        "from sklearn.svm import SVC \n",
        "svm_model_linear = SVC(kernel = 'linear', C = 1).fit(X_train, y_train) \n",
        "svm_predictions = svm_model_linear.predict(X_test) \n",
        "  \n",
        "print(confusion_matrix(y_test,svm_predictions))\n",
        "print(classification_report(y_test,svm_predictions))\n",
        "print(accuracy_score(y_test, svm_predictions))"
      ],
      "execution_count": null,
      "outputs": [
        {
          "output_type": "stream",
          "text": [
            "[[808  19  38]\n",
            " [ 59  35  76]\n",
            " [ 72  26 442]]\n",
            "              precision    recall  f1-score   support\n",
            "\n",
            "          -1       0.86      0.93      0.90       865\n",
            "           0       0.44      0.21      0.28       170\n",
            "           1       0.79      0.82      0.81       540\n",
            "\n",
            "    accuracy                           0.82      1575\n",
            "   macro avg       0.70      0.65      0.66      1575\n",
            "weighted avg       0.79      0.82      0.80      1575\n",
            "\n",
            "0.8158730158730159\n"
          ],
          "name": "stdout"
        }
      ]
    },
    {
      "cell_type": "code",
      "metadata": {
        "colab": {
          "base_uri": "https://localhost:8080/"
        },
        "id": "0JUsHKbL0YbE",
        "outputId": "14f8b081-10f9-403c-a224-8e8907e8df71"
      },
      "source": [
        "from sklearn.neighbors import KNeighborsClassifier \n",
        "knn = KNeighborsClassifier(n_neighbors = 7).fit(X_train, y_train) \n",
        "knn_predictions = knn.predict(X_test)  \n",
        "\n",
        "print(confusion_matrix(y_test,knn_predictions))\n",
        "print(classification_report(y_test,knn_predictions))\n",
        "print(accuracy_score(y_test, knn_predictions))"
      ],
      "execution_count": null,
      "outputs": [
        {
          "output_type": "stream",
          "text": [
            "[[755  70  40]\n",
            " [ 83  59  28]\n",
            " [128 138 274]]\n",
            "              precision    recall  f1-score   support\n",
            "\n",
            "          -1       0.78      0.87      0.82       865\n",
            "           0       0.22      0.35      0.27       170\n",
            "           1       0.80      0.51      0.62       540\n",
            "\n",
            "    accuracy                           0.69      1575\n",
            "   macro avg       0.60      0.58      0.57      1575\n",
            "weighted avg       0.73      0.69      0.70      1575\n",
            "\n",
            "0.6907936507936508\n"
          ],
          "name": "stdout"
        }
      ]
    },
    {
      "cell_type": "code",
      "metadata": {
        "colab": {
          "base_uri": "https://localhost:8080/"
        },
        "id": "FlUNI_Bf0fJi",
        "outputId": "81299c49-4280-4234-ced0-71ce185c89b1"
      },
      "source": [
        "from sklearn.naive_bayes import GaussianNB \n",
        "gnb = GaussianNB().fit(X_train, y_train) \n",
        "gnb_predictions = gnb.predict(X_test) \n",
        "\n",
        "print(confusion_matrix(y_test,gnb_predictions))\n",
        "print(classification_report(y_test,gnb_predictions))\n",
        "print(accuracy_score(y_test, gnb_predictions))"
      ],
      "execution_count": null,
      "outputs": [
        {
          "output_type": "stream",
          "text": [
            "[[447 331  87]\n",
            " [ 36  95  39]\n",
            " [ 51 298 191]]\n",
            "              precision    recall  f1-score   support\n",
            "\n",
            "          -1       0.84      0.52      0.64       865\n",
            "           0       0.13      0.56      0.21       170\n",
            "           1       0.60      0.35      0.45       540\n",
            "\n",
            "    accuracy                           0.47      1575\n",
            "   macro avg       0.52      0.48      0.43      1575\n",
            "weighted avg       0.68      0.47      0.53      1575\n",
            "\n",
            "0.4653968253968254\n"
          ],
          "name": "stdout"
        }
      ]
    },
    {
      "cell_type": "markdown",
      "metadata": {
        "id": "0IO4TFgZ-kLm"
      },
      "source": [
        "# "
      ]
    },
    {
      "cell_type": "markdown",
      "metadata": {
        "id": "RcQ63bOlGA8s"
      },
      "source": [
        "# Recommender"
      ]
    },
    {
      "cell_type": "code",
      "metadata": {
        "colab": {
          "base_uri": "https://localhost:8080/"
        },
        "id": "9TayE-iPGGX9",
        "outputId": "4c1e22ed-d38b-4a33-da5b-d84d0d3d8425"
      },
      "source": [
        "user = spark.read.json(\"/content/drive/Shared drives/CS 631 Project/yelp_academic_dataset_user.json\")\n",
        "user.cache()"
      ],
      "execution_count": null,
      "outputs": [
        {
          "output_type": "execute_result",
          "data": {
            "text/plain": [
              "DataFrame[average_stars: double, compliment_cool: bigint, compliment_cute: bigint, compliment_funny: bigint, compliment_hot: bigint, compliment_list: bigint, compliment_more: bigint, compliment_note: bigint, compliment_photos: bigint, compliment_plain: bigint, compliment_profile: bigint, compliment_writer: bigint, cool: bigint, elite: string, fans: bigint, friends: string, funny: bigint, name: string, review_count: bigint, useful: bigint, user_id: string, yelping_since: string]"
            ]
          },
          "metadata": {
            "tags": []
          },
          "execution_count": 0
        }
      ]
    },
    {
      "cell_type": "code",
      "metadata": {
        "colab": {
          "base_uri": "https://localhost:8080/"
        },
        "id": "A-GGVxy6Gx42",
        "outputId": "f7073998-5a88-4a7e-e3f0-0a3808dbb9fc"
      },
      "source": [
        "user.printSchema()"
      ],
      "execution_count": null,
      "outputs": [
        {
          "output_type": "stream",
          "text": [
            "root\n",
            " |-- average_stars: double (nullable = true)\n",
            " |-- compliment_cool: long (nullable = true)\n",
            " |-- compliment_cute: long (nullable = true)\n",
            " |-- compliment_funny: long (nullable = true)\n",
            " |-- compliment_hot: long (nullable = true)\n",
            " |-- compliment_list: long (nullable = true)\n",
            " |-- compliment_more: long (nullable = true)\n",
            " |-- compliment_note: long (nullable = true)\n",
            " |-- compliment_photos: long (nullable = true)\n",
            " |-- compliment_plain: long (nullable = true)\n",
            " |-- compliment_profile: long (nullable = true)\n",
            " |-- compliment_writer: long (nullable = true)\n",
            " |-- cool: long (nullable = true)\n",
            " |-- elite: string (nullable = true)\n",
            " |-- fans: long (nullable = true)\n",
            " |-- friends: string (nullable = true)\n",
            " |-- funny: long (nullable = true)\n",
            " |-- name: string (nullable = true)\n",
            " |-- review_count: long (nullable = true)\n",
            " |-- useful: long (nullable = true)\n",
            " |-- user_id: string (nullable = true)\n",
            " |-- yelping_since: string (nullable = true)\n",
            "\n"
          ],
          "name": "stdout"
        }
      ]
    },
    {
      "cell_type": "code",
      "metadata": {
        "colab": {
          "base_uri": "https://localhost:8080/"
        },
        "id": "YzgD6VKaKqTZ",
        "outputId": "130ce4eb-6d1e-48f3-c468-4457298b751e"
      },
      "source": [
        "tip = spark.read.json(\"/content/drive/Shared drives/CS 631 Project/yelp_academic_dataset_tip.json\")\n",
        "tip.cache()\n",
        "tip.printSchema()\n",
        "\n"
      ],
      "execution_count": null,
      "outputs": [
        {
          "output_type": "stream",
          "text": [
            "root\n",
            " |-- business_id: string (nullable = true)\n",
            " |-- compliment_count: long (nullable = true)\n",
            " |-- date: string (nullable = true)\n",
            " |-- text: string (nullable = true)\n",
            " |-- user_id: string (nullable = true)\n",
            "\n"
          ],
          "name": "stdout"
        }
      ]
    },
    {
      "cell_type": "code",
      "metadata": {
        "colab": {
          "base_uri": "https://localhost:8080/",
          "height": 341
        },
        "id": "R7bfluGFZbu5",
        "outputId": "899d7c27-575b-4810-9c0a-8d32d2d7e71c"
      },
      "source": [
        "#user_review = review.filter(\"user_id\"== \"zZUnPeh2hEp0WydbAZEOOg\")\n",
        "user_review = review.filter(review.user_id== \"ntlvfPzc8eglqvk92iDIAw\")\n",
        "user_review.show()"
      ],
      "execution_count": null,
      "outputs": [
        {
          "output_type": "error",
          "ename": "KeyboardInterrupt",
          "evalue": "ignored",
          "traceback": [
            "\u001b[0;31m---------------------------------------------------------------------------\u001b[0m",
            "\u001b[0;31mKeyboardInterrupt\u001b[0m                         Traceback (most recent call last)",
            "\u001b[0;32m<ipython-input-19-71f12e0b6939>\u001b[0m in \u001b[0;36m<module>\u001b[0;34m()\u001b[0m\n\u001b[1;32m      1\u001b[0m \u001b[0;31m#user_review = review.filter(\"user_id\"== \"zZUnPeh2hEp0WydbAZEOOg\")\u001b[0m\u001b[0;34m\u001b[0m\u001b[0;34m\u001b[0m\u001b[0;34m\u001b[0m\u001b[0m\n\u001b[1;32m      2\u001b[0m \u001b[0muser_review\u001b[0m \u001b[0;34m=\u001b[0m \u001b[0mreview\u001b[0m\u001b[0;34m.\u001b[0m\u001b[0mfilter\u001b[0m\u001b[0;34m(\u001b[0m\u001b[0mreview\u001b[0m\u001b[0;34m.\u001b[0m\u001b[0muser_id\u001b[0m\u001b[0;34m==\u001b[0m \u001b[0;34m\"ntlvfPzc8eglqvk92iDIAw\"\u001b[0m\u001b[0;34m)\u001b[0m\u001b[0;34m\u001b[0m\u001b[0;34m\u001b[0m\u001b[0m\n\u001b[0;32m----> 3\u001b[0;31m \u001b[0muser_review\u001b[0m\u001b[0;34m.\u001b[0m\u001b[0mshow\u001b[0m\u001b[0;34m(\u001b[0m\u001b[0;34m)\u001b[0m\u001b[0;34m\u001b[0m\u001b[0;34m\u001b[0m\u001b[0m\n\u001b[0m",
            "\u001b[0;32m/usr/local/lib/python3.6/dist-packages/pyspark/sql/dataframe.py\u001b[0m in \u001b[0;36mshow\u001b[0;34m(self, n, truncate, vertical)\u001b[0m\n\u001b[1;32m    438\u001b[0m         \"\"\"\n\u001b[1;32m    439\u001b[0m         \u001b[0;32mif\u001b[0m \u001b[0misinstance\u001b[0m\u001b[0;34m(\u001b[0m\u001b[0mtruncate\u001b[0m\u001b[0;34m,\u001b[0m \u001b[0mbool\u001b[0m\u001b[0;34m)\u001b[0m \u001b[0;32mand\u001b[0m \u001b[0mtruncate\u001b[0m\u001b[0;34m:\u001b[0m\u001b[0;34m\u001b[0m\u001b[0;34m\u001b[0m\u001b[0m\n\u001b[0;32m--> 440\u001b[0;31m             \u001b[0mprint\u001b[0m\u001b[0;34m(\u001b[0m\u001b[0mself\u001b[0m\u001b[0;34m.\u001b[0m\u001b[0m_jdf\u001b[0m\u001b[0;34m.\u001b[0m\u001b[0mshowString\u001b[0m\u001b[0;34m(\u001b[0m\u001b[0mn\u001b[0m\u001b[0;34m,\u001b[0m \u001b[0;36m20\u001b[0m\u001b[0;34m,\u001b[0m \u001b[0mvertical\u001b[0m\u001b[0;34m)\u001b[0m\u001b[0;34m)\u001b[0m\u001b[0;34m\u001b[0m\u001b[0;34m\u001b[0m\u001b[0m\n\u001b[0m\u001b[1;32m    441\u001b[0m         \u001b[0;32melse\u001b[0m\u001b[0;34m:\u001b[0m\u001b[0;34m\u001b[0m\u001b[0;34m\u001b[0m\u001b[0m\n\u001b[1;32m    442\u001b[0m             \u001b[0mprint\u001b[0m\u001b[0;34m(\u001b[0m\u001b[0mself\u001b[0m\u001b[0;34m.\u001b[0m\u001b[0m_jdf\u001b[0m\u001b[0;34m.\u001b[0m\u001b[0mshowString\u001b[0m\u001b[0;34m(\u001b[0m\u001b[0mn\u001b[0m\u001b[0;34m,\u001b[0m \u001b[0mint\u001b[0m\u001b[0;34m(\u001b[0m\u001b[0mtruncate\u001b[0m\u001b[0;34m)\u001b[0m\u001b[0;34m,\u001b[0m \u001b[0mvertical\u001b[0m\u001b[0;34m)\u001b[0m\u001b[0;34m)\u001b[0m\u001b[0;34m\u001b[0m\u001b[0;34m\u001b[0m\u001b[0m\n",
            "\u001b[0;32m/usr/local/lib/python3.6/dist-packages/py4j/java_gateway.py\u001b[0m in \u001b[0;36m__call__\u001b[0;34m(self, *args)\u001b[0m\n\u001b[1;32m   1301\u001b[0m             \u001b[0mproto\u001b[0m\u001b[0;34m.\u001b[0m\u001b[0mEND_COMMAND_PART\u001b[0m\u001b[0;34m\u001b[0m\u001b[0;34m\u001b[0m\u001b[0m\n\u001b[1;32m   1302\u001b[0m \u001b[0;34m\u001b[0m\u001b[0m\n\u001b[0;32m-> 1303\u001b[0;31m         \u001b[0manswer\u001b[0m \u001b[0;34m=\u001b[0m \u001b[0mself\u001b[0m\u001b[0;34m.\u001b[0m\u001b[0mgateway_client\u001b[0m\u001b[0;34m.\u001b[0m\u001b[0msend_command\u001b[0m\u001b[0;34m(\u001b[0m\u001b[0mcommand\u001b[0m\u001b[0;34m)\u001b[0m\u001b[0;34m\u001b[0m\u001b[0;34m\u001b[0m\u001b[0m\n\u001b[0m\u001b[1;32m   1304\u001b[0m         return_value = get_return_value(\n\u001b[1;32m   1305\u001b[0m             answer, self.gateway_client, self.target_id, self.name)\n",
            "\u001b[0;32m/usr/local/lib/python3.6/dist-packages/py4j/java_gateway.py\u001b[0m in \u001b[0;36msend_command\u001b[0;34m(self, command, retry, binary)\u001b[0m\n\u001b[1;32m   1031\u001b[0m         \u001b[0mconnection\u001b[0m \u001b[0;34m=\u001b[0m \u001b[0mself\u001b[0m\u001b[0;34m.\u001b[0m\u001b[0m_get_connection\u001b[0m\u001b[0;34m(\u001b[0m\u001b[0;34m)\u001b[0m\u001b[0;34m\u001b[0m\u001b[0;34m\u001b[0m\u001b[0m\n\u001b[1;32m   1032\u001b[0m         \u001b[0;32mtry\u001b[0m\u001b[0;34m:\u001b[0m\u001b[0;34m\u001b[0m\u001b[0;34m\u001b[0m\u001b[0m\n\u001b[0;32m-> 1033\u001b[0;31m             \u001b[0mresponse\u001b[0m \u001b[0;34m=\u001b[0m \u001b[0mconnection\u001b[0m\u001b[0;34m.\u001b[0m\u001b[0msend_command\u001b[0m\u001b[0;34m(\u001b[0m\u001b[0mcommand\u001b[0m\u001b[0;34m)\u001b[0m\u001b[0;34m\u001b[0m\u001b[0;34m\u001b[0m\u001b[0m\n\u001b[0m\u001b[1;32m   1034\u001b[0m             \u001b[0;32mif\u001b[0m \u001b[0mbinary\u001b[0m\u001b[0;34m:\u001b[0m\u001b[0;34m\u001b[0m\u001b[0;34m\u001b[0m\u001b[0m\n\u001b[1;32m   1035\u001b[0m                 \u001b[0;32mreturn\u001b[0m \u001b[0mresponse\u001b[0m\u001b[0;34m,\u001b[0m \u001b[0mself\u001b[0m\u001b[0;34m.\u001b[0m\u001b[0m_create_connection_guard\u001b[0m\u001b[0;34m(\u001b[0m\u001b[0mconnection\u001b[0m\u001b[0;34m)\u001b[0m\u001b[0;34m\u001b[0m\u001b[0;34m\u001b[0m\u001b[0m\n",
            "\u001b[0;32m/usr/local/lib/python3.6/dist-packages/py4j/java_gateway.py\u001b[0m in \u001b[0;36msend_command\u001b[0;34m(self, command)\u001b[0m\n\u001b[1;32m   1198\u001b[0m \u001b[0;34m\u001b[0m\u001b[0m\n\u001b[1;32m   1199\u001b[0m         \u001b[0;32mtry\u001b[0m\u001b[0;34m:\u001b[0m\u001b[0;34m\u001b[0m\u001b[0;34m\u001b[0m\u001b[0m\n\u001b[0;32m-> 1200\u001b[0;31m             \u001b[0manswer\u001b[0m \u001b[0;34m=\u001b[0m \u001b[0msmart_decode\u001b[0m\u001b[0;34m(\u001b[0m\u001b[0mself\u001b[0m\u001b[0;34m.\u001b[0m\u001b[0mstream\u001b[0m\u001b[0;34m.\u001b[0m\u001b[0mreadline\u001b[0m\u001b[0;34m(\u001b[0m\u001b[0;34m)\u001b[0m\u001b[0;34m[\u001b[0m\u001b[0;34m:\u001b[0m\u001b[0;34m-\u001b[0m\u001b[0;36m1\u001b[0m\u001b[0;34m]\u001b[0m\u001b[0;34m)\u001b[0m\u001b[0;34m\u001b[0m\u001b[0;34m\u001b[0m\u001b[0m\n\u001b[0m\u001b[1;32m   1201\u001b[0m             \u001b[0mlogger\u001b[0m\u001b[0;34m.\u001b[0m\u001b[0mdebug\u001b[0m\u001b[0;34m(\u001b[0m\u001b[0;34m\"Answer received: {0}\"\u001b[0m\u001b[0;34m.\u001b[0m\u001b[0mformat\u001b[0m\u001b[0;34m(\u001b[0m\u001b[0manswer\u001b[0m\u001b[0;34m)\u001b[0m\u001b[0;34m)\u001b[0m\u001b[0;34m\u001b[0m\u001b[0;34m\u001b[0m\u001b[0m\n\u001b[1;32m   1202\u001b[0m             \u001b[0;32mif\u001b[0m \u001b[0manswer\u001b[0m\u001b[0;34m.\u001b[0m\u001b[0mstartswith\u001b[0m\u001b[0;34m(\u001b[0m\u001b[0mproto\u001b[0m\u001b[0;34m.\u001b[0m\u001b[0mRETURN_MESSAGE\u001b[0m\u001b[0;34m)\u001b[0m\u001b[0;34m:\u001b[0m\u001b[0;34m\u001b[0m\u001b[0;34m\u001b[0m\u001b[0m\n",
            "\u001b[0;32m/usr/lib/python3.6/socket.py\u001b[0m in \u001b[0;36mreadinto\u001b[0;34m(self, b)\u001b[0m\n\u001b[1;32m    584\u001b[0m         \u001b[0;32mwhile\u001b[0m \u001b[0;32mTrue\u001b[0m\u001b[0;34m:\u001b[0m\u001b[0;34m\u001b[0m\u001b[0;34m\u001b[0m\u001b[0m\n\u001b[1;32m    585\u001b[0m             \u001b[0;32mtry\u001b[0m\u001b[0;34m:\u001b[0m\u001b[0;34m\u001b[0m\u001b[0;34m\u001b[0m\u001b[0m\n\u001b[0;32m--> 586\u001b[0;31m                 \u001b[0;32mreturn\u001b[0m \u001b[0mself\u001b[0m\u001b[0;34m.\u001b[0m\u001b[0m_sock\u001b[0m\u001b[0;34m.\u001b[0m\u001b[0mrecv_into\u001b[0m\u001b[0;34m(\u001b[0m\u001b[0mb\u001b[0m\u001b[0;34m)\u001b[0m\u001b[0;34m\u001b[0m\u001b[0;34m\u001b[0m\u001b[0m\n\u001b[0m\u001b[1;32m    587\u001b[0m             \u001b[0;32mexcept\u001b[0m \u001b[0mtimeout\u001b[0m\u001b[0;34m:\u001b[0m\u001b[0;34m\u001b[0m\u001b[0;34m\u001b[0m\u001b[0m\n\u001b[1;32m    588\u001b[0m                 \u001b[0mself\u001b[0m\u001b[0;34m.\u001b[0m\u001b[0m_timeout_occurred\u001b[0m \u001b[0;34m=\u001b[0m \u001b[0;32mTrue\u001b[0m\u001b[0;34m\u001b[0m\u001b[0;34m\u001b[0m\u001b[0m\n",
            "\u001b[0;31mKeyboardInterrupt\u001b[0m: "
          ]
        }
      ]
    },
    {
      "cell_type": "code",
      "metadata": {
        "colab": {
          "base_uri": "https://localhost:8080/"
        },
        "id": "6cQrYsG9eUoU",
        "outputId": "f7d9e17a-e5e1-41a8-d391-735366caf2be"
      },
      "source": [
        "#zZUnPeh2hEp0WydbAZEOOg\n",
        "user.select(\"user_id\",\"review_count\").show(20,False)"
      ],
      "execution_count": null,
      "outputs": [
        {
          "output_type": "stream",
          "text": [
            "+----------------------+------------+\n",
            "|user_id               |review_count|\n",
            "+----------------------+------------+\n",
            "|ntlvfPzc8eglqvk92iDIAw|553         |\n",
            "|FOBRPlBHa3WPHFB5qYDlVg|564         |\n",
            "|zZUnPeh2hEp0WydbAZEOOg|60          |\n",
            "|QaELAmRcDc5TfJEylaaP8g|206         |\n",
            "|xvu8G900tezTzbbfqmTKvA|485         |\n",
            "|z5_82komKV3mI4ASGe2-FQ|186         |\n",
            "|ttumcu6hWshk_EJVWrduDg|12          |\n",
            "|f4_MRNHvN-yRn7EA8YWRxg|822         |\n",
            "|UYACF30806j2mfbB5vdmJA|14          |\n",
            "|QG13XBbgHWydzThRBGJtyw|218         |\n",
            "|f6YuZP6iennHFVlnFJOXLQ|5           |\n",
            "|I_6wY8_RsewziNnKhGZg4g|405         |\n",
            "|q-v8elVPvKz0KvK69QSj1Q|666         |\n",
            "|HwPGLzF_uXB3MF8bc5u5dg|6           |\n",
            "|y4UuVowA9i3zj2hHyRMfHw|51          |\n",
            "|1WBxJ2r3A2QYfRSEzgcmkQ|315         |\n",
            "|-TT5e-YQU9xLb1JAGCGkQw|180         |\n",
            "|6bbHSJ0PrgSxh7e5nigKMw|15          |\n",
            "|4VmuXuSRhv5UxYUy3tMpiQ|106         |\n",
            "|pVU2DdtBFppBAX5G5t3rcw|193         |\n",
            "+----------------------+------------+\n",
            "only showing top 20 rows\n",
            "\n"
          ],
          "name": "stdout"
        }
      ]
    }
  ]
}